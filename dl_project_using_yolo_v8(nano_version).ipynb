{
  "nbformat": 4,
  "nbformat_minor": 0,
  "metadata": {
    "colab": {
      "provenance": [],
      "gpuType": "T4",
      "include_colab_link": true
    },
    "kernelspec": {
      "name": "python3",
      "display_name": "Python 3"
    },
    "language_info": {
      "name": "python"
    },
    "accelerator": "GPU"
  },
  "cells": [
    {
      "cell_type": "markdown",
      "metadata": {
        "id": "view-in-github",
        "colab_type": "text"
      },
      "source": [
        "<a href=\"https://colab.research.google.com/github/DRVAmarnath2004/AI-and-java-Projects/blob/main/dl_project_using_yolo_v8(nano_version).ipynb\" target=\"_parent\"><img src=\"https://colab.research.google.com/assets/colab-badge.svg\" alt=\"Open In Colab\"/></a>"
      ]
    },
    {
      "cell_type": "code",
      "source": [
        "from google.colab import drive\n",
        "drive.mount('/content/drive')"
      ],
      "metadata": {
        "colab": {
          "base_uri": "https://localhost:8080/"
        },
        "id": "Zx4UuP86VnLH",
        "outputId": "6ae3c433-e144-4cbe-ebfe-b00e52dcf2a1"
      },
      "execution_count": null,
      "outputs": [
        {
          "output_type": "stream",
          "name": "stdout",
          "text": [
            "Drive already mounted at /content/drive; to attempt to forcibly remount, call drive.mount(\"/content/drive\", force_remount=True).\n"
          ]
        }
      ]
    },
    {
      "cell_type": "code",
      "source": [
        "!pip install ultralytics\n"
      ],
      "metadata": {
        "colab": {
          "base_uri": "https://localhost:8080/"
        },
        "id": "Q2ywz6g7W0Qk",
        "outputId": "bab31516-6e6d-4a5f-a9a3-1e4367b4d536"
      },
      "execution_count": null,
      "outputs": [
        {
          "output_type": "stream",
          "name": "stdout",
          "text": [
            "Collecting ultralytics\n",
            "  Downloading ultralytics-8.3.34-py3-none-any.whl.metadata (35 kB)\n",
            "Requirement already satisfied: numpy>=1.23.0 in /usr/local/lib/python3.10/dist-packages (from ultralytics) (1.26.4)\n",
            "Requirement already satisfied: matplotlib>=3.3.0 in /usr/local/lib/python3.10/dist-packages (from ultralytics) (3.8.0)\n",
            "Requirement already satisfied: opencv-python>=4.6.0 in /usr/local/lib/python3.10/dist-packages (from ultralytics) (4.10.0.84)\n",
            "Requirement already satisfied: pillow>=7.1.2 in /usr/local/lib/python3.10/dist-packages (from ultralytics) (11.0.0)\n",
            "Requirement already satisfied: pyyaml>=5.3.1 in /usr/local/lib/python3.10/dist-packages (from ultralytics) (6.0.2)\n",
            "Requirement already satisfied: requests>=2.23.0 in /usr/local/lib/python3.10/dist-packages (from ultralytics) (2.32.3)\n",
            "Requirement already satisfied: scipy>=1.4.1 in /usr/local/lib/python3.10/dist-packages (from ultralytics) (1.13.1)\n",
            "Requirement already satisfied: torch>=1.8.0 in /usr/local/lib/python3.10/dist-packages (from ultralytics) (2.5.1+cu121)\n",
            "Requirement already satisfied: torchvision>=0.9.0 in /usr/local/lib/python3.10/dist-packages (from ultralytics) (0.20.1+cu121)\n",
            "Requirement already satisfied: tqdm>=4.64.0 in /usr/local/lib/python3.10/dist-packages (from ultralytics) (4.66.6)\n",
            "Requirement already satisfied: psutil in /usr/local/lib/python3.10/dist-packages (from ultralytics) (5.9.5)\n",
            "Requirement already satisfied: py-cpuinfo in /usr/local/lib/python3.10/dist-packages (from ultralytics) (9.0.0)\n",
            "Requirement already satisfied: pandas>=1.1.4 in /usr/local/lib/python3.10/dist-packages (from ultralytics) (2.2.2)\n",
            "Requirement already satisfied: seaborn>=0.11.0 in /usr/local/lib/python3.10/dist-packages (from ultralytics) (0.13.2)\n",
            "Collecting ultralytics-thop>=2.0.0 (from ultralytics)\n",
            "  Downloading ultralytics_thop-2.0.12-py3-none-any.whl.metadata (9.4 kB)\n",
            "Requirement already satisfied: contourpy>=1.0.1 in /usr/local/lib/python3.10/dist-packages (from matplotlib>=3.3.0->ultralytics) (1.3.1)\n",
            "Requirement already satisfied: cycler>=0.10 in /usr/local/lib/python3.10/dist-packages (from matplotlib>=3.3.0->ultralytics) (0.12.1)\n",
            "Requirement already satisfied: fonttools>=4.22.0 in /usr/local/lib/python3.10/dist-packages (from matplotlib>=3.3.0->ultralytics) (4.54.1)\n",
            "Requirement already satisfied: kiwisolver>=1.0.1 in /usr/local/lib/python3.10/dist-packages (from matplotlib>=3.3.0->ultralytics) (1.4.7)\n",
            "Requirement already satisfied: packaging>=20.0 in /usr/local/lib/python3.10/dist-packages (from matplotlib>=3.3.0->ultralytics) (24.2)\n",
            "Requirement already satisfied: pyparsing>=2.3.1 in /usr/local/lib/python3.10/dist-packages (from matplotlib>=3.3.0->ultralytics) (3.2.0)\n",
            "Requirement already satisfied: python-dateutil>=2.7 in /usr/local/lib/python3.10/dist-packages (from matplotlib>=3.3.0->ultralytics) (2.8.2)\n",
            "Requirement already satisfied: pytz>=2020.1 in /usr/local/lib/python3.10/dist-packages (from pandas>=1.1.4->ultralytics) (2024.2)\n",
            "Requirement already satisfied: tzdata>=2022.7 in /usr/local/lib/python3.10/dist-packages (from pandas>=1.1.4->ultralytics) (2024.2)\n",
            "Requirement already satisfied: charset-normalizer<4,>=2 in /usr/local/lib/python3.10/dist-packages (from requests>=2.23.0->ultralytics) (3.4.0)\n",
            "Requirement already satisfied: idna<4,>=2.5 in /usr/local/lib/python3.10/dist-packages (from requests>=2.23.0->ultralytics) (3.10)\n",
            "Requirement already satisfied: urllib3<3,>=1.21.1 in /usr/local/lib/python3.10/dist-packages (from requests>=2.23.0->ultralytics) (2.2.3)\n",
            "Requirement already satisfied: certifi>=2017.4.17 in /usr/local/lib/python3.10/dist-packages (from requests>=2.23.0->ultralytics) (2024.8.30)\n",
            "Requirement already satisfied: filelock in /usr/local/lib/python3.10/dist-packages (from torch>=1.8.0->ultralytics) (3.16.1)\n",
            "Requirement already satisfied: typing-extensions>=4.8.0 in /usr/local/lib/python3.10/dist-packages (from torch>=1.8.0->ultralytics) (4.12.2)\n",
            "Requirement already satisfied: networkx in /usr/local/lib/python3.10/dist-packages (from torch>=1.8.0->ultralytics) (3.4.2)\n",
            "Requirement already satisfied: jinja2 in /usr/local/lib/python3.10/dist-packages (from torch>=1.8.0->ultralytics) (3.1.4)\n",
            "Requirement already satisfied: fsspec in /usr/local/lib/python3.10/dist-packages (from torch>=1.8.0->ultralytics) (2024.10.0)\n",
            "Requirement already satisfied: sympy==1.13.1 in /usr/local/lib/python3.10/dist-packages (from torch>=1.8.0->ultralytics) (1.13.1)\n",
            "Requirement already satisfied: mpmath<1.4,>=1.1.0 in /usr/local/lib/python3.10/dist-packages (from sympy==1.13.1->torch>=1.8.0->ultralytics) (1.3.0)\n",
            "Requirement already satisfied: six>=1.5 in /usr/local/lib/python3.10/dist-packages (from python-dateutil>=2.7->matplotlib>=3.3.0->ultralytics) (1.16.0)\n",
            "Requirement already satisfied: MarkupSafe>=2.0 in /usr/local/lib/python3.10/dist-packages (from jinja2->torch>=1.8.0->ultralytics) (3.0.2)\n",
            "Downloading ultralytics-8.3.34-py3-none-any.whl (887 kB)\n",
            "\u001b[2K   \u001b[90m━━━━━━━━━━━━━━━━━━━━━━━━━━━━━━━━━━━━━━━━\u001b[0m \u001b[32m887.4/887.4 kB\u001b[0m \u001b[31m38.8 MB/s\u001b[0m eta \u001b[36m0:00:00\u001b[0m\n",
            "\u001b[?25hDownloading ultralytics_thop-2.0.12-py3-none-any.whl (26 kB)\n",
            "Installing collected packages: ultralytics-thop, ultralytics\n",
            "Successfully installed ultralytics-8.3.34 ultralytics-thop-2.0.12\n"
          ]
        }
      ]
    },
    {
      "cell_type": "code",
      "source": [
        "from ultralytics import YOLO\n",
        "import os"
      ],
      "metadata": {
        "colab": {
          "base_uri": "https://localhost:8080/"
        },
        "id": "iIQLl6hTXPp_",
        "outputId": "8b69a286-42c8-4dbb-86f5-7e63a006cbdc"
      },
      "execution_count": null,
      "outputs": [
        {
          "output_type": "stream",
          "name": "stdout",
          "text": [
            "Creating new Ultralytics Settings v0.0.6 file ✅ \n",
            "View Ultralytics Settings with 'yolo settings' or at '/root/.config/Ultralytics/settings.json'\n",
            "Update Settings with 'yolo settings key=value', i.e. 'yolo settings runs_dir=path/to/dir'. For help see https://docs.ultralytics.com/quickstart/#ultralytics-settings.\n"
          ]
        }
      ]
    },
    {
      "cell_type": "code",
      "source": [
        "def check_dataset_structure(dataset_path):\n",
        "    \"\"\"\n",
        "    Verifies that the dataset has the required YOLO format structure.\n",
        "    \"\"\"\n",
        "    required_folders = [\n",
        "        'train/images', 'train/labels',\n",
        "        'valid/images', 'valid/labels',\n",
        "        'test/images', 'test/labels'\n",
        "    ]\n",
        "    for folder in required_folders:\n",
        "        full_path = os.path.join(dataset_path, folder)\n",
        "        if not os.path.exists(full_path):\n",
        "            raise FileNotFoundError(f\"Required folder '{folder}' is missing in {dataset_path}.\")\n",
        "    print(\"Dataset structure is correct.\")\n",
        "\n",
        "# Set dataset and configuration file paths\n",
        "dataset_path = '/content/drive/MyDrive/brain tumor classification.v1i.yolov8'\n",
        "yaml_file = os.path.join(dataset_path, 'brain_tumor.yaml')\n",
        "\n",
        "# Check dataset structure\n",
        "check_dataset_structure(dataset_path)"
      ],
      "metadata": {
        "colab": {
          "base_uri": "https://localhost:8080/"
        },
        "id": "cWr4GTijXUtt",
        "outputId": "0dea8a33-0352-49b6-c6dc-7f87b7f85ab6"
      },
      "execution_count": null,
      "outputs": [
        {
          "output_type": "stream",
          "name": "stdout",
          "text": [
            "Dataset structure is correct.\n"
          ]
        }
      ]
    },
    {
      "cell_type": "code",
      "source": [
        "if not os.path.exists(yaml_file):\n",
        "    with open(yaml_file, 'w') as f:\n",
        "        yaml_content = f\"\"\"path: {dataset_path}\n",
        "train: train/images\n",
        "val: valid/images\n",
        "test: test/images\n",
        "nc: 2\n",
        "names: ['tumor', 'no_tumor']\n",
        "\"\"\"\n",
        "        f.write(yaml_content)\n",
        "    print(f\"YAML file created at: {yaml_file}\")"
      ],
      "metadata": {
        "colab": {
          "base_uri": "https://localhost:8080/"
        },
        "id": "5DbRvkp0Zitu",
        "outputId": "2e50d2ad-94d5-4f14-c188-1c89c6e3c228"
      },
      "execution_count": null,
      "outputs": [
        {
          "output_type": "stream",
          "name": "stdout",
          "text": [
            "YAML file created at: /content/drive/MyDrive/brain tumor classification.v1i.yolov8/brain_tumor.yaml\n"
          ]
        }
      ]
    },
    {
      "cell_type": "code",
      "source": [
        "model = YOLO('yolov8n.pt')"
      ],
      "metadata": {
        "colab": {
          "base_uri": "https://localhost:8080/"
        },
        "id": "X91q14-gZlJJ",
        "outputId": "fd708497-23cb-46d8-b2de-d073f77b719c"
      },
      "execution_count": null,
      "outputs": [
        {
          "output_type": "stream",
          "name": "stdout",
          "text": [
            "Downloading https://github.com/ultralytics/assets/releases/download/v8.3.0/yolov8n.pt to 'yolov8n.pt'...\n"
          ]
        },
        {
          "output_type": "stream",
          "name": "stderr",
          "text": [
            "100%|██████████| 6.25M/6.25M [00:00<00:00, 168MB/s]\n"
          ]
        }
      ]
    },
    {
      "cell_type": "code",
      "source": [
        "model.train(\n",
        "    data=yaml_file,          # Path to YAML configuration file\n",
        "    epochs=50,               # Number of training epochs\n",
        "    imgsz=640,               # Image size (images resized to 640x640)\n",
        "    batch=16,                # Batch size\n",
        "    name='brain_tumor_nano', # Training session name\n",
        "    device=0                 # Use GPU (0) or CPU ('cpu')\n",
        ")"
      ],
      "metadata": {
        "colab": {
          "base_uri": "https://localhost:8080/"
        },
        "id": "Fed4-feEZoHx",
        "outputId": "94118d17-2794-4499-a8bd-1169e5fda332"
      },
      "execution_count": null,
      "outputs": [
        {
          "output_type": "stream",
          "name": "stdout",
          "text": [
            "Ultralytics 8.3.34 🚀 Python-3.10.12 torch-2.5.1+cu121 CUDA:0 (Tesla T4, 15102MiB)\n",
            "\u001b[34m\u001b[1mengine/trainer: \u001b[0mtask=detect, mode=train, model=yolov8n.pt, data=/content/drive/MyDrive/brain tumor classification.v1i.yolov8/brain_tumor.yaml, epochs=50, time=None, patience=100, batch=16, imgsz=640, save=True, save_period=-1, cache=False, device=0, workers=8, project=None, name=brain_tumor_nano, exist_ok=False, pretrained=True, optimizer=auto, verbose=True, seed=0, deterministic=True, single_cls=False, rect=False, cos_lr=False, close_mosaic=10, resume=False, amp=True, fraction=1.0, profile=False, freeze=None, multi_scale=False, overlap_mask=True, mask_ratio=4, dropout=0.0, val=True, split=val, save_json=False, save_hybrid=False, conf=None, iou=0.7, max_det=300, half=False, dnn=False, plots=True, source=None, vid_stride=1, stream_buffer=False, visualize=False, augment=False, agnostic_nms=False, classes=None, retina_masks=False, embed=None, show=False, save_frames=False, save_txt=False, save_conf=False, save_crop=False, show_labels=True, show_conf=True, show_boxes=True, line_width=None, format=torchscript, keras=False, optimize=False, int8=False, dynamic=False, simplify=True, opset=None, workspace=4, nms=False, lr0=0.01, lrf=0.01, momentum=0.937, weight_decay=0.0005, warmup_epochs=3.0, warmup_momentum=0.8, warmup_bias_lr=0.1, box=7.5, cls=0.5, dfl=1.5, pose=12.0, kobj=1.0, label_smoothing=0.0, nbs=64, hsv_h=0.015, hsv_s=0.7, hsv_v=0.4, degrees=0.0, translate=0.1, scale=0.5, shear=0.0, perspective=0.0, flipud=0.0, fliplr=0.5, bgr=0.0, mosaic=1.0, mixup=0.0, copy_paste=0.0, copy_paste_mode=flip, auto_augment=randaugment, erasing=0.4, crop_fraction=1.0, cfg=None, tracker=botsort.yaml, save_dir=runs/detect/brain_tumor_nano\n",
            "Downloading https://ultralytics.com/assets/Arial.ttf to '/root/.config/Ultralytics/Arial.ttf'...\n"
          ]
        },
        {
          "output_type": "stream",
          "name": "stderr",
          "text": [
            "100%|██████████| 755k/755k [00:00<00:00, 41.4MB/s]\n"
          ]
        },
        {
          "output_type": "stream",
          "name": "stdout",
          "text": [
            "Overriding model.yaml nc=80 with nc=2\n",
            "\n",
            "                   from  n    params  module                                       arguments                     \n",
            "  0                  -1  1       464  ultralytics.nn.modules.conv.Conv             [3, 16, 3, 2]                 \n",
            "  1                  -1  1      4672  ultralytics.nn.modules.conv.Conv             [16, 32, 3, 2]                \n",
            "  2                  -1  1      7360  ultralytics.nn.modules.block.C2f             [32, 32, 1, True]             \n",
            "  3                  -1  1     18560  ultralytics.nn.modules.conv.Conv             [32, 64, 3, 2]                \n",
            "  4                  -1  2     49664  ultralytics.nn.modules.block.C2f             [64, 64, 2, True]             \n",
            "  5                  -1  1     73984  ultralytics.nn.modules.conv.Conv             [64, 128, 3, 2]               \n",
            "  6                  -1  2    197632  ultralytics.nn.modules.block.C2f             [128, 128, 2, True]           \n",
            "  7                  -1  1    295424  ultralytics.nn.modules.conv.Conv             [128, 256, 3, 2]              \n",
            "  8                  -1  1    460288  ultralytics.nn.modules.block.C2f             [256, 256, 1, True]           \n",
            "  9                  -1  1    164608  ultralytics.nn.modules.block.SPPF            [256, 256, 5]                 \n",
            " 10                  -1  1         0  torch.nn.modules.upsampling.Upsample         [None, 2, 'nearest']          \n",
            " 11             [-1, 6]  1         0  ultralytics.nn.modules.conv.Concat           [1]                           \n",
            " 12                  -1  1    148224  ultralytics.nn.modules.block.C2f             [384, 128, 1]                 \n",
            " 13                  -1  1         0  torch.nn.modules.upsampling.Upsample         [None, 2, 'nearest']          \n",
            " 14             [-1, 4]  1         0  ultralytics.nn.modules.conv.Concat           [1]                           \n",
            " 15                  -1  1     37248  ultralytics.nn.modules.block.C2f             [192, 64, 1]                  \n",
            " 16                  -1  1     36992  ultralytics.nn.modules.conv.Conv             [64, 64, 3, 2]                \n",
            " 17            [-1, 12]  1         0  ultralytics.nn.modules.conv.Concat           [1]                           \n",
            " 18                  -1  1    123648  ultralytics.nn.modules.block.C2f             [192, 128, 1]                 \n",
            " 19                  -1  1    147712  ultralytics.nn.modules.conv.Conv             [128, 128, 3, 2]              \n",
            " 20             [-1, 9]  1         0  ultralytics.nn.modules.conv.Concat           [1]                           \n",
            " 21                  -1  1    493056  ultralytics.nn.modules.block.C2f             [384, 256, 1]                 \n",
            " 22        [15, 18, 21]  1    751702  ultralytics.nn.modules.head.Detect           [2, [64, 128, 256]]           \n",
            "Model summary: 225 layers, 3,011,238 parameters, 3,011,222 gradients, 8.2 GFLOPs\n",
            "\n",
            "Transferred 319/355 items from pretrained weights\n",
            "\u001b[34m\u001b[1mTensorBoard: \u001b[0mStart with 'tensorboard --logdir runs/detect/brain_tumor_nano', view at http://localhost:6006/\n",
            "Freezing layer 'model.22.dfl.conv.weight'\n",
            "\u001b[34m\u001b[1mAMP: \u001b[0mrunning Automatic Mixed Precision (AMP) checks...\n",
            "Downloading https://github.com/ultralytics/assets/releases/download/v8.3.0/yolo11n.pt to 'yolo11n.pt'...\n"
          ]
        },
        {
          "output_type": "stream",
          "name": "stderr",
          "text": [
            "100%|██████████| 5.35M/5.35M [00:00<00:00, 103MB/s]\n"
          ]
        },
        {
          "output_type": "stream",
          "name": "stdout",
          "text": [
            "\u001b[34m\u001b[1mAMP: \u001b[0mchecks passed ✅\n"
          ]
        },
        {
          "output_type": "stream",
          "name": "stderr",
          "text": [
            "\u001b[34m\u001b[1mtrain: \u001b[0mScanning /content/drive/MyDrive/brain tumor classification.v1i.yolov8/train/labels... 534 images, 109 backgrounds, 0 corrupt: 100%|██████████| 534/534 [03:47<00:00,  2.35it/s]\n"
          ]
        },
        {
          "output_type": "stream",
          "name": "stdout",
          "text": [
            "\u001b[34m\u001b[1mtrain: \u001b[0mNew cache created: /content/drive/MyDrive/brain tumor classification.v1i.yolov8/train/labels.cache\n",
            "\u001b[34m\u001b[1malbumentations: \u001b[0mBlur(p=0.01, blur_limit=(3, 7)), MedianBlur(p=0.01, blur_limit=(3, 7)), ToGray(p=0.01, num_output_channels=3, method='weighted_average'), CLAHE(p=0.01, clip_limit=(1.0, 4.0), tile_grid_size=(8, 8))\n"
          ]
        },
        {
          "output_type": "stream",
          "name": "stderr",
          "text": [
            "/usr/local/lib/python3.10/dist-packages/albumentations/__init__.py:24: UserWarning: A new version of Albumentations is available: 1.4.21 (you have 1.4.20). Upgrade using: pip install -U albumentations. To disable automatic update checks, set the environment variable NO_ALBUMENTATIONS_UPDATE to 1.\n",
            "  check_for_updates()\n",
            "\u001b[34m\u001b[1mval: \u001b[0mScanning /content/drive/MyDrive/brain tumor classification.v1i.yolov8/valid/labels... 194 images, 29 backgrounds, 0 corrupt: 100%|██████████| 194/194 [01:28<00:00,  2.19it/s]"
          ]
        },
        {
          "output_type": "stream",
          "name": "stdout",
          "text": [
            "\u001b[34m\u001b[1mval: \u001b[0mNew cache created: /content/drive/MyDrive/brain tumor classification.v1i.yolov8/valid/labels.cache\n"
          ]
        },
        {
          "output_type": "stream",
          "name": "stderr",
          "text": [
            "\n"
          ]
        },
        {
          "output_type": "stream",
          "name": "stdout",
          "text": [
            "Plotting labels to runs/detect/brain_tumor_nano/labels.jpg... \n",
            "\u001b[34m\u001b[1moptimizer:\u001b[0m 'optimizer=auto' found, ignoring 'lr0=0.01' and 'momentum=0.937' and determining best 'optimizer', 'lr0' and 'momentum' automatically... \n",
            "\u001b[34m\u001b[1moptimizer:\u001b[0m AdamW(lr=0.001667, momentum=0.9) with parameter groups 57 weight(decay=0.0), 64 weight(decay=0.0005), 63 bias(decay=0.0)\n",
            "\u001b[34m\u001b[1mTensorBoard: \u001b[0mmodel graph visualization added ✅\n",
            "Image sizes 640 train, 640 val\n",
            "Using 2 dataloader workers\n",
            "Logging results to \u001b[1mruns/detect/brain_tumor_nano\u001b[0m\n",
            "Starting training for 50 epochs...\n",
            "\n",
            "      Epoch    GPU_mem   box_loss   cls_loss   dfl_loss  Instances       Size\n"
          ]
        },
        {
          "output_type": "stream",
          "name": "stderr",
          "text": [
            "       1/50       2.2G      1.146       3.18      1.314         10        640: 100%|██████████| 34/34 [00:16<00:00,  2.01it/s]\n",
            "                 Class     Images  Instances      Box(P          R      mAP50  mAP50-95): 100%|██████████| 7/7 [00:03<00:00,  1.85it/s]"
          ]
        },
        {
          "output_type": "stream",
          "name": "stdout",
          "text": [
            "                   all        194        171      0.683      0.454       0.53      0.346\n"
          ]
        },
        {
          "output_type": "stream",
          "name": "stderr",
          "text": [
            "\n"
          ]
        },
        {
          "output_type": "stream",
          "name": "stdout",
          "text": [
            "\n",
            "      Epoch    GPU_mem   box_loss   cls_loss   dfl_loss  Instances       Size\n"
          ]
        },
        {
          "output_type": "stream",
          "name": "stderr",
          "text": [
            "       2/50      2.23G      1.025      2.184      1.173         10        640: 100%|██████████| 34/34 [00:14<00:00,  2.33it/s]\n",
            "                 Class     Images  Instances      Box(P          R      mAP50  mAP50-95): 100%|██████████| 7/7 [00:02<00:00,  2.59it/s]"
          ]
        },
        {
          "output_type": "stream",
          "name": "stdout",
          "text": [
            "                   all        194        171      0.595      0.544       0.58      0.372\n"
          ]
        },
        {
          "output_type": "stream",
          "name": "stderr",
          "text": [
            "\n"
          ]
        },
        {
          "output_type": "stream",
          "name": "stdout",
          "text": [
            "\n",
            "      Epoch    GPU_mem   box_loss   cls_loss   dfl_loss  Instances       Size\n"
          ]
        },
        {
          "output_type": "stream",
          "name": "stderr",
          "text": [
            "       3/50      2.23G      1.028      1.986      1.181          8        640: 100%|██████████| 34/34 [00:13<00:00,  2.44it/s]\n",
            "                 Class     Images  Instances      Box(P          R      mAP50  mAP50-95): 100%|██████████| 7/7 [00:02<00:00,  2.75it/s]"
          ]
        },
        {
          "output_type": "stream",
          "name": "stdout",
          "text": [
            "                   all        194        171      0.543       0.52      0.491      0.313\n"
          ]
        },
        {
          "output_type": "stream",
          "name": "stderr",
          "text": [
            "\n"
          ]
        },
        {
          "output_type": "stream",
          "name": "stdout",
          "text": [
            "\n",
            "      Epoch    GPU_mem   box_loss   cls_loss   dfl_loss  Instances       Size\n"
          ]
        },
        {
          "output_type": "stream",
          "name": "stderr",
          "text": [
            "       4/50      2.23G      1.089       1.91      1.237         13        640: 100%|██████████| 34/34 [00:14<00:00,  2.33it/s]\n",
            "                 Class     Images  Instances      Box(P          R      mAP50  mAP50-95): 100%|██████████| 7/7 [00:02<00:00,  2.90it/s]"
          ]
        },
        {
          "output_type": "stream",
          "name": "stdout",
          "text": [
            "                   all        194        171      0.589      0.452      0.519      0.335\n"
          ]
        },
        {
          "output_type": "stream",
          "name": "stderr",
          "text": [
            "\n"
          ]
        },
        {
          "output_type": "stream",
          "name": "stdout",
          "text": [
            "\n",
            "      Epoch    GPU_mem   box_loss   cls_loss   dfl_loss  Instances       Size\n"
          ]
        },
        {
          "output_type": "stream",
          "name": "stderr",
          "text": [
            "       5/50      2.23G      1.074       1.74      1.191          6        640: 100%|██████████| 34/34 [00:13<00:00,  2.43it/s]\n",
            "                 Class     Images  Instances      Box(P          R      mAP50  mAP50-95): 100%|██████████| 7/7 [00:02<00:00,  2.59it/s]"
          ]
        },
        {
          "output_type": "stream",
          "name": "stdout",
          "text": [
            "                   all        194        171      0.631       0.69      0.612      0.393\n"
          ]
        },
        {
          "output_type": "stream",
          "name": "stderr",
          "text": [
            "\n"
          ]
        },
        {
          "output_type": "stream",
          "name": "stdout",
          "text": [
            "\n",
            "      Epoch    GPU_mem   box_loss   cls_loss   dfl_loss  Instances       Size\n"
          ]
        },
        {
          "output_type": "stream",
          "name": "stderr",
          "text": [
            "       6/50      2.23G       1.08      1.529        1.2         12        640: 100%|██████████| 34/34 [00:13<00:00,  2.50it/s]\n",
            "                 Class     Images  Instances      Box(P          R      mAP50  mAP50-95): 100%|██████████| 7/7 [00:02<00:00,  2.58it/s]\n"
          ]
        },
        {
          "output_type": "stream",
          "name": "stdout",
          "text": [
            "                   all        194        171      0.621      0.661      0.601      0.411\n",
            "\n",
            "      Epoch    GPU_mem   box_loss   cls_loss   dfl_loss  Instances       Size\n"
          ]
        },
        {
          "output_type": "stream",
          "name": "stderr",
          "text": [
            "       7/50      2.23G      1.045      1.527      1.236         10        640: 100%|██████████| 34/34 [00:13<00:00,  2.54it/s]\n",
            "                 Class     Images  Instances      Box(P          R      mAP50  mAP50-95): 100%|██████████| 7/7 [00:03<00:00,  2.19it/s]"
          ]
        },
        {
          "output_type": "stream",
          "name": "stdout",
          "text": [
            "                   all        194        171      0.644      0.678      0.653      0.462\n"
          ]
        },
        {
          "output_type": "stream",
          "name": "stderr",
          "text": [
            "\n"
          ]
        },
        {
          "output_type": "stream",
          "name": "stdout",
          "text": [
            "\n",
            "      Epoch    GPU_mem   box_loss   cls_loss   dfl_loss  Instances       Size\n"
          ]
        },
        {
          "output_type": "stream",
          "name": "stderr",
          "text": [
            "       8/50      2.23G      0.991      1.404      1.183          8        640: 100%|██████████| 34/34 [00:12<00:00,  2.82it/s]\n",
            "                 Class     Images  Instances      Box(P          R      mAP50  mAP50-95): 100%|██████████| 7/7 [00:04<00:00,  1.68it/s]"
          ]
        },
        {
          "output_type": "stream",
          "name": "stdout",
          "text": [
            "                   all        194        171      0.635      0.721       0.66      0.434\n"
          ]
        },
        {
          "output_type": "stream",
          "name": "stderr",
          "text": [
            "\n"
          ]
        },
        {
          "output_type": "stream",
          "name": "stdout",
          "text": [
            "\n",
            "      Epoch    GPU_mem   box_loss   cls_loss   dfl_loss  Instances       Size\n"
          ]
        },
        {
          "output_type": "stream",
          "name": "stderr",
          "text": [
            "       9/50      2.22G     0.9508      1.283      1.148          8        640: 100%|██████████| 34/34 [00:11<00:00,  2.89it/s]\n",
            "                 Class     Images  Instances      Box(P          R      mAP50  mAP50-95): 100%|██████████| 7/7 [00:04<00:00,  1.43it/s]"
          ]
        },
        {
          "output_type": "stream",
          "name": "stdout",
          "text": [
            "                   all        194        171      0.611      0.744      0.657      0.421\n"
          ]
        },
        {
          "output_type": "stream",
          "name": "stderr",
          "text": [
            "\n"
          ]
        },
        {
          "output_type": "stream",
          "name": "stdout",
          "text": [
            "\n",
            "      Epoch    GPU_mem   box_loss   cls_loss   dfl_loss  Instances       Size\n"
          ]
        },
        {
          "output_type": "stream",
          "name": "stderr",
          "text": [
            "      10/50      2.23G      1.022      1.329      1.192          9        640: 100%|██████████| 34/34 [00:10<00:00,  3.19it/s]\n",
            "                 Class     Images  Instances      Box(P          R      mAP50  mAP50-95): 100%|██████████| 7/7 [00:04<00:00,  1.56it/s]"
          ]
        },
        {
          "output_type": "stream",
          "name": "stdout",
          "text": [
            "                   all        194        171      0.802      0.712       0.75      0.551\n"
          ]
        },
        {
          "output_type": "stream",
          "name": "stderr",
          "text": [
            "\n"
          ]
        },
        {
          "output_type": "stream",
          "name": "stdout",
          "text": [
            "\n",
            "      Epoch    GPU_mem   box_loss   cls_loss   dfl_loss  Instances       Size\n"
          ]
        },
        {
          "output_type": "stream",
          "name": "stderr",
          "text": [
            "      11/50      2.22G     0.8945      1.167      1.126          8        640: 100%|██████████| 34/34 [00:11<00:00,  3.09it/s]\n",
            "                 Class     Images  Instances      Box(P          R      mAP50  mAP50-95): 100%|██████████| 7/7 [00:03<00:00,  2.05it/s]"
          ]
        },
        {
          "output_type": "stream",
          "name": "stdout",
          "text": [
            "                   all        194        171      0.696      0.738      0.702      0.512\n"
          ]
        },
        {
          "output_type": "stream",
          "name": "stderr",
          "text": [
            "\n"
          ]
        },
        {
          "output_type": "stream",
          "name": "stdout",
          "text": [
            "\n",
            "      Epoch    GPU_mem   box_loss   cls_loss   dfl_loss  Instances       Size\n"
          ]
        },
        {
          "output_type": "stream",
          "name": "stderr",
          "text": [
            "      12/50      2.23G     0.9584      1.156      1.154          8        640: 100%|██████████| 34/34 [00:11<00:00,  2.86it/s]\n",
            "                 Class     Images  Instances      Box(P          R      mAP50  mAP50-95): 100%|██████████| 7/7 [00:02<00:00,  2.46it/s]"
          ]
        },
        {
          "output_type": "stream",
          "name": "stdout",
          "text": [
            "                   all        194        171      0.785      0.784      0.826      0.639\n"
          ]
        },
        {
          "output_type": "stream",
          "name": "stderr",
          "text": [
            "\n"
          ]
        },
        {
          "output_type": "stream",
          "name": "stdout",
          "text": [
            "\n",
            "      Epoch    GPU_mem   box_loss   cls_loss   dfl_loss  Instances       Size\n"
          ]
        },
        {
          "output_type": "stream",
          "name": "stderr",
          "text": [
            "      13/50      2.23G     0.9029      1.081      1.116         12        640: 100%|██████████| 34/34 [00:13<00:00,  2.56it/s]\n",
            "                 Class     Images  Instances      Box(P          R      mAP50  mAP50-95): 100%|██████████| 7/7 [00:02<00:00,  3.00it/s]"
          ]
        },
        {
          "output_type": "stream",
          "name": "stdout",
          "text": [
            "                   all        194        171      0.757      0.802      0.762      0.594\n"
          ]
        },
        {
          "output_type": "stream",
          "name": "stderr",
          "text": [
            "\n"
          ]
        },
        {
          "output_type": "stream",
          "name": "stdout",
          "text": [
            "\n",
            "      Epoch    GPU_mem   box_loss   cls_loss   dfl_loss  Instances       Size\n"
          ]
        },
        {
          "output_type": "stream",
          "name": "stderr",
          "text": [
            "      14/50      2.23G     0.8691      1.002      1.108          6        640: 100%|██████████| 34/34 [00:13<00:00,  2.61it/s]\n",
            "                 Class     Images  Instances      Box(P          R      mAP50  mAP50-95): 100%|██████████| 7/7 [00:02<00:00,  3.02it/s]"
          ]
        },
        {
          "output_type": "stream",
          "name": "stdout",
          "text": [
            "                   all        194        171      0.762      0.807      0.779       0.59\n"
          ]
        },
        {
          "output_type": "stream",
          "name": "stderr",
          "text": [
            "\n"
          ]
        },
        {
          "output_type": "stream",
          "name": "stdout",
          "text": [
            "\n",
            "      Epoch    GPU_mem   box_loss   cls_loss   dfl_loss  Instances       Size\n"
          ]
        },
        {
          "output_type": "stream",
          "name": "stderr",
          "text": [
            "      15/50      2.24G     0.9255      1.071      1.126         13        640: 100%|██████████| 34/34 [00:13<00:00,  2.49it/s]\n",
            "                 Class     Images  Instances      Box(P          R      mAP50  mAP50-95): 100%|██████████| 7/7 [00:02<00:00,  2.94it/s]"
          ]
        },
        {
          "output_type": "stream",
          "name": "stdout",
          "text": [
            "                   all        194        171      0.746      0.843       0.81      0.633\n"
          ]
        },
        {
          "output_type": "stream",
          "name": "stderr",
          "text": [
            "\n"
          ]
        },
        {
          "output_type": "stream",
          "name": "stdout",
          "text": [
            "\n",
            "      Epoch    GPU_mem   box_loss   cls_loss   dfl_loss  Instances       Size\n"
          ]
        },
        {
          "output_type": "stream",
          "name": "stderr",
          "text": [
            "      16/50      2.22G      0.839     0.9528      1.096          5        640: 100%|██████████| 34/34 [00:14<00:00,  2.39it/s]\n",
            "                 Class     Images  Instances      Box(P          R      mAP50  mAP50-95): 100%|██████████| 7/7 [00:02<00:00,  3.33it/s]"
          ]
        },
        {
          "output_type": "stream",
          "name": "stdout",
          "text": [
            "                   all        194        171      0.786      0.772      0.817      0.612\n"
          ]
        },
        {
          "output_type": "stream",
          "name": "stderr",
          "text": [
            "\n"
          ]
        },
        {
          "output_type": "stream",
          "name": "stdout",
          "text": [
            "\n",
            "      Epoch    GPU_mem   box_loss   cls_loss   dfl_loss  Instances       Size\n"
          ]
        },
        {
          "output_type": "stream",
          "name": "stderr",
          "text": [
            "      17/50      2.23G      0.861     0.9923      1.114          8        640: 100%|██████████| 34/34 [00:13<00:00,  2.49it/s]\n",
            "                 Class     Images  Instances      Box(P          R      mAP50  mAP50-95): 100%|██████████| 7/7 [00:02<00:00,  2.92it/s]"
          ]
        },
        {
          "output_type": "stream",
          "name": "stdout",
          "text": [
            "                   all        194        171      0.805       0.76      0.773      0.602\n"
          ]
        },
        {
          "output_type": "stream",
          "name": "stderr",
          "text": [
            "\n"
          ]
        },
        {
          "output_type": "stream",
          "name": "stdout",
          "text": [
            "\n",
            "      Epoch    GPU_mem   box_loss   cls_loss   dfl_loss  Instances       Size\n"
          ]
        },
        {
          "output_type": "stream",
          "name": "stderr",
          "text": [
            "      18/50      2.22G     0.8343     0.9448      1.068          8        640: 100%|██████████| 34/34 [00:14<00:00,  2.40it/s]\n",
            "                 Class     Images  Instances      Box(P          R      mAP50  mAP50-95): 100%|██████████| 7/7 [00:02<00:00,  2.73it/s]"
          ]
        },
        {
          "output_type": "stream",
          "name": "stdout",
          "text": [
            "                   all        194        171      0.764      0.871      0.811      0.639\n"
          ]
        },
        {
          "output_type": "stream",
          "name": "stderr",
          "text": [
            "\n"
          ]
        },
        {
          "output_type": "stream",
          "name": "stdout",
          "text": [
            "\n",
            "      Epoch    GPU_mem   box_loss   cls_loss   dfl_loss  Instances       Size\n"
          ]
        },
        {
          "output_type": "stream",
          "name": "stderr",
          "text": [
            "      19/50      2.22G     0.8801     0.9207      1.101          5        640: 100%|██████████| 34/34 [00:14<00:00,  2.38it/s]\n",
            "                 Class     Images  Instances      Box(P          R      mAP50  mAP50-95): 100%|██████████| 7/7 [00:02<00:00,  3.26it/s]"
          ]
        },
        {
          "output_type": "stream",
          "name": "stdout",
          "text": [
            "                   all        194        171      0.754      0.859      0.788      0.613\n"
          ]
        },
        {
          "output_type": "stream",
          "name": "stderr",
          "text": [
            "\n"
          ]
        },
        {
          "output_type": "stream",
          "name": "stdout",
          "text": [
            "\n",
            "      Epoch    GPU_mem   box_loss   cls_loss   dfl_loss  Instances       Size\n"
          ]
        },
        {
          "output_type": "stream",
          "name": "stderr",
          "text": [
            "      20/50      2.22G     0.8258     0.9367      1.093         11        640: 100%|██████████| 34/34 [00:14<00:00,  2.39it/s]\n",
            "                 Class     Images  Instances      Box(P          R      mAP50  mAP50-95): 100%|██████████| 7/7 [00:02<00:00,  3.04it/s]"
          ]
        },
        {
          "output_type": "stream",
          "name": "stdout",
          "text": [
            "                   all        194        171      0.803      0.881      0.842      0.673\n"
          ]
        },
        {
          "output_type": "stream",
          "name": "stderr",
          "text": [
            "\n"
          ]
        },
        {
          "output_type": "stream",
          "name": "stdout",
          "text": [
            "\n",
            "      Epoch    GPU_mem   box_loss   cls_loss   dfl_loss  Instances       Size\n"
          ]
        },
        {
          "output_type": "stream",
          "name": "stderr",
          "text": [
            "      21/50      2.22G     0.8138     0.8771       1.07         11        640: 100%|██████████| 34/34 [00:14<00:00,  2.37it/s]\n",
            "                 Class     Images  Instances      Box(P          R      mAP50  mAP50-95): 100%|██████████| 7/7 [00:02<00:00,  3.16it/s]"
          ]
        },
        {
          "output_type": "stream",
          "name": "stdout",
          "text": [
            "                   all        194        171      0.786      0.778      0.781      0.583\n"
          ]
        },
        {
          "output_type": "stream",
          "name": "stderr",
          "text": [
            "\n"
          ]
        },
        {
          "output_type": "stream",
          "name": "stdout",
          "text": [
            "\n",
            "      Epoch    GPU_mem   box_loss   cls_loss   dfl_loss  Instances       Size\n"
          ]
        },
        {
          "output_type": "stream",
          "name": "stderr",
          "text": [
            "      22/50      2.22G      0.858     0.9009      1.101          7        640: 100%|██████████| 34/34 [00:13<00:00,  2.50it/s]\n",
            "                 Class     Images  Instances      Box(P          R      mAP50  mAP50-95): 100%|██████████| 7/7 [00:02<00:00,  2.64it/s]"
          ]
        },
        {
          "output_type": "stream",
          "name": "stdout",
          "text": [
            "                   all        194        171       0.74      0.778      0.796      0.599\n"
          ]
        },
        {
          "output_type": "stream",
          "name": "stderr",
          "text": [
            "\n"
          ]
        },
        {
          "output_type": "stream",
          "name": "stdout",
          "text": [
            "\n",
            "      Epoch    GPU_mem   box_loss   cls_loss   dfl_loss  Instances       Size\n"
          ]
        },
        {
          "output_type": "stream",
          "name": "stderr",
          "text": [
            "      23/50      2.22G     0.8166     0.8897      1.065          7        640: 100%|██████████| 34/34 [00:12<00:00,  2.62it/s]\n",
            "                 Class     Images  Instances      Box(P          R      mAP50  mAP50-95): 100%|██████████| 7/7 [00:03<00:00,  2.01it/s]"
          ]
        },
        {
          "output_type": "stream",
          "name": "stdout",
          "text": [
            "                   all        194        171       0.78      0.852      0.817      0.648\n"
          ]
        },
        {
          "output_type": "stream",
          "name": "stderr",
          "text": [
            "\n"
          ]
        },
        {
          "output_type": "stream",
          "name": "stdout",
          "text": [
            "\n",
            "      Epoch    GPU_mem   box_loss   cls_loss   dfl_loss  Instances       Size\n"
          ]
        },
        {
          "output_type": "stream",
          "name": "stderr",
          "text": [
            "      24/50      2.22G     0.8544     0.8748      1.085          7        640: 100%|██████████| 34/34 [00:12<00:00,  2.80it/s]\n",
            "                 Class     Images  Instances      Box(P          R      mAP50  mAP50-95): 100%|██████████| 7/7 [00:04<00:00,  1.62it/s]"
          ]
        },
        {
          "output_type": "stream",
          "name": "stdout",
          "text": [
            "                   all        194        171      0.778       0.82      0.814      0.638\n"
          ]
        },
        {
          "output_type": "stream",
          "name": "stderr",
          "text": [
            "\n"
          ]
        },
        {
          "output_type": "stream",
          "name": "stdout",
          "text": [
            "\n",
            "      Epoch    GPU_mem   box_loss   cls_loss   dfl_loss  Instances       Size\n"
          ]
        },
        {
          "output_type": "stream",
          "name": "stderr",
          "text": [
            "      25/50      2.23G     0.7961     0.8551      1.074         14        640: 100%|██████████| 34/34 [00:11<00:00,  3.04it/s]\n",
            "                 Class     Images  Instances      Box(P          R      mAP50  mAP50-95): 100%|██████████| 7/7 [00:04<00:00,  1.56it/s]"
          ]
        },
        {
          "output_type": "stream",
          "name": "stdout",
          "text": [
            "                   all        194        171      0.824      0.793      0.826      0.657\n"
          ]
        },
        {
          "output_type": "stream",
          "name": "stderr",
          "text": [
            "\n"
          ]
        },
        {
          "output_type": "stream",
          "name": "stdout",
          "text": [
            "\n",
            "      Epoch    GPU_mem   box_loss   cls_loss   dfl_loss  Instances       Size\n"
          ]
        },
        {
          "output_type": "stream",
          "name": "stderr",
          "text": [
            "      26/50      2.22G     0.7848     0.8025      1.058          7        640: 100%|██████████| 34/34 [00:11<00:00,  3.05it/s]\n",
            "                 Class     Images  Instances      Box(P          R      mAP50  mAP50-95): 100%|██████████| 7/7 [00:03<00:00,  2.26it/s]"
          ]
        },
        {
          "output_type": "stream",
          "name": "stdout",
          "text": [
            "                   all        194        171      0.833      0.836      0.807      0.661\n"
          ]
        },
        {
          "output_type": "stream",
          "name": "stderr",
          "text": [
            "\n"
          ]
        },
        {
          "output_type": "stream",
          "name": "stdout",
          "text": [
            "\n",
            "      Epoch    GPU_mem   box_loss   cls_loss   dfl_loss  Instances       Size\n"
          ]
        },
        {
          "output_type": "stream",
          "name": "stderr",
          "text": [
            "      27/50      2.22G     0.7788     0.8259      1.061          7        640: 100%|██████████| 34/34 [00:11<00:00,  2.98it/s]\n",
            "                 Class     Images  Instances      Box(P          R      mAP50  mAP50-95): 100%|██████████| 7/7 [00:03<00:00,  2.01it/s]"
          ]
        },
        {
          "output_type": "stream",
          "name": "stdout",
          "text": [
            "                   all        194        171      0.795      0.871      0.796       0.65\n"
          ]
        },
        {
          "output_type": "stream",
          "name": "stderr",
          "text": [
            "\n"
          ]
        },
        {
          "output_type": "stream",
          "name": "stdout",
          "text": [
            "\n",
            "      Epoch    GPU_mem   box_loss   cls_loss   dfl_loss  Instances       Size\n"
          ]
        },
        {
          "output_type": "stream",
          "name": "stderr",
          "text": [
            "      28/50      2.22G     0.7593     0.7949      1.041         11        640: 100%|██████████| 34/34 [00:12<00:00,  2.79it/s]\n",
            "                 Class     Images  Instances      Box(P          R      mAP50  mAP50-95): 100%|██████████| 7/7 [00:03<00:00,  2.03it/s]"
          ]
        },
        {
          "output_type": "stream",
          "name": "stdout",
          "text": [
            "                   all        194        171      0.775      0.866      0.814      0.668\n"
          ]
        },
        {
          "output_type": "stream",
          "name": "stderr",
          "text": [
            "\n"
          ]
        },
        {
          "output_type": "stream",
          "name": "stdout",
          "text": [
            "\n",
            "      Epoch    GPU_mem   box_loss   cls_loss   dfl_loss  Instances       Size\n"
          ]
        },
        {
          "output_type": "stream",
          "name": "stderr",
          "text": [
            "      29/50      2.22G     0.7454     0.7597      1.033         12        640: 100%|██████████| 34/34 [00:13<00:00,  2.61it/s]\n",
            "                 Class     Images  Instances      Box(P          R      mAP50  mAP50-95): 100%|██████████| 7/7 [00:02<00:00,  3.05it/s]"
          ]
        },
        {
          "output_type": "stream",
          "name": "stdout",
          "text": [
            "                   all        194        171      0.793      0.853      0.827      0.679\n"
          ]
        },
        {
          "output_type": "stream",
          "name": "stderr",
          "text": [
            "\n"
          ]
        },
        {
          "output_type": "stream",
          "name": "stdout",
          "text": [
            "\n",
            "      Epoch    GPU_mem   box_loss   cls_loss   dfl_loss  Instances       Size\n"
          ]
        },
        {
          "output_type": "stream",
          "name": "stderr",
          "text": [
            "      30/50      2.23G     0.7654     0.7957      1.045         14        640: 100%|██████████| 34/34 [00:13<00:00,  2.50it/s]\n",
            "                 Class     Images  Instances      Box(P          R      mAP50  mAP50-95): 100%|██████████| 7/7 [00:02<00:00,  3.06it/s]"
          ]
        },
        {
          "output_type": "stream",
          "name": "stdout",
          "text": [
            "                   all        194        171      0.798      0.801      0.804      0.623\n"
          ]
        },
        {
          "output_type": "stream",
          "name": "stderr",
          "text": [
            "\n"
          ]
        },
        {
          "output_type": "stream",
          "name": "stdout",
          "text": [
            "\n",
            "      Epoch    GPU_mem   box_loss   cls_loss   dfl_loss  Instances       Size\n"
          ]
        },
        {
          "output_type": "stream",
          "name": "stderr",
          "text": [
            "      31/50      2.22G     0.7669     0.7835      1.047          9        640: 100%|██████████| 34/34 [00:13<00:00,  2.46it/s]\n",
            "                 Class     Images  Instances      Box(P          R      mAP50  mAP50-95): 100%|██████████| 7/7 [00:02<00:00,  2.92it/s]"
          ]
        },
        {
          "output_type": "stream",
          "name": "stdout",
          "text": [
            "                   all        194        171      0.767      0.884      0.821      0.655\n"
          ]
        },
        {
          "output_type": "stream",
          "name": "stderr",
          "text": [
            "\n"
          ]
        },
        {
          "output_type": "stream",
          "name": "stdout",
          "text": [
            "\n",
            "      Epoch    GPU_mem   box_loss   cls_loss   dfl_loss  Instances       Size\n"
          ]
        },
        {
          "output_type": "stream",
          "name": "stderr",
          "text": [
            "      32/50      2.22G     0.7187     0.7736      1.016          8        640: 100%|██████████| 34/34 [00:14<00:00,  2.41it/s]\n",
            "                 Class     Images  Instances      Box(P          R      mAP50  mAP50-95): 100%|██████████| 7/7 [00:02<00:00,  2.85it/s]"
          ]
        },
        {
          "output_type": "stream",
          "name": "stdout",
          "text": [
            "                   all        194        171       0.82      0.871      0.832      0.675\n"
          ]
        },
        {
          "output_type": "stream",
          "name": "stderr",
          "text": [
            "\n"
          ]
        },
        {
          "output_type": "stream",
          "name": "stdout",
          "text": [
            "\n",
            "      Epoch    GPU_mem   box_loss   cls_loss   dfl_loss  Instances       Size\n"
          ]
        },
        {
          "output_type": "stream",
          "name": "stderr",
          "text": [
            "      33/50      2.23G     0.7246     0.7592      1.024         11        640: 100%|██████████| 34/34 [00:13<00:00,  2.48it/s]\n",
            "                 Class     Images  Instances      Box(P          R      mAP50  mAP50-95): 100%|██████████| 7/7 [00:02<00:00,  2.80it/s]"
          ]
        },
        {
          "output_type": "stream",
          "name": "stdout",
          "text": [
            "                   all        194        171       0.84      0.865      0.852      0.698\n"
          ]
        },
        {
          "output_type": "stream",
          "name": "stderr",
          "text": [
            "\n"
          ]
        },
        {
          "output_type": "stream",
          "name": "stdout",
          "text": [
            "\n",
            "      Epoch    GPU_mem   box_loss   cls_loss   dfl_loss  Instances       Size\n"
          ]
        },
        {
          "output_type": "stream",
          "name": "stderr",
          "text": [
            "      34/50      2.22G     0.7621      0.766      1.048          9        640: 100%|██████████| 34/34 [00:14<00:00,  2.41it/s]\n",
            "                 Class     Images  Instances      Box(P          R      mAP50  mAP50-95): 100%|██████████| 7/7 [00:02<00:00,  2.88it/s]"
          ]
        },
        {
          "output_type": "stream",
          "name": "stdout",
          "text": [
            "                   all        194        171      0.782       0.88      0.816      0.674\n"
          ]
        },
        {
          "output_type": "stream",
          "name": "stderr",
          "text": [
            "\n"
          ]
        },
        {
          "output_type": "stream",
          "name": "stdout",
          "text": [
            "\n",
            "      Epoch    GPU_mem   box_loss   cls_loss   dfl_loss  Instances       Size\n"
          ]
        },
        {
          "output_type": "stream",
          "name": "stderr",
          "text": [
            "      35/50      2.22G     0.7071     0.7284      1.008          5        640: 100%|██████████| 34/34 [00:14<00:00,  2.43it/s]\n",
            "                 Class     Images  Instances      Box(P          R      mAP50  mAP50-95): 100%|██████████| 7/7 [00:02<00:00,  2.99it/s]"
          ]
        },
        {
          "output_type": "stream",
          "name": "stdout",
          "text": [
            "                   all        194        171      0.835      0.889      0.846      0.676\n"
          ]
        },
        {
          "output_type": "stream",
          "name": "stderr",
          "text": [
            "\n"
          ]
        },
        {
          "output_type": "stream",
          "name": "stdout",
          "text": [
            "\n",
            "      Epoch    GPU_mem   box_loss   cls_loss   dfl_loss  Instances       Size\n"
          ]
        },
        {
          "output_type": "stream",
          "name": "stderr",
          "text": [
            "      36/50      2.23G     0.7236     0.7512      1.039          8        640: 100%|██████████| 34/34 [00:14<00:00,  2.41it/s]\n",
            "                 Class     Images  Instances      Box(P          R      mAP50  mAP50-95): 100%|██████████| 7/7 [00:02<00:00,  2.97it/s]"
          ]
        },
        {
          "output_type": "stream",
          "name": "stdout",
          "text": [
            "                   all        194        171      0.826      0.807      0.819      0.662\n"
          ]
        },
        {
          "output_type": "stream",
          "name": "stderr",
          "text": [
            "\n"
          ]
        },
        {
          "output_type": "stream",
          "name": "stdout",
          "text": [
            "\n",
            "      Epoch    GPU_mem   box_loss   cls_loss   dfl_loss  Instances       Size\n"
          ]
        },
        {
          "output_type": "stream",
          "name": "stderr",
          "text": [
            "      37/50      2.22G     0.7002     0.6648      1.016          9        640: 100%|██████████| 34/34 [00:13<00:00,  2.50it/s]\n",
            "                 Class     Images  Instances      Box(P          R      mAP50  mAP50-95): 100%|██████████| 7/7 [00:02<00:00,  2.80it/s]"
          ]
        },
        {
          "output_type": "stream",
          "name": "stdout",
          "text": [
            "                   all        194        171      0.806      0.826      0.838      0.687\n"
          ]
        },
        {
          "output_type": "stream",
          "name": "stderr",
          "text": [
            "\n"
          ]
        },
        {
          "output_type": "stream",
          "name": "stdout",
          "text": [
            "\n",
            "      Epoch    GPU_mem   box_loss   cls_loss   dfl_loss  Instances       Size\n"
          ]
        },
        {
          "output_type": "stream",
          "name": "stderr",
          "text": [
            "      38/50      2.22G     0.7132     0.6831      1.026          8        640: 100%|██████████| 34/34 [00:13<00:00,  2.44it/s]\n",
            "                 Class     Images  Instances      Box(P          R      mAP50  mAP50-95): 100%|██████████| 7/7 [00:02<00:00,  2.72it/s]"
          ]
        },
        {
          "output_type": "stream",
          "name": "stdout",
          "text": [
            "                   all        194        171      0.799      0.865      0.854      0.695\n"
          ]
        },
        {
          "output_type": "stream",
          "name": "stderr",
          "text": [
            "\n"
          ]
        },
        {
          "output_type": "stream",
          "name": "stdout",
          "text": [
            "\n",
            "      Epoch    GPU_mem   box_loss   cls_loss   dfl_loss  Instances       Size\n"
          ]
        },
        {
          "output_type": "stream",
          "name": "stderr",
          "text": [
            "      39/50      2.22G     0.7017     0.6412      1.018          7        640: 100%|██████████| 34/34 [00:13<00:00,  2.59it/s]\n",
            "                 Class     Images  Instances      Box(P          R      mAP50  mAP50-95): 100%|██████████| 7/7 [00:03<00:00,  2.29it/s]"
          ]
        },
        {
          "output_type": "stream",
          "name": "stdout",
          "text": [
            "                   all        194        171      0.824       0.86      0.854      0.708\n"
          ]
        },
        {
          "output_type": "stream",
          "name": "stderr",
          "text": [
            "\n"
          ]
        },
        {
          "output_type": "stream",
          "name": "stdout",
          "text": [
            "\n",
            "      Epoch    GPU_mem   box_loss   cls_loss   dfl_loss  Instances       Size\n"
          ]
        },
        {
          "output_type": "stream",
          "name": "stderr",
          "text": [
            "      40/50      2.22G     0.6758      0.651     0.9867          8        640: 100%|██████████| 34/34 [00:12<00:00,  2.68it/s]\n",
            "                 Class     Images  Instances      Box(P          R      mAP50  mAP50-95): 100%|██████████| 7/7 [00:03<00:00,  2.07it/s]"
          ]
        },
        {
          "output_type": "stream",
          "name": "stdout",
          "text": [
            "                   all        194        171      0.839      0.854       0.85      0.689\n"
          ]
        },
        {
          "output_type": "stream",
          "name": "stderr",
          "text": [
            "\n"
          ]
        },
        {
          "output_type": "stream",
          "name": "stdout",
          "text": [
            "Closing dataloader mosaic\n",
            "\u001b[34m\u001b[1malbumentations: \u001b[0mBlur(p=0.01, blur_limit=(3, 7)), MedianBlur(p=0.01, blur_limit=(3, 7)), ToGray(p=0.01, num_output_channels=3, method='weighted_average'), CLAHE(p=0.01, clip_limit=(1.0, 4.0), tile_grid_size=(8, 8))\n",
            "\n",
            "      Epoch    GPU_mem   box_loss   cls_loss   dfl_loss  Instances       Size\n"
          ]
        },
        {
          "output_type": "stream",
          "name": "stderr",
          "text": [
            "      41/50      2.22G     0.6155     0.5951     0.9756          6        640: 100%|██████████| 34/34 [00:14<00:00,  2.30it/s]\n",
            "                 Class     Images  Instances      Box(P          R      mAP50  mAP50-95): 100%|██████████| 7/7 [00:02<00:00,  2.37it/s]"
          ]
        },
        {
          "output_type": "stream",
          "name": "stdout",
          "text": [
            "                   all        194        171      0.842      0.848      0.857      0.707\n"
          ]
        },
        {
          "output_type": "stream",
          "name": "stderr",
          "text": [
            "\n"
          ]
        },
        {
          "output_type": "stream",
          "name": "stdout",
          "text": [
            "\n",
            "      Epoch    GPU_mem   box_loss   cls_loss   dfl_loss  Instances       Size\n"
          ]
        },
        {
          "output_type": "stream",
          "name": "stderr",
          "text": [
            "      42/50      2.22G     0.5685      0.556     0.9463          7        640: 100%|██████████| 34/34 [00:11<00:00,  2.94it/s]\n",
            "                 Class     Images  Instances      Box(P          R      mAP50  mAP50-95): 100%|██████████| 7/7 [00:03<00:00,  1.80it/s]"
          ]
        },
        {
          "output_type": "stream",
          "name": "stdout",
          "text": [
            "                   all        194        171      0.839      0.865      0.846      0.683\n"
          ]
        },
        {
          "output_type": "stream",
          "name": "stderr",
          "text": [
            "\n"
          ]
        },
        {
          "output_type": "stream",
          "name": "stdout",
          "text": [
            "\n",
            "      Epoch    GPU_mem   box_loss   cls_loss   dfl_loss  Instances       Size\n"
          ]
        },
        {
          "output_type": "stream",
          "name": "stderr",
          "text": [
            "      43/50      2.22G     0.5587     0.5225     0.9243          5        640: 100%|██████████| 34/34 [00:10<00:00,  3.21it/s]\n",
            "                 Class     Images  Instances      Box(P          R      mAP50  mAP50-95): 100%|██████████| 7/7 [00:03<00:00,  1.94it/s]"
          ]
        },
        {
          "output_type": "stream",
          "name": "stdout",
          "text": [
            "                   all        194        171      0.834      0.901      0.863      0.694\n"
          ]
        },
        {
          "output_type": "stream",
          "name": "stderr",
          "text": [
            "\n"
          ]
        },
        {
          "output_type": "stream",
          "name": "stdout",
          "text": [
            "\n",
            "      Epoch    GPU_mem   box_loss   cls_loss   dfl_loss  Instances       Size\n"
          ]
        },
        {
          "output_type": "stream",
          "name": "stderr",
          "text": [
            "      44/50      2.22G     0.5503     0.5245     0.9192          4        640: 100%|██████████| 34/34 [00:10<00:00,  3.13it/s]\n",
            "                 Class     Images  Instances      Box(P          R      mAP50  mAP50-95): 100%|██████████| 7/7 [00:02<00:00,  2.75it/s]"
          ]
        },
        {
          "output_type": "stream",
          "name": "stdout",
          "text": [
            "                   all        194        171      0.801      0.895      0.854      0.703\n"
          ]
        },
        {
          "output_type": "stream",
          "name": "stderr",
          "text": [
            "\n"
          ]
        },
        {
          "output_type": "stream",
          "name": "stdout",
          "text": [
            "\n",
            "      Epoch    GPU_mem   box_loss   cls_loss   dfl_loss  Instances       Size\n"
          ]
        },
        {
          "output_type": "stream",
          "name": "stderr",
          "text": [
            "      45/50      2.22G     0.5594     0.5344     0.9372          6        640: 100%|██████████| 34/34 [00:11<00:00,  2.87it/s]\n",
            "                 Class     Images  Instances      Box(P          R      mAP50  mAP50-95): 100%|██████████| 7/7 [00:02<00:00,  3.10it/s]"
          ]
        },
        {
          "output_type": "stream",
          "name": "stdout",
          "text": [
            "                   all        194        171      0.859      0.823      0.856      0.712\n"
          ]
        },
        {
          "output_type": "stream",
          "name": "stderr",
          "text": [
            "\n"
          ]
        },
        {
          "output_type": "stream",
          "name": "stdout",
          "text": [
            "\n",
            "      Epoch    GPU_mem   box_loss   cls_loss   dfl_loss  Instances       Size\n"
          ]
        },
        {
          "output_type": "stream",
          "name": "stderr",
          "text": [
            "      46/50      2.22G     0.5474     0.5002     0.9264          5        640: 100%|██████████| 34/34 [00:12<00:00,  2.66it/s]\n",
            "                 Class     Images  Instances      Box(P          R      mAP50  mAP50-95): 100%|██████████| 7/7 [00:02<00:00,  2.79it/s]"
          ]
        },
        {
          "output_type": "stream",
          "name": "stdout",
          "text": [
            "                   all        194        171      0.808      0.842      0.836      0.704\n"
          ]
        },
        {
          "output_type": "stream",
          "name": "stderr",
          "text": [
            "\n"
          ]
        },
        {
          "output_type": "stream",
          "name": "stdout",
          "text": [
            "\n",
            "      Epoch    GPU_mem   box_loss   cls_loss   dfl_loss  Instances       Size\n"
          ]
        },
        {
          "output_type": "stream",
          "name": "stderr",
          "text": [
            "      47/50      2.22G     0.5438     0.5158      0.924          7        640: 100%|██████████| 34/34 [00:13<00:00,  2.46it/s]\n",
            "                 Class     Images  Instances      Box(P          R      mAP50  mAP50-95): 100%|██████████| 7/7 [00:02<00:00,  3.35it/s]"
          ]
        },
        {
          "output_type": "stream",
          "name": "stdout",
          "text": [
            "                   all        194        171      0.811      0.854      0.853      0.713\n"
          ]
        },
        {
          "output_type": "stream",
          "name": "stderr",
          "text": [
            "\n"
          ]
        },
        {
          "output_type": "stream",
          "name": "stdout",
          "text": [
            "\n",
            "      Epoch    GPU_mem   box_loss   cls_loss   dfl_loss  Instances       Size\n"
          ]
        },
        {
          "output_type": "stream",
          "name": "stderr",
          "text": [
            "      48/50      2.22G     0.5201     0.4947     0.9219          3        640: 100%|██████████| 34/34 [00:13<00:00,  2.53it/s]\n",
            "                 Class     Images  Instances      Box(P          R      mAP50  mAP50-95): 100%|██████████| 7/7 [00:01<00:00,  3.58it/s]"
          ]
        },
        {
          "output_type": "stream",
          "name": "stdout",
          "text": [
            "                   all        194        171      0.836      0.848      0.854      0.717\n"
          ]
        },
        {
          "output_type": "stream",
          "name": "stderr",
          "text": [
            "\n"
          ]
        },
        {
          "output_type": "stream",
          "name": "stdout",
          "text": [
            "\n",
            "      Epoch    GPU_mem   box_loss   cls_loss   dfl_loss  Instances       Size\n"
          ]
        },
        {
          "output_type": "stream",
          "name": "stderr",
          "text": [
            "      49/50      2.22G      0.498     0.4616     0.9034          5        640: 100%|██████████| 34/34 [00:12<00:00,  2.68it/s]\n",
            "                 Class     Images  Instances      Box(P          R      mAP50  mAP50-95): 100%|██████████| 7/7 [00:02<00:00,  2.82it/s]"
          ]
        },
        {
          "output_type": "stream",
          "name": "stdout",
          "text": [
            "                   all        194        171      0.844      0.836      0.857      0.726\n"
          ]
        },
        {
          "output_type": "stream",
          "name": "stderr",
          "text": [
            "\n"
          ]
        },
        {
          "output_type": "stream",
          "name": "stdout",
          "text": [
            "\n",
            "      Epoch    GPU_mem   box_loss   cls_loss   dfl_loss  Instances       Size\n"
          ]
        },
        {
          "output_type": "stream",
          "name": "stderr",
          "text": [
            "      50/50      2.22G     0.5043     0.4649     0.9079          6        640: 100%|██████████| 34/34 [00:12<00:00,  2.72it/s]\n",
            "                 Class     Images  Instances      Box(P          R      mAP50  mAP50-95): 100%|██████████| 7/7 [00:03<00:00,  1.80it/s]"
          ]
        },
        {
          "output_type": "stream",
          "name": "stdout",
          "text": [
            "                   all        194        171      0.846      0.848      0.858      0.713\n"
          ]
        },
        {
          "output_type": "stream",
          "name": "stderr",
          "text": [
            "\n"
          ]
        },
        {
          "output_type": "stream",
          "name": "stdout",
          "text": [
            "\n",
            "50 epochs completed in 0.242 hours.\n",
            "Optimizer stripped from runs/detect/brain_tumor_nano/weights/last.pt, 6.2MB\n",
            "Optimizer stripped from runs/detect/brain_tumor_nano/weights/best.pt, 6.2MB\n",
            "\n",
            "Validating runs/detect/brain_tumor_nano/weights/best.pt...\n",
            "Ultralytics 8.3.34 🚀 Python-3.10.12 torch-2.5.1+cu121 CUDA:0 (Tesla T4, 15102MiB)\n",
            "Model summary (fused): 168 layers, 3,006,038 parameters, 0 gradients, 8.1 GFLOPs\n"
          ]
        },
        {
          "output_type": "stream",
          "name": "stderr",
          "text": [
            "                 Class     Images  Instances      Box(P          R      mAP50  mAP50-95): 100%|██████████| 7/7 [00:03<00:00,  1.99it/s]\n"
          ]
        },
        {
          "output_type": "stream",
          "name": "stdout",
          "text": [
            "                   all        194        171      0.844      0.836      0.857      0.725\n",
            "                 tumor        165        171      0.844      0.836      0.857      0.725\n",
            "Speed: 0.3ms preprocess, 2.5ms inference, 0.0ms loss, 5.4ms postprocess per image\n",
            "Results saved to \u001b[1mruns/detect/brain_tumor_nano\u001b[0m\n"
          ]
        },
        {
          "output_type": "execute_result",
          "data": {
            "text/plain": [
              "ultralytics.utils.metrics.DetMetrics object with attributes:\n",
              "\n",
              "ap_class_index: array([0])\n",
              "box: ultralytics.utils.metrics.Metric object\n",
              "confusion_matrix: <ultralytics.utils.metrics.ConfusionMatrix object at 0x7884a0aca5f0>\n",
              "curves: ['Precision-Recall(B)', 'F1-Confidence(B)', 'Precision-Confidence(B)', 'Recall-Confidence(B)']\n",
              "curves_results: [[array([          0,    0.001001,    0.002002,    0.003003,    0.004004,    0.005005,    0.006006,    0.007007,    0.008008,    0.009009,     0.01001,    0.011011,    0.012012,    0.013013,    0.014014,    0.015015,    0.016016,    0.017017,    0.018018,    0.019019,     0.02002,    0.021021,    0.022022,    0.023023,\n",
              "          0.024024,    0.025025,    0.026026,    0.027027,    0.028028,    0.029029,     0.03003,    0.031031,    0.032032,    0.033033,    0.034034,    0.035035,    0.036036,    0.037037,    0.038038,    0.039039,     0.04004,    0.041041,    0.042042,    0.043043,    0.044044,    0.045045,    0.046046,    0.047047,\n",
              "          0.048048,    0.049049,     0.05005,    0.051051,    0.052052,    0.053053,    0.054054,    0.055055,    0.056056,    0.057057,    0.058058,    0.059059,     0.06006,    0.061061,    0.062062,    0.063063,    0.064064,    0.065065,    0.066066,    0.067067,    0.068068,    0.069069,     0.07007,    0.071071,\n",
              "          0.072072,    0.073073,    0.074074,    0.075075,    0.076076,    0.077077,    0.078078,    0.079079,     0.08008,    0.081081,    0.082082,    0.083083,    0.084084,    0.085085,    0.086086,    0.087087,    0.088088,    0.089089,     0.09009,    0.091091,    0.092092,    0.093093,    0.094094,    0.095095,\n",
              "          0.096096,    0.097097,    0.098098,    0.099099,      0.1001,      0.1011,      0.1021,      0.1031,      0.1041,     0.10511,     0.10611,     0.10711,     0.10811,     0.10911,     0.11011,     0.11111,     0.11211,     0.11311,     0.11411,     0.11512,     0.11612,     0.11712,     0.11812,     0.11912,\n",
              "           0.12012,     0.12112,     0.12212,     0.12312,     0.12412,     0.12513,     0.12613,     0.12713,     0.12813,     0.12913,     0.13013,     0.13113,     0.13213,     0.13313,     0.13413,     0.13514,     0.13614,     0.13714,     0.13814,     0.13914,     0.14014,     0.14114,     0.14214,     0.14314,\n",
              "           0.14414,     0.14515,     0.14615,     0.14715,     0.14815,     0.14915,     0.15015,     0.15115,     0.15215,     0.15315,     0.15415,     0.15516,     0.15616,     0.15716,     0.15816,     0.15916,     0.16016,     0.16116,     0.16216,     0.16316,     0.16416,     0.16517,     0.16617,     0.16717,\n",
              "           0.16817,     0.16917,     0.17017,     0.17117,     0.17217,     0.17317,     0.17417,     0.17518,     0.17618,     0.17718,     0.17818,     0.17918,     0.18018,     0.18118,     0.18218,     0.18318,     0.18418,     0.18519,     0.18619,     0.18719,     0.18819,     0.18919,     0.19019,     0.19119,\n",
              "           0.19219,     0.19319,     0.19419,      0.1952,      0.1962,      0.1972,      0.1982,      0.1992,      0.2002,      0.2012,      0.2022,      0.2032,      0.2042,     0.20521,     0.20621,     0.20721,     0.20821,     0.20921,     0.21021,     0.21121,     0.21221,     0.21321,     0.21421,     0.21522,\n",
              "           0.21622,     0.21722,     0.21822,     0.21922,     0.22022,     0.22122,     0.22222,     0.22322,     0.22422,     0.22523,     0.22623,     0.22723,     0.22823,     0.22923,     0.23023,     0.23123,     0.23223,     0.23323,     0.23423,     0.23524,     0.23624,     0.23724,     0.23824,     0.23924,\n",
              "           0.24024,     0.24124,     0.24224,     0.24324,     0.24424,     0.24525,     0.24625,     0.24725,     0.24825,     0.24925,     0.25025,     0.25125,     0.25225,     0.25325,     0.25425,     0.25526,     0.25626,     0.25726,     0.25826,     0.25926,     0.26026,     0.26126,     0.26226,     0.26326,\n",
              "           0.26426,     0.26527,     0.26627,     0.26727,     0.26827,     0.26927,     0.27027,     0.27127,     0.27227,     0.27327,     0.27427,     0.27528,     0.27628,     0.27728,     0.27828,     0.27928,     0.28028,     0.28128,     0.28228,     0.28328,     0.28428,     0.28529,     0.28629,     0.28729,\n",
              "           0.28829,     0.28929,     0.29029,     0.29129,     0.29229,     0.29329,     0.29429,      0.2953,      0.2963,      0.2973,      0.2983,      0.2993,      0.3003,      0.3013,      0.3023,      0.3033,      0.3043,     0.30531,     0.30631,     0.30731,     0.30831,     0.30931,     0.31031,     0.31131,\n",
              "           0.31231,     0.31331,     0.31431,     0.31532,     0.31632,     0.31732,     0.31832,     0.31932,     0.32032,     0.32132,     0.32232,     0.32332,     0.32432,     0.32533,     0.32633,     0.32733,     0.32833,     0.32933,     0.33033,     0.33133,     0.33233,     0.33333,     0.33433,     0.33534,\n",
              "           0.33634,     0.33734,     0.33834,     0.33934,     0.34034,     0.34134,     0.34234,     0.34334,     0.34434,     0.34535,     0.34635,     0.34735,     0.34835,     0.34935,     0.35035,     0.35135,     0.35235,     0.35335,     0.35435,     0.35536,     0.35636,     0.35736,     0.35836,     0.35936,\n",
              "           0.36036,     0.36136,     0.36236,     0.36336,     0.36436,     0.36537,     0.36637,     0.36737,     0.36837,     0.36937,     0.37037,     0.37137,     0.37237,     0.37337,     0.37437,     0.37538,     0.37638,     0.37738,     0.37838,     0.37938,     0.38038,     0.38138,     0.38238,     0.38338,\n",
              "           0.38438,     0.38539,     0.38639,     0.38739,     0.38839,     0.38939,     0.39039,     0.39139,     0.39239,     0.39339,     0.39439,      0.3954,      0.3964,      0.3974,      0.3984,      0.3994,      0.4004,      0.4014,      0.4024,      0.4034,      0.4044,     0.40541,     0.40641,     0.40741,\n",
              "           0.40841,     0.40941,     0.41041,     0.41141,     0.41241,     0.41341,     0.41441,     0.41542,     0.41642,     0.41742,     0.41842,     0.41942,     0.42042,     0.42142,     0.42242,     0.42342,     0.42442,     0.42543,     0.42643,     0.42743,     0.42843,     0.42943,     0.43043,     0.43143,\n",
              "           0.43243,     0.43343,     0.43443,     0.43544,     0.43644,     0.43744,     0.43844,     0.43944,     0.44044,     0.44144,     0.44244,     0.44344,     0.44444,     0.44545,     0.44645,     0.44745,     0.44845,     0.44945,     0.45045,     0.45145,     0.45245,     0.45345,     0.45445,     0.45546,\n",
              "           0.45646,     0.45746,     0.45846,     0.45946,     0.46046,     0.46146,     0.46246,     0.46346,     0.46446,     0.46547,     0.46647,     0.46747,     0.46847,     0.46947,     0.47047,     0.47147,     0.47247,     0.47347,     0.47447,     0.47548,     0.47648,     0.47748,     0.47848,     0.47948,\n",
              "           0.48048,     0.48148,     0.48248,     0.48348,     0.48448,     0.48549,     0.48649,     0.48749,     0.48849,     0.48949,     0.49049,     0.49149,     0.49249,     0.49349,     0.49449,      0.4955,      0.4965,      0.4975,      0.4985,      0.4995,      0.5005,      0.5015,      0.5025,      0.5035,\n",
              "            0.5045,     0.50551,     0.50651,     0.50751,     0.50851,     0.50951,     0.51051,     0.51151,     0.51251,     0.51351,     0.51451,     0.51552,     0.51652,     0.51752,     0.51852,     0.51952,     0.52052,     0.52152,     0.52252,     0.52352,     0.52452,     0.52553,     0.52653,     0.52753,\n",
              "           0.52853,     0.52953,     0.53053,     0.53153,     0.53253,     0.53353,     0.53453,     0.53554,     0.53654,     0.53754,     0.53854,     0.53954,     0.54054,     0.54154,     0.54254,     0.54354,     0.54454,     0.54555,     0.54655,     0.54755,     0.54855,     0.54955,     0.55055,     0.55155,\n",
              "           0.55255,     0.55355,     0.55455,     0.55556,     0.55656,     0.55756,     0.55856,     0.55956,     0.56056,     0.56156,     0.56256,     0.56356,     0.56456,     0.56557,     0.56657,     0.56757,     0.56857,     0.56957,     0.57057,     0.57157,     0.57257,     0.57357,     0.57457,     0.57558,\n",
              "           0.57658,     0.57758,     0.57858,     0.57958,     0.58058,     0.58158,     0.58258,     0.58358,     0.58458,     0.58559,     0.58659,     0.58759,     0.58859,     0.58959,     0.59059,     0.59159,     0.59259,     0.59359,     0.59459,      0.5956,      0.5966,      0.5976,      0.5986,      0.5996,\n",
              "            0.6006,      0.6016,      0.6026,      0.6036,      0.6046,     0.60561,     0.60661,     0.60761,     0.60861,     0.60961,     0.61061,     0.61161,     0.61261,     0.61361,     0.61461,     0.61562,     0.61662,     0.61762,     0.61862,     0.61962,     0.62062,     0.62162,     0.62262,     0.62362,\n",
              "           0.62462,     0.62563,     0.62663,     0.62763,     0.62863,     0.62963,     0.63063,     0.63163,     0.63263,     0.63363,     0.63463,     0.63564,     0.63664,     0.63764,     0.63864,     0.63964,     0.64064,     0.64164,     0.64264,     0.64364,     0.64464,     0.64565,     0.64665,     0.64765,\n",
              "           0.64865,     0.64965,     0.65065,     0.65165,     0.65265,     0.65365,     0.65465,     0.65566,     0.65666,     0.65766,     0.65866,     0.65966,     0.66066,     0.66166,     0.66266,     0.66366,     0.66466,     0.66567,     0.66667,     0.66767,     0.66867,     0.66967,     0.67067,     0.67167,\n",
              "           0.67267,     0.67367,     0.67467,     0.67568,     0.67668,     0.67768,     0.67868,     0.67968,     0.68068,     0.68168,     0.68268,     0.68368,     0.68468,     0.68569,     0.68669,     0.68769,     0.68869,     0.68969,     0.69069,     0.69169,     0.69269,     0.69369,     0.69469,      0.6957,\n",
              "            0.6967,      0.6977,      0.6987,      0.6997,      0.7007,      0.7017,      0.7027,      0.7037,      0.7047,     0.70571,     0.70671,     0.70771,     0.70871,     0.70971,     0.71071,     0.71171,     0.71271,     0.71371,     0.71471,     0.71572,     0.71672,     0.71772,     0.71872,     0.71972,\n",
              "           0.72072,     0.72172,     0.72272,     0.72372,     0.72472,     0.72573,     0.72673,     0.72773,     0.72873,     0.72973,     0.73073,     0.73173,     0.73273,     0.73373,     0.73473,     0.73574,     0.73674,     0.73774,     0.73874,     0.73974,     0.74074,     0.74174,     0.74274,     0.74374,\n",
              "           0.74474,     0.74575,     0.74675,     0.74775,     0.74875,     0.74975,     0.75075,     0.75175,     0.75275,     0.75375,     0.75475,     0.75576,     0.75676,     0.75776,     0.75876,     0.75976,     0.76076,     0.76176,     0.76276,     0.76376,     0.76476,     0.76577,     0.76677,     0.76777,\n",
              "           0.76877,     0.76977,     0.77077,     0.77177,     0.77277,     0.77377,     0.77477,     0.77578,     0.77678,     0.77778,     0.77878,     0.77978,     0.78078,     0.78178,     0.78278,     0.78378,     0.78478,     0.78579,     0.78679,     0.78779,     0.78879,     0.78979,     0.79079,     0.79179,\n",
              "           0.79279,     0.79379,     0.79479,      0.7958,      0.7968,      0.7978,      0.7988,      0.7998,      0.8008,      0.8018,      0.8028,      0.8038,      0.8048,     0.80581,     0.80681,     0.80781,     0.80881,     0.80981,     0.81081,     0.81181,     0.81281,     0.81381,     0.81481,     0.81582,\n",
              "           0.81682,     0.81782,     0.81882,     0.81982,     0.82082,     0.82182,     0.82282,     0.82382,     0.82482,     0.82583,     0.82683,     0.82783,     0.82883,     0.82983,     0.83083,     0.83183,     0.83283,     0.83383,     0.83483,     0.83584,     0.83684,     0.83784,     0.83884,     0.83984,\n",
              "           0.84084,     0.84184,     0.84284,     0.84384,     0.84484,     0.84585,     0.84685,     0.84785,     0.84885,     0.84985,     0.85085,     0.85185,     0.85285,     0.85385,     0.85485,     0.85586,     0.85686,     0.85786,     0.85886,     0.85986,     0.86086,     0.86186,     0.86286,     0.86386,\n",
              "           0.86486,     0.86587,     0.86687,     0.86787,     0.86887,     0.86987,     0.87087,     0.87187,     0.87287,     0.87387,     0.87487,     0.87588,     0.87688,     0.87788,     0.87888,     0.87988,     0.88088,     0.88188,     0.88288,     0.88388,     0.88488,     0.88589,     0.88689,     0.88789,\n",
              "           0.88889,     0.88989,     0.89089,     0.89189,     0.89289,     0.89389,     0.89489,      0.8959,      0.8969,      0.8979,      0.8989,      0.8999,      0.9009,      0.9019,      0.9029,      0.9039,      0.9049,     0.90591,     0.90691,     0.90791,     0.90891,     0.90991,     0.91091,     0.91191,\n",
              "           0.91291,     0.91391,     0.91491,     0.91592,     0.91692,     0.91792,     0.91892,     0.91992,     0.92092,     0.92192,     0.92292,     0.92392,     0.92492,     0.92593,     0.92693,     0.92793,     0.92893,     0.92993,     0.93093,     0.93193,     0.93293,     0.93393,     0.93493,     0.93594,\n",
              "           0.93694,     0.93794,     0.93894,     0.93994,     0.94094,     0.94194,     0.94294,     0.94394,     0.94494,     0.94595,     0.94695,     0.94795,     0.94895,     0.94995,     0.95095,     0.95195,     0.95295,     0.95395,     0.95495,     0.95596,     0.95696,     0.95796,     0.95896,     0.95996,\n",
              "           0.96096,     0.96196,     0.96296,     0.96396,     0.96496,     0.96597,     0.96697,     0.96797,     0.96897,     0.96997,     0.97097,     0.97197,     0.97297,     0.97397,     0.97497,     0.97598,     0.97698,     0.97798,     0.97898,     0.97998,     0.98098,     0.98198,     0.98298,     0.98398,\n",
              "           0.98498,     0.98599,     0.98699,     0.98799,     0.98899,     0.98999,     0.99099,     0.99199,     0.99299,     0.99399,     0.99499,       0.996,       0.997,       0.998,       0.999,           1]), array([[          1,           1,           1,           1,           1,           1,           1,           1,           1,           1,           1,           1,           1,           1,           1,           1,           1,           1,           1,           1,           1,           1,           1,\n",
              "                  1,           1,           1,           1,           1,           1,           1,     0.94737,     0.94737,     0.94737,     0.94737,     0.94737,     0.94737,     0.94737,     0.94737,     0.94737,     0.94737,     0.94737,     0.94737,     0.94737,     0.94737,     0.94737,     0.94737,\n",
              "            0.94737,     0.94737,     0.94737,     0.94737,     0.94737,     0.94737,     0.94737,     0.94737,     0.94737,     0.94737,     0.94737,     0.94737,     0.94737,     0.94737,     0.94737,     0.94737,     0.94737,     0.94737,     0.94737,     0.94737,     0.94737,     0.94737,     0.94737,\n",
              "            0.94737,     0.94737,     0.94737,     0.94737,     0.94737,     0.94737,     0.94737,     0.94737,     0.94737,     0.94737,     0.94737,     0.94737,     0.94737,     0.94737,     0.94737,     0.94737,     0.94737,     0.94737,     0.94737,     0.94737,     0.94737,     0.94737,     0.94737,\n",
              "            0.94737,     0.94737,     0.94737,     0.94737,     0.94737,     0.94737,     0.94737,     0.94737,     0.94737,     0.94737,     0.94737,     0.94737,     0.94737,     0.94737,     0.92593,     0.92593,     0.92593,     0.92593,     0.92593,     0.92593,     0.92593,     0.92593,     0.92593,\n",
              "            0.92593,     0.92593,     0.92593,     0.92593,     0.92593,     0.92593,     0.92593,     0.92593,     0.92593,     0.92593,     0.92593,     0.92593,     0.92593,     0.92593,     0.92593,     0.92593,     0.92593,     0.92593,     0.92593,     0.92593,     0.92593,     0.92593,     0.92593,\n",
              "            0.92593,     0.92593,     0.92593,     0.92593,     0.92593,     0.92593,     0.92593,     0.92593,     0.92593,     0.91489,     0.91489,     0.91489,     0.91489,     0.91489,     0.91489,     0.91489,     0.91489,     0.91489,     0.91489,     0.91489,     0.91489,     0.91489,     0.91489,\n",
              "            0.91489,     0.91489,     0.91489,     0.91489,     0.91489,     0.91489,     0.91489,     0.91489,     0.91489,     0.91489,     0.91489,     0.91489,     0.91489,     0.91489,     0.91489,     0.91489,     0.91489,     0.91489,     0.91489,     0.91489,     0.91489,     0.91489,     0.91489,\n",
              "            0.91489,     0.91489,     0.91489,     0.91489,     0.91489,     0.91489,     0.91489,     0.91489,     0.91489,     0.91489,     0.91489,     0.91489,     0.91489,     0.91489,     0.91489,     0.91489,     0.91489,     0.91489,     0.91489,     0.91489,     0.91489,     0.91489,     0.91489,\n",
              "            0.91489,     0.91489,     0.91489,     0.91489,     0.91489,     0.91489,     0.91489,     0.91489,     0.91489,     0.91489,     0.91489,     0.91489,     0.91489,     0.91489,     0.91489,     0.91489,     0.91489,     0.91489,     0.91489,     0.91489,     0.91489,     0.91489,     0.91489,\n",
              "            0.91489,     0.91489,     0.91489,     0.91489,     0.91489,     0.91489,     0.91489,     0.91489,     0.91489,     0.91489,     0.91489,     0.91489,     0.91489,     0.91489,     0.91489,     0.91489,     0.91489,     0.91489,     0.91489,     0.91489,     0.91489,     0.91489,     0.90566,\n",
              "            0.90566,     0.90566,     0.90566,     0.90566,     0.90566,     0.90566,     0.90566,     0.90566,     0.90566,     0.90566,     0.90566,     0.90566,     0.90566,     0.90566,     0.90566,     0.90566,     0.90566,     0.90566,     0.90566,     0.90566,     0.90566,     0.90566,     0.90566,\n",
              "            0.90566,     0.90566,     0.90566,     0.90566,     0.90566,     0.90385,     0.90385,     0.90385,     0.90385,     0.90385,     0.90385,     0.90385,     0.90385,     0.90385,     0.90385,     0.90385,     0.90385,     0.90385,     0.90385,     0.90385,     0.90385,     0.90385,     0.90385,\n",
              "            0.90385,     0.90385,     0.90385,     0.90385,     0.90385,     0.90385,     0.90385,     0.90385,     0.90385,     0.90385,     0.90385,     0.90385,     0.90385,     0.90385,     0.90385,     0.90385,     0.90385,     0.90385,     0.90385,     0.90385,     0.90385,     0.90385,     0.90385,\n",
              "            0.90385,     0.90385,     0.90385,     0.90385,     0.90385,     0.90385,     0.90385,     0.90385,     0.90385,     0.90385,     0.90385,     0.90385,     0.90385,     0.90385,     0.90385,     0.90385,     0.90385,     0.90385,     0.90385,     0.90385,     0.90385,     0.90385,     0.90385,\n",
              "            0.90385,     0.90385,     0.90385,     0.90385,     0.90385,     0.90385,     0.90385,     0.90385,     0.90385,     0.90385,     0.90385,     0.90385,     0.90385,     0.90385,     0.90385,     0.90385,     0.90385,     0.90385,     0.90385,     0.90385,     0.90385,     0.90385,     0.90385,\n",
              "            0.90385,     0.90385,     0.90385,     0.90385,     0.90385,     0.90385,     0.90385,     0.90385,     0.90385,     0.90385,     0.90385,     0.90385,     0.90385,     0.90385,     0.90385,     0.90385,     0.90385,     0.90385,     0.90385,     0.90385,     0.90385,     0.90385,     0.90385,\n",
              "            0.90385,     0.90385,     0.90385,     0.90385,     0.90385,     0.90385,     0.90385,     0.90385,     0.90385,     0.90385,     0.90385,     0.90385,     0.90385,     0.90385,     0.90385,     0.90385,     0.90385,     0.90385,     0.90385,     0.90385,     0.90385,     0.90385,     0.90385,\n",
              "            0.90385,     0.90385,     0.90385,     0.90385,     0.90385,     0.90385,     0.90385,     0.90385,     0.90385,     0.90385,     0.90385,     0.90385,     0.90385,     0.90385,     0.90385,     0.90385,     0.90385,     0.90385,     0.90385,     0.90385,     0.90385,     0.90385,     0.90385,\n",
              "            0.90385,     0.90385,     0.90385,     0.90385,     0.90385,     0.90385,     0.90385,     0.90385,     0.90385,     0.90385,     0.90385,     0.90385,     0.90385,     0.90385,     0.90385,     0.90385,     0.90385,     0.90385,     0.90385,     0.90385,     0.90385,     0.90385,     0.90385,\n",
              "            0.90385,     0.90385,     0.90385,     0.90385,     0.90385,     0.90385,     0.90385,     0.90385,     0.90385,     0.90385,     0.90385,     0.90385,     0.90385,     0.90385,     0.90385,     0.90385,     0.90385,     0.90385,     0.90385,     0.90385,     0.90385,     0.90385,     0.90385,\n",
              "            0.90385,     0.90385,     0.90385,     0.90385,     0.90385,     0.90385,     0.90385,     0.90385,     0.90385,     0.90385,     0.90385,     0.90385,     0.90385,     0.90385,     0.90385,     0.90385,     0.90385,     0.90385,     0.90385,     0.90385,     0.90385,     0.90385,     0.90385,\n",
              "            0.90385,     0.90385,     0.90385,     0.90385,     0.90385,     0.90385,     0.90385,     0.90385,     0.90385,     0.90385,     0.90385,     0.90385,     0.90385,     0.90385,     0.90385,     0.90385,     0.90385,     0.90385,     0.90385,     0.90385,     0.90385,     0.90385,     0.90385,\n",
              "            0.90385,     0.90385,     0.90385,     0.90385,     0.90385,     0.90385,     0.90385,     0.90385,     0.90385,     0.90385,     0.90385,     0.90385,     0.90385,     0.90385,     0.90385,     0.90385,     0.90385,     0.90385,     0.90385,     0.90385,     0.90385,         0.9,         0.9,\n",
              "                0.9,         0.9,         0.9,         0.9,         0.9,         0.9,         0.9,         0.9,         0.9,         0.9,         0.9,         0.9,         0.9,         0.9,         0.9,         0.9,         0.9,         0.9,         0.9,         0.9,         0.9,         0.9,         0.9,\n",
              "                0.9,         0.9,         0.9,         0.9,     0.89916,     0.89916,     0.89916,     0.89916,     0.89916,     0.89916,     0.89916,     0.89916,     0.89916,     0.89916,     0.89916,     0.89916,     0.89916,     0.89916,     0.89916,     0.89916,     0.89916,     0.89916,     0.89916,\n",
              "            0.89916,     0.89916,     0.89916,     0.89916,     0.89916,     0.89916,     0.89916,     0.89916,     0.89916,     0.89916,     0.89916,     0.89916,     0.89916,     0.89916,     0.89916,     0.89916,     0.89916,     0.89916,     0.89916,     0.89916,     0.89916,     0.89916,     0.89916,\n",
              "            0.89916,     0.89916,     0.89916,     0.89916,     0.89916,       0.888,       0.888,       0.888,       0.888,       0.888,       0.888,       0.888,       0.888,       0.888,       0.888,       0.888,       0.888,       0.888,       0.888,       0.888,       0.888,       0.888,       0.888,\n",
              "              0.888,       0.888,       0.888,       0.888,       0.888,     0.88372,     0.88372,     0.88372,     0.88372,     0.88372,     0.88372,     0.88372,     0.88372,     0.88372,     0.88372,     0.88372,     0.88372,     0.88372,     0.88372,     0.88372,     0.88372,     0.88372,     0.87879,\n",
              "            0.87879,     0.87879,     0.87879,     0.87879,     0.87879,     0.87879,     0.87879,     0.87879,     0.87879,     0.87879,     0.87879,     0.87313,     0.87313,     0.87313,     0.87313,     0.87313,     0.87313,     0.87234,     0.87234,     0.87234,     0.87234,     0.87234,     0.87234,\n",
              "            0.87234,     0.87234,     0.87234,     0.87234,     0.87234,     0.87234,     0.87234,     0.87234,     0.87234,     0.87234,     0.87234,     0.87234,     0.87234,     0.87234,     0.87234,     0.87234,     0.87234,     0.87234,     0.87234,     0.87234,     0.87234,     0.87234,     0.87234,\n",
              "            0.87234,     0.87234,     0.87234,     0.87234,     0.87234,     0.87234,     0.86713,     0.86713,     0.86713,     0.86713,     0.86713,     0.86713,     0.85897,     0.85897,     0.85897,     0.85897,     0.85897,     0.85897,     0.85897,     0.85897,     0.85897,     0.85897,     0.85897,\n",
              "            0.85897,     0.85897,     0.85897,     0.85897,     0.85897,     0.85897,     0.85897,     0.85897,     0.85897,     0.85897,     0.85897,     0.85897,     0.85897,     0.85897,     0.85897,     0.85897,     0.85897,     0.85897,     0.85897,     0.85897,     0.85897,     0.85897,     0.85897,\n",
              "            0.85897,     0.85897,     0.85897,     0.85897,     0.85897,     0.85897,     0.85897,     0.85897,     0.85897,     0.85897,     0.85897,     0.85897,     0.85897,     0.85897,     0.85897,     0.85897,     0.85897,     0.85897,     0.85897,     0.85897,     0.85897,     0.85897,     0.85897,\n",
              "            0.85897,     0.85802,     0.85802,     0.85802,     0.85802,     0.85802,     0.85802,     0.85802,     0.85802,     0.85802,     0.85802,     0.85802,     0.85802,     0.85802,     0.85802,     0.85802,     0.85802,     0.85802,     0.85802,     0.85802,     0.85802,     0.85802,     0.85802,\n",
              "            0.85802,     0.85802,     0.85802,     0.85802,     0.85802,     0.85802,     0.85802,     0.85802,     0.85629,     0.85629,     0.85629,     0.85629,     0.85629,     0.85629,     0.85629,     0.85629,     0.85629,     0.85629,     0.85629,     0.85629,     0.85629,     0.85629,     0.85629,\n",
              "            0.85629,     0.85629,     0.85629,     0.85629,     0.85629,     0.85629,     0.85629,     0.85629,     0.84211,     0.84211,     0.84211,     0.84211,     0.84211,     0.84211,     0.83815,     0.83815,     0.83815,     0.83815,     0.83815,     0.83815,     0.82955,     0.82955,     0.82955,\n",
              "            0.82955,     0.82955,     0.81768,     0.81768,     0.81768,     0.81768,     0.81768,     0.81768,     0.81768,     0.81768,     0.81768,     0.81768,     0.81768,     0.81768,     0.80645,     0.80645,     0.80645,     0.80645,     0.80645,     0.80645,     0.80645,     0.80645,     0.80645,\n",
              "            0.80645,     0.80645,     0.80645,     0.80319,     0.80319,     0.80319,     0.80319,     0.80319,     0.80319,     0.78351,     0.78351,     0.78351,     0.78351,     0.78351,     0.77665,     0.77665,     0.77665,     0.77665,     0.77665,     0.77665,     0.76238,     0.76238,     0.76238,\n",
              "            0.76238,     0.76238,     0.76238,     0.74286,     0.74286,     0.74286,     0.74286,     0.74286,     0.74286,     0.74286,     0.74286,     0.74286,     0.74286,     0.74286,     0.74286,     0.74178,     0.74178,     0.74178,     0.74178,     0.74178,     0.74178,     0.74178,     0.74178,\n",
              "            0.74178,     0.74178,     0.74178,     0.74178,     0.73953,     0.73953,     0.73953,     0.73953,     0.73953,     0.73059,     0.73059,     0.73059,     0.73059,     0.73059,     0.73059,     0.70306,     0.70306,     0.70306,     0.70306,     0.70306,     0.70306,     0.52769,     0.52769,\n",
              "            0.52769,     0.52769,     0.52769,     0.52769,     0.47674,     0.47674,     0.47674,     0.47674,     0.47674,     0.47674,     0.47674,     0.47674,     0.47674,     0.47674,     0.47674,     0.47674,     0.45706,     0.45706,     0.45706,     0.45706,     0.45706,     0.39808,     0.39808,\n",
              "            0.39808,     0.39808,     0.39808,     0.39808,     0.31154,      0.3008,     0.29005,     0.27931,     0.26857,     0.25782,     0.24708,     0.23634,      0.2256,     0.21485,     0.20411,     0.19337,     0.18263,     0.17188,     0.16114,      0.1504,     0.13965,     0.12891,     0.11817,\n",
              "            0.10743,    0.096684,    0.085942,    0.075199,    0.064456,    0.053713,    0.042971,    0.032228,    0.021485,    0.010743,           0]]), 'Recall', 'Precision'], [array([          0,    0.001001,    0.002002,    0.003003,    0.004004,    0.005005,    0.006006,    0.007007,    0.008008,    0.009009,     0.01001,    0.011011,    0.012012,    0.013013,    0.014014,    0.015015,    0.016016,    0.017017,    0.018018,    0.019019,     0.02002,    0.021021,    0.022022,    0.023023,\n",
              "          0.024024,    0.025025,    0.026026,    0.027027,    0.028028,    0.029029,     0.03003,    0.031031,    0.032032,    0.033033,    0.034034,    0.035035,    0.036036,    0.037037,    0.038038,    0.039039,     0.04004,    0.041041,    0.042042,    0.043043,    0.044044,    0.045045,    0.046046,    0.047047,\n",
              "          0.048048,    0.049049,     0.05005,    0.051051,    0.052052,    0.053053,    0.054054,    0.055055,    0.056056,    0.057057,    0.058058,    0.059059,     0.06006,    0.061061,    0.062062,    0.063063,    0.064064,    0.065065,    0.066066,    0.067067,    0.068068,    0.069069,     0.07007,    0.071071,\n",
              "          0.072072,    0.073073,    0.074074,    0.075075,    0.076076,    0.077077,    0.078078,    0.079079,     0.08008,    0.081081,    0.082082,    0.083083,    0.084084,    0.085085,    0.086086,    0.087087,    0.088088,    0.089089,     0.09009,    0.091091,    0.092092,    0.093093,    0.094094,    0.095095,\n",
              "          0.096096,    0.097097,    0.098098,    0.099099,      0.1001,      0.1011,      0.1021,      0.1031,      0.1041,     0.10511,     0.10611,     0.10711,     0.10811,     0.10911,     0.11011,     0.11111,     0.11211,     0.11311,     0.11411,     0.11512,     0.11612,     0.11712,     0.11812,     0.11912,\n",
              "           0.12012,     0.12112,     0.12212,     0.12312,     0.12412,     0.12513,     0.12613,     0.12713,     0.12813,     0.12913,     0.13013,     0.13113,     0.13213,     0.13313,     0.13413,     0.13514,     0.13614,     0.13714,     0.13814,     0.13914,     0.14014,     0.14114,     0.14214,     0.14314,\n",
              "           0.14414,     0.14515,     0.14615,     0.14715,     0.14815,     0.14915,     0.15015,     0.15115,     0.15215,     0.15315,     0.15415,     0.15516,     0.15616,     0.15716,     0.15816,     0.15916,     0.16016,     0.16116,     0.16216,     0.16316,     0.16416,     0.16517,     0.16617,     0.16717,\n",
              "           0.16817,     0.16917,     0.17017,     0.17117,     0.17217,     0.17317,     0.17417,     0.17518,     0.17618,     0.17718,     0.17818,     0.17918,     0.18018,     0.18118,     0.18218,     0.18318,     0.18418,     0.18519,     0.18619,     0.18719,     0.18819,     0.18919,     0.19019,     0.19119,\n",
              "           0.19219,     0.19319,     0.19419,      0.1952,      0.1962,      0.1972,      0.1982,      0.1992,      0.2002,      0.2012,      0.2022,      0.2032,      0.2042,     0.20521,     0.20621,     0.20721,     0.20821,     0.20921,     0.21021,     0.21121,     0.21221,     0.21321,     0.21421,     0.21522,\n",
              "           0.21622,     0.21722,     0.21822,     0.21922,     0.22022,     0.22122,     0.22222,     0.22322,     0.22422,     0.22523,     0.22623,     0.22723,     0.22823,     0.22923,     0.23023,     0.23123,     0.23223,     0.23323,     0.23423,     0.23524,     0.23624,     0.23724,     0.23824,     0.23924,\n",
              "           0.24024,     0.24124,     0.24224,     0.24324,     0.24424,     0.24525,     0.24625,     0.24725,     0.24825,     0.24925,     0.25025,     0.25125,     0.25225,     0.25325,     0.25425,     0.25526,     0.25626,     0.25726,     0.25826,     0.25926,     0.26026,     0.26126,     0.26226,     0.26326,\n",
              "           0.26426,     0.26527,     0.26627,     0.26727,     0.26827,     0.26927,     0.27027,     0.27127,     0.27227,     0.27327,     0.27427,     0.27528,     0.27628,     0.27728,     0.27828,     0.27928,     0.28028,     0.28128,     0.28228,     0.28328,     0.28428,     0.28529,     0.28629,     0.28729,\n",
              "           0.28829,     0.28929,     0.29029,     0.29129,     0.29229,     0.29329,     0.29429,      0.2953,      0.2963,      0.2973,      0.2983,      0.2993,      0.3003,      0.3013,      0.3023,      0.3033,      0.3043,     0.30531,     0.30631,     0.30731,     0.30831,     0.30931,     0.31031,     0.31131,\n",
              "           0.31231,     0.31331,     0.31431,     0.31532,     0.31632,     0.31732,     0.31832,     0.31932,     0.32032,     0.32132,     0.32232,     0.32332,     0.32432,     0.32533,     0.32633,     0.32733,     0.32833,     0.32933,     0.33033,     0.33133,     0.33233,     0.33333,     0.33433,     0.33534,\n",
              "           0.33634,     0.33734,     0.33834,     0.33934,     0.34034,     0.34134,     0.34234,     0.34334,     0.34434,     0.34535,     0.34635,     0.34735,     0.34835,     0.34935,     0.35035,     0.35135,     0.35235,     0.35335,     0.35435,     0.35536,     0.35636,     0.35736,     0.35836,     0.35936,\n",
              "           0.36036,     0.36136,     0.36236,     0.36336,     0.36436,     0.36537,     0.36637,     0.36737,     0.36837,     0.36937,     0.37037,     0.37137,     0.37237,     0.37337,     0.37437,     0.37538,     0.37638,     0.37738,     0.37838,     0.37938,     0.38038,     0.38138,     0.38238,     0.38338,\n",
              "           0.38438,     0.38539,     0.38639,     0.38739,     0.38839,     0.38939,     0.39039,     0.39139,     0.39239,     0.39339,     0.39439,      0.3954,      0.3964,      0.3974,      0.3984,      0.3994,      0.4004,      0.4014,      0.4024,      0.4034,      0.4044,     0.40541,     0.40641,     0.40741,\n",
              "           0.40841,     0.40941,     0.41041,     0.41141,     0.41241,     0.41341,     0.41441,     0.41542,     0.41642,     0.41742,     0.41842,     0.41942,     0.42042,     0.42142,     0.42242,     0.42342,     0.42442,     0.42543,     0.42643,     0.42743,     0.42843,     0.42943,     0.43043,     0.43143,\n",
              "           0.43243,     0.43343,     0.43443,     0.43544,     0.43644,     0.43744,     0.43844,     0.43944,     0.44044,     0.44144,     0.44244,     0.44344,     0.44444,     0.44545,     0.44645,     0.44745,     0.44845,     0.44945,     0.45045,     0.45145,     0.45245,     0.45345,     0.45445,     0.45546,\n",
              "           0.45646,     0.45746,     0.45846,     0.45946,     0.46046,     0.46146,     0.46246,     0.46346,     0.46446,     0.46547,     0.46647,     0.46747,     0.46847,     0.46947,     0.47047,     0.47147,     0.47247,     0.47347,     0.47447,     0.47548,     0.47648,     0.47748,     0.47848,     0.47948,\n",
              "           0.48048,     0.48148,     0.48248,     0.48348,     0.48448,     0.48549,     0.48649,     0.48749,     0.48849,     0.48949,     0.49049,     0.49149,     0.49249,     0.49349,     0.49449,      0.4955,      0.4965,      0.4975,      0.4985,      0.4995,      0.5005,      0.5015,      0.5025,      0.5035,\n",
              "            0.5045,     0.50551,     0.50651,     0.50751,     0.50851,     0.50951,     0.51051,     0.51151,     0.51251,     0.51351,     0.51451,     0.51552,     0.51652,     0.51752,     0.51852,     0.51952,     0.52052,     0.52152,     0.52252,     0.52352,     0.52452,     0.52553,     0.52653,     0.52753,\n",
              "           0.52853,     0.52953,     0.53053,     0.53153,     0.53253,     0.53353,     0.53453,     0.53554,     0.53654,     0.53754,     0.53854,     0.53954,     0.54054,     0.54154,     0.54254,     0.54354,     0.54454,     0.54555,     0.54655,     0.54755,     0.54855,     0.54955,     0.55055,     0.55155,\n",
              "           0.55255,     0.55355,     0.55455,     0.55556,     0.55656,     0.55756,     0.55856,     0.55956,     0.56056,     0.56156,     0.56256,     0.56356,     0.56456,     0.56557,     0.56657,     0.56757,     0.56857,     0.56957,     0.57057,     0.57157,     0.57257,     0.57357,     0.57457,     0.57558,\n",
              "           0.57658,     0.57758,     0.57858,     0.57958,     0.58058,     0.58158,     0.58258,     0.58358,     0.58458,     0.58559,     0.58659,     0.58759,     0.58859,     0.58959,     0.59059,     0.59159,     0.59259,     0.59359,     0.59459,      0.5956,      0.5966,      0.5976,      0.5986,      0.5996,\n",
              "            0.6006,      0.6016,      0.6026,      0.6036,      0.6046,     0.60561,     0.60661,     0.60761,     0.60861,     0.60961,     0.61061,     0.61161,     0.61261,     0.61361,     0.61461,     0.61562,     0.61662,     0.61762,     0.61862,     0.61962,     0.62062,     0.62162,     0.62262,     0.62362,\n",
              "           0.62462,     0.62563,     0.62663,     0.62763,     0.62863,     0.62963,     0.63063,     0.63163,     0.63263,     0.63363,     0.63463,     0.63564,     0.63664,     0.63764,     0.63864,     0.63964,     0.64064,     0.64164,     0.64264,     0.64364,     0.64464,     0.64565,     0.64665,     0.64765,\n",
              "           0.64865,     0.64965,     0.65065,     0.65165,     0.65265,     0.65365,     0.65465,     0.65566,     0.65666,     0.65766,     0.65866,     0.65966,     0.66066,     0.66166,     0.66266,     0.66366,     0.66466,     0.66567,     0.66667,     0.66767,     0.66867,     0.66967,     0.67067,     0.67167,\n",
              "           0.67267,     0.67367,     0.67467,     0.67568,     0.67668,     0.67768,     0.67868,     0.67968,     0.68068,     0.68168,     0.68268,     0.68368,     0.68468,     0.68569,     0.68669,     0.68769,     0.68869,     0.68969,     0.69069,     0.69169,     0.69269,     0.69369,     0.69469,      0.6957,\n",
              "            0.6967,      0.6977,      0.6987,      0.6997,      0.7007,      0.7017,      0.7027,      0.7037,      0.7047,     0.70571,     0.70671,     0.70771,     0.70871,     0.70971,     0.71071,     0.71171,     0.71271,     0.71371,     0.71471,     0.71572,     0.71672,     0.71772,     0.71872,     0.71972,\n",
              "           0.72072,     0.72172,     0.72272,     0.72372,     0.72472,     0.72573,     0.72673,     0.72773,     0.72873,     0.72973,     0.73073,     0.73173,     0.73273,     0.73373,     0.73473,     0.73574,     0.73674,     0.73774,     0.73874,     0.73974,     0.74074,     0.74174,     0.74274,     0.74374,\n",
              "           0.74474,     0.74575,     0.74675,     0.74775,     0.74875,     0.74975,     0.75075,     0.75175,     0.75275,     0.75375,     0.75475,     0.75576,     0.75676,     0.75776,     0.75876,     0.75976,     0.76076,     0.76176,     0.76276,     0.76376,     0.76476,     0.76577,     0.76677,     0.76777,\n",
              "           0.76877,     0.76977,     0.77077,     0.77177,     0.77277,     0.77377,     0.77477,     0.77578,     0.77678,     0.77778,     0.77878,     0.77978,     0.78078,     0.78178,     0.78278,     0.78378,     0.78478,     0.78579,     0.78679,     0.78779,     0.78879,     0.78979,     0.79079,     0.79179,\n",
              "           0.79279,     0.79379,     0.79479,      0.7958,      0.7968,      0.7978,      0.7988,      0.7998,      0.8008,      0.8018,      0.8028,      0.8038,      0.8048,     0.80581,     0.80681,     0.80781,     0.80881,     0.80981,     0.81081,     0.81181,     0.81281,     0.81381,     0.81481,     0.81582,\n",
              "           0.81682,     0.81782,     0.81882,     0.81982,     0.82082,     0.82182,     0.82282,     0.82382,     0.82482,     0.82583,     0.82683,     0.82783,     0.82883,     0.82983,     0.83083,     0.83183,     0.83283,     0.83383,     0.83483,     0.83584,     0.83684,     0.83784,     0.83884,     0.83984,\n",
              "           0.84084,     0.84184,     0.84284,     0.84384,     0.84484,     0.84585,     0.84685,     0.84785,     0.84885,     0.84985,     0.85085,     0.85185,     0.85285,     0.85385,     0.85485,     0.85586,     0.85686,     0.85786,     0.85886,     0.85986,     0.86086,     0.86186,     0.86286,     0.86386,\n",
              "           0.86486,     0.86587,     0.86687,     0.86787,     0.86887,     0.86987,     0.87087,     0.87187,     0.87287,     0.87387,     0.87487,     0.87588,     0.87688,     0.87788,     0.87888,     0.87988,     0.88088,     0.88188,     0.88288,     0.88388,     0.88488,     0.88589,     0.88689,     0.88789,\n",
              "           0.88889,     0.88989,     0.89089,     0.89189,     0.89289,     0.89389,     0.89489,      0.8959,      0.8969,      0.8979,      0.8989,      0.8999,      0.9009,      0.9019,      0.9029,      0.9039,      0.9049,     0.90591,     0.90691,     0.90791,     0.90891,     0.90991,     0.91091,     0.91191,\n",
              "           0.91291,     0.91391,     0.91491,     0.91592,     0.91692,     0.91792,     0.91892,     0.91992,     0.92092,     0.92192,     0.92292,     0.92392,     0.92492,     0.92593,     0.92693,     0.92793,     0.92893,     0.92993,     0.93093,     0.93193,     0.93293,     0.93393,     0.93493,     0.93594,\n",
              "           0.93694,     0.93794,     0.93894,     0.93994,     0.94094,     0.94194,     0.94294,     0.94394,     0.94494,     0.94595,     0.94695,     0.94795,     0.94895,     0.94995,     0.95095,     0.95195,     0.95295,     0.95395,     0.95495,     0.95596,     0.95696,     0.95796,     0.95896,     0.95996,\n",
              "           0.96096,     0.96196,     0.96296,     0.96396,     0.96496,     0.96597,     0.96697,     0.96797,     0.96897,     0.96997,     0.97097,     0.97197,     0.97297,     0.97397,     0.97497,     0.97598,     0.97698,     0.97798,     0.97898,     0.97998,     0.98098,     0.98198,     0.98298,     0.98398,\n",
              "           0.98498,     0.98599,     0.98699,     0.98799,     0.98899,     0.98999,     0.99099,     0.99199,     0.99299,     0.99399,     0.99499,       0.996,       0.997,       0.998,       0.999,           1]), array([[    0.47429,     0.47429,     0.61276,     0.64854,     0.66965,     0.68771,     0.70033,     0.71354,     0.72472,     0.73161,     0.74793,      0.7583,     0.76466,     0.77164,     0.77819,     0.78104,     0.78655,     0.79028,     0.79198,     0.79362,     0.79491,       0.798,     0.79934,\n",
              "            0.80186,     0.80479,     0.80432,     0.80644,     0.80729,     0.80907,     0.81261,     0.81307,     0.81353,     0.81399,     0.81475,     0.81589,     0.81752,     0.82013,     0.81751,     0.81911,     0.82361,     0.82256,     0.82117,     0.81977,     0.81781,     0.81298,     0.81351,\n",
              "            0.81404,     0.81457,      0.8173,     0.81802,     0.81875,     0.81926,     0.81951,     0.81976,     0.82002,     0.82027,     0.82052,     0.82077,     0.82102,     0.82127,     0.82435,     0.82546,     0.82289,     0.82908,     0.82954,     0.82982,     0.83011,     0.83039,     0.83068,\n",
              "            0.83096,     0.83125,     0.83151,      0.8312,     0.83088,     0.83056,     0.83024,     0.82992,      0.8296,     0.82929,     0.82897,     0.82865,     0.83068,     0.83269,     0.83205,     0.83141,     0.83077,     0.83012,     0.83001,     0.83114,     0.83204,     0.83231,     0.83259,\n",
              "            0.83287,     0.83315,     0.83343,     0.83371,     0.83399,     0.83668,     0.83908,      0.8409,     0.84051,     0.84011,     0.83972,     0.83933,     0.83893,     0.83854,     0.83815,     0.83825,      0.8387,     0.83914,     0.83958,     0.84003,     0.83691,     0.83634,     0.83577,\n",
              "             0.8352,     0.83462,     0.83405,     0.83622,     0.83634,     0.83646,     0.83657,     0.83669,     0.83681,     0.83692,     0.83704,     0.83716,     0.83727,     0.83739,      0.8375,     0.83762,     0.83774,     0.83785,     0.83797,     0.83809,      0.8382,     0.83832,     0.83843,\n",
              "            0.83862,     0.83907,     0.83953,     0.83998,     0.84044,     0.84089,     0.83748,     0.83735,     0.83722,     0.83709,     0.83697,     0.83684,     0.83671,     0.83658,     0.83645,     0.83632,     0.83619,     0.83606,     0.83593,      0.8358,     0.83567,     0.83554,     0.83541,\n",
              "            0.83528,     0.83515,     0.83502,     0.83489,     0.83476,     0.83463,      0.8345,     0.83437,     0.83434,     0.83449,     0.83464,     0.83479,     0.83494,     0.83509,     0.83524,     0.83539,     0.83554,     0.83569,     0.83584,     0.83598,     0.83613,     0.83628,     0.83643,\n",
              "            0.83658,     0.83688,     0.83743,     0.83798,     0.83852,     0.83907,     0.83927,     0.83946,     0.83966,     0.83985,     0.84004,     0.84023,     0.84043,     0.84062,     0.84081,       0.841,      0.8412,     0.84139,     0.84142,     0.84123,     0.84104,     0.84085,     0.84066,\n",
              "            0.84047,     0.84028,     0.84009,     0.83989,      0.8397,     0.83951,     0.83932,     0.83913,     0.83894,     0.83875,     0.83856,     0.83837,     0.83818,     0.83872,     0.83939,     0.84005,     0.84059,     0.84064,      0.8407,     0.84075,      0.8408,     0.84086,     0.84091,\n",
              "            0.84096,     0.84102,     0.84107,     0.84112,     0.84118,     0.84123,     0.84128,     0.84134,     0.84139,     0.84144,      0.8415,     0.84155,      0.8416,     0.84166,     0.84171,     0.84176,     0.84181,     0.84187,     0.84192,     0.84197,     0.84203,     0.84208,     0.84213,\n",
              "            0.84219,     0.84224,     0.84229,     0.84235,      0.8424,     0.84245,      0.8425,     0.84256,     0.84261,     0.84266,     0.84272,     0.84277,     0.84282,     0.84288,     0.84293,     0.84298,       0.843,     0.84288,     0.84277,     0.84265,     0.84254,     0.84242,     0.84231,\n",
              "            0.84219,     0.84208,     0.84196,     0.84185,     0.84173,     0.84162,      0.8415,     0.84139,     0.84127,     0.84115,     0.84104,     0.84092,     0.84081,     0.84069,     0.84058,     0.84046,     0.84035,     0.84023,     0.84012,        0.84,     0.83989,     0.83977,     0.83965,\n",
              "            0.84007,     0.84051,     0.84095,     0.84138,     0.84182,     0.84176,     0.84077,     0.83977,     0.83878,     0.83875,      0.8388,     0.83884,     0.83888,     0.83893,     0.83897,     0.83902,     0.83906,     0.83911,     0.83915,      0.8392,     0.83924,     0.83928,     0.83933,\n",
              "            0.83937,     0.83942,     0.83946,     0.83951,     0.83955,      0.8396,     0.83964,     0.83968,     0.83973,     0.83977,     0.83982,     0.83986,     0.83991,     0.83995,        0.84,     0.84004,     0.84008,     0.84013,     0.84017,     0.84022,     0.84026,     0.84031,     0.84035,\n",
              "            0.84039,     0.84044,     0.84048,     0.84053,     0.84057,     0.84062,     0.84066,      0.8407,     0.84075,     0.84079,     0.84084,     0.84088,     0.84093,     0.84097,     0.84101,     0.84106,      0.8411,     0.84115,     0.84369,     0.84378,     0.84386,     0.84395,     0.84404,\n",
              "            0.84413,     0.84422,     0.84431,     0.84439,     0.84448,     0.84457,     0.84466,     0.84475,     0.84484,     0.84492,     0.84501,      0.8451,     0.84519,     0.84528,     0.84536,     0.84545,     0.84554,     0.84563,     0.84572,      0.8458,     0.84589,     0.84598,     0.84607,\n",
              "            0.84267,     0.84091,     0.83581,     0.83565,     0.83548,     0.83532,     0.83516,       0.835,     0.83483,     0.83467,     0.83451,     0.83435,     0.83419,     0.83402,     0.83386,      0.8337,     0.83354,     0.83337,     0.83321,     0.83305,     0.83289,     0.83272,     0.83256,\n",
              "             0.8324,      0.8324,     0.83251,     0.83262,     0.83273,     0.83284,     0.83295,     0.83306,     0.83317,     0.83328,     0.83339,      0.8335,      0.8336,     0.83371,     0.83382,     0.83393,     0.83404,     0.83415,     0.83426,     0.83437,     0.83448,     0.83458,     0.83469,\n",
              "             0.8348,     0.83473,     0.83459,     0.83444,      0.8343,     0.83415,     0.83401,     0.83386,     0.83372,     0.83357,     0.83343,     0.83328,     0.83314,     0.83299,     0.83285,      0.8327,     0.83256,     0.83241,     0.83226,     0.83212,     0.83197,     0.83183,     0.83168,\n",
              "            0.83154,     0.83139,     0.83125,      0.8311,     0.83096,     0.83081,     0.83067,     0.83052,     0.83038,     0.83023,     0.83009,     0.82995,      0.8298,     0.82966,     0.82951,     0.82937,     0.82922,     0.82908,     0.82893,     0.82879,     0.82864,      0.8285,     0.82835,\n",
              "            0.82821,     0.82806,     0.82792,     0.82777,     0.82759,     0.82742,     0.82725,     0.82707,      0.8269,     0.82673,     0.82656,     0.82638,     0.82621,     0.82604,     0.82586,     0.82569,     0.82552,     0.82534,     0.82517,     0.82499,     0.82482,     0.82465,     0.82447,\n",
              "             0.8243,     0.82408,     0.82384,     0.82359,     0.82335,      0.8231,     0.82286,     0.82262,     0.82237,     0.82213,     0.82188,     0.82164,     0.82139,     0.82115,      0.8209,     0.82063,     0.81971,     0.81879,     0.81787,     0.81711,     0.81736,     0.81762,     0.81788,\n",
              "            0.81813,     0.81839,     0.81865,      0.8189,     0.81916,     0.81941,     0.81937,     0.81884,     0.81831,     0.81778,     0.81725,     0.81672,     0.81619,     0.81572,     0.81531,     0.81489,     0.81448,     0.81407,     0.81365,     0.81323,     0.81282,      0.8124,     0.81192,\n",
              "            0.81142,     0.81092,     0.81042,     0.80992,     0.80942,     0.80892,      0.8084,     0.80786,     0.80732,     0.80678,     0.80624,      0.8057,     0.80516,     0.80488,     0.80477,     0.80465,     0.80454,     0.80442,     0.80431,     0.80419,     0.80408,     0.80396,     0.80385,\n",
              "            0.80373,     0.80362,      0.8035,     0.80339,     0.80327,     0.80315,     0.80304,     0.80292,     0.80281,     0.80269,     0.80258,     0.80246,     0.80235,     0.80223,     0.80212,       0.802,     0.80189,     0.80177,     0.80165,     0.80154,     0.80142,     0.80131,      0.8007,\n",
              "            0.79942,     0.79814,     0.79728,     0.79683,     0.79638,     0.79592,     0.79547,     0.79502,     0.79456,     0.79411,     0.79377,     0.79385,     0.79393,     0.79401,     0.79409,     0.79417,     0.79425,     0.79433,     0.79441,     0.79449,     0.79457,     0.79465,     0.79473,\n",
              "            0.79481,     0.79488,     0.79496,     0.79504,     0.79512,      0.7952,     0.79528,     0.79536,     0.79544,     0.79552,      0.7956,     0.79568,     0.79576,     0.79584,     0.79592,       0.796,     0.79608,     0.79616,     0.79624,     0.79539,     0.79452,     0.79366,      0.7928,\n",
              "            0.78837,      0.7879,     0.78744,     0.78698,     0.78652,     0.78606,     0.78559,     0.78513,     0.78743,     0.78786,     0.78829,     0.78872,     0.78915,     0.78958,     0.78948,     0.78876,     0.78804,     0.78732,      0.7866,     0.78595,     0.78607,     0.78618,     0.78629,\n",
              "             0.7864,     0.78652,     0.78663,     0.78674,     0.78685,     0.78697,     0.78708,     0.78719,      0.7873,     0.78741,     0.78753,     0.78764,     0.78775,     0.78786,     0.78797,     0.78809,      0.7882,     0.78831,     0.78842,     0.78586,     0.78028,     0.77974,      0.7792,\n",
              "            0.77867,     0.77813,     0.77759,     0.77705,     0.77524,     0.76834,     0.76731,     0.76628,     0.76524,     0.76594,     0.76336,     0.76376,     0.76416,     0.76455,     0.76495,     0.76535,     0.76548,     0.76429,     0.76309,     0.76189,      0.7611,     0.76046,     0.75981,\n",
              "            0.75916,     0.75851,     0.75786,     0.75973,     0.75908,     0.75843,     0.75777,     0.75712,     0.75646,     0.75582,     0.75528,     0.75475,     0.75422,     0.75368,     0.75315,     0.75261,     0.75207,      0.7513,     0.74987,     0.74843,     0.74753,      0.7477,     0.74787,\n",
              "            0.74803,      0.7482,     0.74837,     0.74854,      0.7487,     0.74887,     0.74904,      0.7492,     0.74937,     0.74954,      0.7497,     0.74987,     0.74988,      0.7493,     0.74872,     0.74814,     0.74756,     0.74698,      0.7464,     0.74582,      0.7452,     0.74458,     0.74396,\n",
              "            0.74333,     0.74271,     0.74208,     0.74147,     0.74109,     0.74071,     0.74032,     0.73994,     0.73956,     0.73918,     0.73879,     0.73841,     0.73803,     0.73764,     0.73726,      0.7367,     0.73611,     0.73552,     0.73493,     0.73434,     0.73375,     0.73315,     0.73586,\n",
              "            0.73673,     0.73759,     0.73523,     0.73286,     0.73173,      0.7306,     0.72948,     0.72857,     0.72774,     0.72692,     0.72609,     0.72527,     0.72364,     0.72059,     0.71953,     0.71869,     0.71786,     0.71702,     0.71618,     0.71456,     0.71224,     0.70218,     0.70275,\n",
              "            0.70332,     0.70389,     0.70446,     0.69483,     0.69242,     0.69022,     0.68861,     0.68699,     0.68562,     0.68474,     0.68385,     0.68296,     0.68207,     0.68119,     0.68363,     0.65916,     0.65421,     0.65274,     0.65127,      0.6498,       0.642,     0.63875,     0.63665,\n",
              "            0.63454,     0.61745,     0.61624,     0.61504,     0.61383,     0.60398,     0.59918,     0.58927,     0.58542,     0.58416,      0.5829,     0.58163,     0.57469,     0.55772,     0.55665,     0.55557,      0.5545,     0.55342,     0.55235,      0.5393,     0.53778,     0.53627,     0.53475,\n",
              "            0.52967,     0.52649,     0.52402,     0.52268,     0.52331,     0.52393,     0.52456,     0.52386,     0.52308,      0.5223,     0.52152,     0.52075,     0.51997,     0.51919,     0.51673,     0.50518,     0.50359,     0.50199,      0.5004,     0.49177,     0.48918,     0.48694,     0.48549,\n",
              "            0.48404,     0.48258,     0.48112,     0.48383,     0.48468,     0.47867,     0.46544,     0.46205,     0.45198,     0.44921,     0.44644,     0.43985,     0.43514,     0.41873,     0.39394,     0.39314,     0.39234,     0.39155,     0.39075,     0.38995,     0.38915,     0.38835,     0.38755,\n",
              "            0.37289,      0.3647,     0.35939,     0.33849,     0.30879,     0.30067,     0.29643,       0.292,     0.28629,     0.27634,     0.27425,     0.26985,     0.26608,     0.26253,     0.25976,     0.25895,     0.25814,     0.25733,     0.25651,      0.2557,     0.25488,     0.25407,     0.25325,\n",
              "            0.25243,     0.25162,     0.24999,     0.24544,     0.23994,     0.23336,     0.21614,     0.21404,     0.21194,     0.20983,     0.20772,     0.19416,     0.18932,     0.18891,     0.18941,     0.18518,     0.18026,     0.16713,     0.16379,     0.16043,     0.14543,     0.10888,    0.087534,\n",
              "           0.085108,    0.082677,     0.08024,    0.066786,    0.063065,    0.059332,    0.056671,    0.052537,    0.046837,    0.032413,    0.029831,    0.027242,    0.024647,    0.022611,    0.021377,    0.020141,    0.018904,    0.017665,    0.016424,    0.015182,    0.013938,    0.012693,           0,\n",
              "                  0,           0,           0,           0,           0,           0,           0,           0,           0,           0,           0,           0,           0,           0,           0,           0,           0,           0,           0,           0,           0,           0,           0,\n",
              "                  0,           0,           0,           0,           0,           0,           0,           0,           0,           0,           0]]), 'Confidence', 'F1'], [array([          0,    0.001001,    0.002002,    0.003003,    0.004004,    0.005005,    0.006006,    0.007007,    0.008008,    0.009009,     0.01001,    0.011011,    0.012012,    0.013013,    0.014014,    0.015015,    0.016016,    0.017017,    0.018018,    0.019019,     0.02002,    0.021021,    0.022022,    0.023023,\n",
              "          0.024024,    0.025025,    0.026026,    0.027027,    0.028028,    0.029029,     0.03003,    0.031031,    0.032032,    0.033033,    0.034034,    0.035035,    0.036036,    0.037037,    0.038038,    0.039039,     0.04004,    0.041041,    0.042042,    0.043043,    0.044044,    0.045045,    0.046046,    0.047047,\n",
              "          0.048048,    0.049049,     0.05005,    0.051051,    0.052052,    0.053053,    0.054054,    0.055055,    0.056056,    0.057057,    0.058058,    0.059059,     0.06006,    0.061061,    0.062062,    0.063063,    0.064064,    0.065065,    0.066066,    0.067067,    0.068068,    0.069069,     0.07007,    0.071071,\n",
              "          0.072072,    0.073073,    0.074074,    0.075075,    0.076076,    0.077077,    0.078078,    0.079079,     0.08008,    0.081081,    0.082082,    0.083083,    0.084084,    0.085085,    0.086086,    0.087087,    0.088088,    0.089089,     0.09009,    0.091091,    0.092092,    0.093093,    0.094094,    0.095095,\n",
              "          0.096096,    0.097097,    0.098098,    0.099099,      0.1001,      0.1011,      0.1021,      0.1031,      0.1041,     0.10511,     0.10611,     0.10711,     0.10811,     0.10911,     0.11011,     0.11111,     0.11211,     0.11311,     0.11411,     0.11512,     0.11612,     0.11712,     0.11812,     0.11912,\n",
              "           0.12012,     0.12112,     0.12212,     0.12312,     0.12412,     0.12513,     0.12613,     0.12713,     0.12813,     0.12913,     0.13013,     0.13113,     0.13213,     0.13313,     0.13413,     0.13514,     0.13614,     0.13714,     0.13814,     0.13914,     0.14014,     0.14114,     0.14214,     0.14314,\n",
              "           0.14414,     0.14515,     0.14615,     0.14715,     0.14815,     0.14915,     0.15015,     0.15115,     0.15215,     0.15315,     0.15415,     0.15516,     0.15616,     0.15716,     0.15816,     0.15916,     0.16016,     0.16116,     0.16216,     0.16316,     0.16416,     0.16517,     0.16617,     0.16717,\n",
              "           0.16817,     0.16917,     0.17017,     0.17117,     0.17217,     0.17317,     0.17417,     0.17518,     0.17618,     0.17718,     0.17818,     0.17918,     0.18018,     0.18118,     0.18218,     0.18318,     0.18418,     0.18519,     0.18619,     0.18719,     0.18819,     0.18919,     0.19019,     0.19119,\n",
              "           0.19219,     0.19319,     0.19419,      0.1952,      0.1962,      0.1972,      0.1982,      0.1992,      0.2002,      0.2012,      0.2022,      0.2032,      0.2042,     0.20521,     0.20621,     0.20721,     0.20821,     0.20921,     0.21021,     0.21121,     0.21221,     0.21321,     0.21421,     0.21522,\n",
              "           0.21622,     0.21722,     0.21822,     0.21922,     0.22022,     0.22122,     0.22222,     0.22322,     0.22422,     0.22523,     0.22623,     0.22723,     0.22823,     0.22923,     0.23023,     0.23123,     0.23223,     0.23323,     0.23423,     0.23524,     0.23624,     0.23724,     0.23824,     0.23924,\n",
              "           0.24024,     0.24124,     0.24224,     0.24324,     0.24424,     0.24525,     0.24625,     0.24725,     0.24825,     0.24925,     0.25025,     0.25125,     0.25225,     0.25325,     0.25425,     0.25526,     0.25626,     0.25726,     0.25826,     0.25926,     0.26026,     0.26126,     0.26226,     0.26326,\n",
              "           0.26426,     0.26527,     0.26627,     0.26727,     0.26827,     0.26927,     0.27027,     0.27127,     0.27227,     0.27327,     0.27427,     0.27528,     0.27628,     0.27728,     0.27828,     0.27928,     0.28028,     0.28128,     0.28228,     0.28328,     0.28428,     0.28529,     0.28629,     0.28729,\n",
              "           0.28829,     0.28929,     0.29029,     0.29129,     0.29229,     0.29329,     0.29429,      0.2953,      0.2963,      0.2973,      0.2983,      0.2993,      0.3003,      0.3013,      0.3023,      0.3033,      0.3043,     0.30531,     0.30631,     0.30731,     0.30831,     0.30931,     0.31031,     0.31131,\n",
              "           0.31231,     0.31331,     0.31431,     0.31532,     0.31632,     0.31732,     0.31832,     0.31932,     0.32032,     0.32132,     0.32232,     0.32332,     0.32432,     0.32533,     0.32633,     0.32733,     0.32833,     0.32933,     0.33033,     0.33133,     0.33233,     0.33333,     0.33433,     0.33534,\n",
              "           0.33634,     0.33734,     0.33834,     0.33934,     0.34034,     0.34134,     0.34234,     0.34334,     0.34434,     0.34535,     0.34635,     0.34735,     0.34835,     0.34935,     0.35035,     0.35135,     0.35235,     0.35335,     0.35435,     0.35536,     0.35636,     0.35736,     0.35836,     0.35936,\n",
              "           0.36036,     0.36136,     0.36236,     0.36336,     0.36436,     0.36537,     0.36637,     0.36737,     0.36837,     0.36937,     0.37037,     0.37137,     0.37237,     0.37337,     0.37437,     0.37538,     0.37638,     0.37738,     0.37838,     0.37938,     0.38038,     0.38138,     0.38238,     0.38338,\n",
              "           0.38438,     0.38539,     0.38639,     0.38739,     0.38839,     0.38939,     0.39039,     0.39139,     0.39239,     0.39339,     0.39439,      0.3954,      0.3964,      0.3974,      0.3984,      0.3994,      0.4004,      0.4014,      0.4024,      0.4034,      0.4044,     0.40541,     0.40641,     0.40741,\n",
              "           0.40841,     0.40941,     0.41041,     0.41141,     0.41241,     0.41341,     0.41441,     0.41542,     0.41642,     0.41742,     0.41842,     0.41942,     0.42042,     0.42142,     0.42242,     0.42342,     0.42442,     0.42543,     0.42643,     0.42743,     0.42843,     0.42943,     0.43043,     0.43143,\n",
              "           0.43243,     0.43343,     0.43443,     0.43544,     0.43644,     0.43744,     0.43844,     0.43944,     0.44044,     0.44144,     0.44244,     0.44344,     0.44444,     0.44545,     0.44645,     0.44745,     0.44845,     0.44945,     0.45045,     0.45145,     0.45245,     0.45345,     0.45445,     0.45546,\n",
              "           0.45646,     0.45746,     0.45846,     0.45946,     0.46046,     0.46146,     0.46246,     0.46346,     0.46446,     0.46547,     0.46647,     0.46747,     0.46847,     0.46947,     0.47047,     0.47147,     0.47247,     0.47347,     0.47447,     0.47548,     0.47648,     0.47748,     0.47848,     0.47948,\n",
              "           0.48048,     0.48148,     0.48248,     0.48348,     0.48448,     0.48549,     0.48649,     0.48749,     0.48849,     0.48949,     0.49049,     0.49149,     0.49249,     0.49349,     0.49449,      0.4955,      0.4965,      0.4975,      0.4985,      0.4995,      0.5005,      0.5015,      0.5025,      0.5035,\n",
              "            0.5045,     0.50551,     0.50651,     0.50751,     0.50851,     0.50951,     0.51051,     0.51151,     0.51251,     0.51351,     0.51451,     0.51552,     0.51652,     0.51752,     0.51852,     0.51952,     0.52052,     0.52152,     0.52252,     0.52352,     0.52452,     0.52553,     0.52653,     0.52753,\n",
              "           0.52853,     0.52953,     0.53053,     0.53153,     0.53253,     0.53353,     0.53453,     0.53554,     0.53654,     0.53754,     0.53854,     0.53954,     0.54054,     0.54154,     0.54254,     0.54354,     0.54454,     0.54555,     0.54655,     0.54755,     0.54855,     0.54955,     0.55055,     0.55155,\n",
              "           0.55255,     0.55355,     0.55455,     0.55556,     0.55656,     0.55756,     0.55856,     0.55956,     0.56056,     0.56156,     0.56256,     0.56356,     0.56456,     0.56557,     0.56657,     0.56757,     0.56857,     0.56957,     0.57057,     0.57157,     0.57257,     0.57357,     0.57457,     0.57558,\n",
              "           0.57658,     0.57758,     0.57858,     0.57958,     0.58058,     0.58158,     0.58258,     0.58358,     0.58458,     0.58559,     0.58659,     0.58759,     0.58859,     0.58959,     0.59059,     0.59159,     0.59259,     0.59359,     0.59459,      0.5956,      0.5966,      0.5976,      0.5986,      0.5996,\n",
              "            0.6006,      0.6016,      0.6026,      0.6036,      0.6046,     0.60561,     0.60661,     0.60761,     0.60861,     0.60961,     0.61061,     0.61161,     0.61261,     0.61361,     0.61461,     0.61562,     0.61662,     0.61762,     0.61862,     0.61962,     0.62062,     0.62162,     0.62262,     0.62362,\n",
              "           0.62462,     0.62563,     0.62663,     0.62763,     0.62863,     0.62963,     0.63063,     0.63163,     0.63263,     0.63363,     0.63463,     0.63564,     0.63664,     0.63764,     0.63864,     0.63964,     0.64064,     0.64164,     0.64264,     0.64364,     0.64464,     0.64565,     0.64665,     0.64765,\n",
              "           0.64865,     0.64965,     0.65065,     0.65165,     0.65265,     0.65365,     0.65465,     0.65566,     0.65666,     0.65766,     0.65866,     0.65966,     0.66066,     0.66166,     0.66266,     0.66366,     0.66466,     0.66567,     0.66667,     0.66767,     0.66867,     0.66967,     0.67067,     0.67167,\n",
              "           0.67267,     0.67367,     0.67467,     0.67568,     0.67668,     0.67768,     0.67868,     0.67968,     0.68068,     0.68168,     0.68268,     0.68368,     0.68468,     0.68569,     0.68669,     0.68769,     0.68869,     0.68969,     0.69069,     0.69169,     0.69269,     0.69369,     0.69469,      0.6957,\n",
              "            0.6967,      0.6977,      0.6987,      0.6997,      0.7007,      0.7017,      0.7027,      0.7037,      0.7047,     0.70571,     0.70671,     0.70771,     0.70871,     0.70971,     0.71071,     0.71171,     0.71271,     0.71371,     0.71471,     0.71572,     0.71672,     0.71772,     0.71872,     0.71972,\n",
              "           0.72072,     0.72172,     0.72272,     0.72372,     0.72472,     0.72573,     0.72673,     0.72773,     0.72873,     0.72973,     0.73073,     0.73173,     0.73273,     0.73373,     0.73473,     0.73574,     0.73674,     0.73774,     0.73874,     0.73974,     0.74074,     0.74174,     0.74274,     0.74374,\n",
              "           0.74474,     0.74575,     0.74675,     0.74775,     0.74875,     0.74975,     0.75075,     0.75175,     0.75275,     0.75375,     0.75475,     0.75576,     0.75676,     0.75776,     0.75876,     0.75976,     0.76076,     0.76176,     0.76276,     0.76376,     0.76476,     0.76577,     0.76677,     0.76777,\n",
              "           0.76877,     0.76977,     0.77077,     0.77177,     0.77277,     0.77377,     0.77477,     0.77578,     0.77678,     0.77778,     0.77878,     0.77978,     0.78078,     0.78178,     0.78278,     0.78378,     0.78478,     0.78579,     0.78679,     0.78779,     0.78879,     0.78979,     0.79079,     0.79179,\n",
              "           0.79279,     0.79379,     0.79479,      0.7958,      0.7968,      0.7978,      0.7988,      0.7998,      0.8008,      0.8018,      0.8028,      0.8038,      0.8048,     0.80581,     0.80681,     0.80781,     0.80881,     0.80981,     0.81081,     0.81181,     0.81281,     0.81381,     0.81481,     0.81582,\n",
              "           0.81682,     0.81782,     0.81882,     0.81982,     0.82082,     0.82182,     0.82282,     0.82382,     0.82482,     0.82583,     0.82683,     0.82783,     0.82883,     0.82983,     0.83083,     0.83183,     0.83283,     0.83383,     0.83483,     0.83584,     0.83684,     0.83784,     0.83884,     0.83984,\n",
              "           0.84084,     0.84184,     0.84284,     0.84384,     0.84484,     0.84585,     0.84685,     0.84785,     0.84885,     0.84985,     0.85085,     0.85185,     0.85285,     0.85385,     0.85485,     0.85586,     0.85686,     0.85786,     0.85886,     0.85986,     0.86086,     0.86186,     0.86286,     0.86386,\n",
              "           0.86486,     0.86587,     0.86687,     0.86787,     0.86887,     0.86987,     0.87087,     0.87187,     0.87287,     0.87387,     0.87487,     0.87588,     0.87688,     0.87788,     0.87888,     0.87988,     0.88088,     0.88188,     0.88288,     0.88388,     0.88488,     0.88589,     0.88689,     0.88789,\n",
              "           0.88889,     0.88989,     0.89089,     0.89189,     0.89289,     0.89389,     0.89489,      0.8959,      0.8969,      0.8979,      0.8989,      0.8999,      0.9009,      0.9019,      0.9029,      0.9039,      0.9049,     0.90591,     0.90691,     0.90791,     0.90891,     0.90991,     0.91091,     0.91191,\n",
              "           0.91291,     0.91391,     0.91491,     0.91592,     0.91692,     0.91792,     0.91892,     0.91992,     0.92092,     0.92192,     0.92292,     0.92392,     0.92492,     0.92593,     0.92693,     0.92793,     0.92893,     0.92993,     0.93093,     0.93193,     0.93293,     0.93393,     0.93493,     0.93594,\n",
              "           0.93694,     0.93794,     0.93894,     0.93994,     0.94094,     0.94194,     0.94294,     0.94394,     0.94494,     0.94595,     0.94695,     0.94795,     0.94895,     0.94995,     0.95095,     0.95195,     0.95295,     0.95395,     0.95495,     0.95596,     0.95696,     0.95796,     0.95896,     0.95996,\n",
              "           0.96096,     0.96196,     0.96296,     0.96396,     0.96496,     0.96597,     0.96697,     0.96797,     0.96897,     0.96997,     0.97097,     0.97197,     0.97297,     0.97397,     0.97497,     0.97598,     0.97698,     0.97798,     0.97898,     0.97998,     0.98098,     0.98198,     0.98298,     0.98398,\n",
              "           0.98498,     0.98599,     0.98699,     0.98799,     0.98899,     0.98999,     0.99099,     0.99199,     0.99299,     0.99399,     0.99499,       0.996,       0.997,       0.998,       0.999,           1]), array([[     0.3138,      0.3138,     0.44892,     0.49302,     0.51785,     0.54168,     0.55752,     0.57445,     0.58908,     0.59824,     0.62037,     0.63477,     0.64374,     0.65369,     0.66315,     0.66731,     0.67539,      0.6809,     0.68343,     0.68588,      0.6878,     0.69244,     0.69447,\n",
              "            0.69828,     0.70297,     0.70531,     0.70858,     0.70989,     0.71265,     0.71815,     0.71887,      0.7196,     0.72032,      0.7215,     0.72329,     0.72587,     0.73044,     0.72937,     0.73195,     0.73917,     0.73903,     0.73847,     0.74054,     0.74108,      0.7409,     0.74178,\n",
              "            0.74267,     0.74355,     0.74811,     0.74933,     0.75055,     0.75141,     0.75183,     0.75226,     0.75268,      0.7531,     0.75352,     0.75394,     0.75437,     0.75479,     0.76001,     0.76191,     0.76172,     0.77239,      0.7732,     0.77369,     0.77419,     0.77468,     0.77518,\n",
              "            0.77567,     0.77617,     0.77665,     0.77653,     0.77642,      0.7763,     0.77619,     0.77608,     0.77596,     0.77585,     0.77574,     0.77562,     0.77963,     0.78344,     0.78321,     0.78299,     0.78277,     0.78254,     0.78298,     0.78501,      0.7866,      0.7871,      0.7876,\n",
              "             0.7881,      0.7886,      0.7891,      0.7896,      0.7901,     0.79494,     0.79928,     0.80309,     0.80296,     0.80283,      0.8027,     0.80257,     0.80245,     0.80232,     0.80219,     0.80263,     0.80344,     0.80425,     0.80507,     0.80588,     0.80535,     0.80517,     0.80498,\n",
              "             0.8048,     0.80461,     0.80443,     0.80887,     0.80908,      0.8093,     0.80952,     0.80974,     0.80996,     0.81018,     0.81039,     0.81061,     0.81083,     0.81105,     0.81127,     0.81148,      0.8117,     0.81192,     0.81214,     0.81236,     0.81258,     0.81279,     0.81301,\n",
              "            0.81336,     0.81421,     0.81507,     0.81593,     0.81678,     0.81764,     0.81663,     0.81659,     0.81655,     0.81651,     0.81647,     0.81643,     0.81639,     0.81635,     0.81631,     0.81627,     0.81623,     0.81619,     0.81615,     0.81611,     0.81607,     0.81603,     0.81599,\n",
              "            0.81595,     0.81591,     0.81587,     0.81583,     0.81579,     0.81575,     0.81571,     0.81567,     0.81574,     0.81603,     0.81632,      0.8166,     0.81689,     0.81718,     0.81746,     0.81775,     0.81804,     0.81832,     0.81861,      0.8189,     0.81918,     0.81947,     0.81976,\n",
              "            0.82004,     0.82062,     0.82167,     0.82273,     0.82378,     0.82484,     0.82522,      0.8256,     0.82597,     0.82634,     0.82672,     0.82709,     0.82746,     0.82784,     0.82821,     0.82858,     0.82896,     0.82933,     0.82952,     0.82947,     0.82941,     0.82936,      0.8293,\n",
              "            0.82924,     0.82919,     0.82913,     0.82908,     0.82902,     0.82897,     0.82891,     0.82886,      0.8288,     0.82875,     0.82869,     0.82863,     0.82858,     0.82969,     0.83099,     0.83229,     0.83335,     0.83346,     0.83356,     0.83367,     0.83377,     0.83388,     0.83398,\n",
              "            0.83409,     0.83419,      0.8343,      0.8344,     0.83451,     0.83461,     0.83472,     0.83482,     0.83493,     0.83503,     0.83514,     0.83524,     0.83535,     0.83545,     0.83555,     0.83566,     0.83576,     0.83587,     0.83597,     0.83608,     0.83618,     0.83629,     0.83639,\n",
              "             0.8365,      0.8366,     0.83671,     0.83681,     0.83692,     0.83702,     0.83713,     0.83723,     0.83734,     0.83744,     0.83755,     0.83765,     0.83775,     0.83786,     0.83796,     0.83807,     0.83814,     0.83811,     0.83808,     0.83805,     0.83801,     0.83798,     0.83795,\n",
              "            0.83792,     0.83789,     0.83785,     0.83782,     0.83779,     0.83776,     0.83773,     0.83769,     0.83766,     0.83763,      0.8376,     0.83756,     0.83753,      0.8375,     0.83747,     0.83744,      0.8374,     0.83737,     0.83734,     0.83731,     0.83727,     0.83724,     0.83721,\n",
              "            0.83805,     0.83892,     0.83979,     0.84066,     0.84154,     0.84201,     0.84174,     0.84147,     0.84119,     0.84126,     0.84135,     0.84144,     0.84153,     0.84162,     0.84171,      0.8418,     0.84189,     0.84198,     0.84207,     0.84216,     0.84224,     0.84233,     0.84242,\n",
              "            0.84251,      0.8426,     0.84269,     0.84278,     0.84287,     0.84296,     0.84305,     0.84314,     0.84323,     0.84332,     0.84341,      0.8435,     0.84359,     0.84368,     0.84377,     0.84386,     0.84395,     0.84403,     0.84412,     0.84421,      0.8443,     0.84439,     0.84448,\n",
              "            0.84457,     0.84466,     0.84475,     0.84484,     0.84493,     0.84502,     0.84511,      0.8452,     0.84529,     0.84538,     0.84547,     0.84556,     0.84565,     0.84574,     0.84582,     0.84591,       0.846,     0.84609,     0.85125,     0.85143,     0.85161,     0.85179,     0.85197,\n",
              "            0.85215,     0.85233,     0.85251,     0.85269,     0.85287,     0.85305,     0.85323,     0.85341,     0.85359,     0.85377,     0.85395,     0.85413,     0.85431,     0.85449,     0.85467,     0.85485,     0.85503,     0.85521,     0.85539,     0.85557,     0.85575,     0.85593,     0.85611,\n",
              "            0.85541,     0.85496,     0.85366,     0.85361,     0.85357,     0.85353,     0.85349,     0.85345,      0.8534,     0.85336,     0.85332,     0.85328,     0.85324,     0.85319,     0.85315,     0.85311,     0.85307,     0.85303,     0.85299,     0.85294,      0.8529,     0.85286,     0.85282,\n",
              "            0.85278,      0.8529,     0.85313,     0.85336,     0.85359,     0.85382,     0.85405,     0.85428,     0.85451,     0.85474,     0.85497,      0.8552,     0.85543,     0.85566,     0.85589,     0.85612,     0.85635,     0.85658,     0.85681,     0.85704,     0.85727,      0.8575,     0.85772,\n",
              "            0.85795,       0.858,     0.85796,     0.85793,     0.85789,     0.85785,     0.85782,     0.85778,     0.85774,     0.85771,     0.85767,     0.85763,      0.8576,     0.85756,     0.85752,     0.85749,     0.85745,     0.85742,     0.85738,     0.85734,     0.85731,     0.85727,     0.85723,\n",
              "             0.8572,     0.85716,     0.85712,     0.85709,     0.85705,     0.85701,     0.85698,     0.85694,      0.8569,     0.85687,     0.85683,     0.85679,     0.85676,     0.85672,     0.85668,     0.85665,     0.85661,     0.85657,     0.85654,      0.8565,     0.85646,     0.85643,     0.85639,\n",
              "            0.85635,     0.85632,     0.85628,     0.85624,      0.8562,     0.85615,     0.85611,     0.85607,     0.85602,     0.85598,     0.85593,     0.85589,     0.85585,      0.8558,     0.85576,     0.85571,     0.85567,     0.85563,     0.85558,     0.85554,     0.85549,     0.85545,      0.8554,\n",
              "            0.85536,      0.8553,     0.85524,     0.85518,     0.85512,     0.85505,     0.85499,     0.85493,     0.85487,      0.8548,     0.85474,     0.85468,     0.85462,     0.85455,     0.85449,     0.85442,     0.85418,     0.85395,     0.85371,     0.85358,     0.85414,      0.8547,     0.85526,\n",
              "            0.85582,     0.85638,     0.85694,      0.8575,     0.85807,     0.85863,     0.85892,     0.85879,     0.85866,     0.85852,     0.85839,     0.85826,     0.85812,     0.85801,      0.8579,      0.8578,     0.85769,     0.85759,     0.85748,     0.85738,     0.85727,     0.85717,     0.85704,\n",
              "            0.85692,     0.85679,     0.85666,     0.85653,     0.85641,     0.85628,     0.85615,     0.85601,     0.85587,     0.85573,     0.85559,     0.85545,     0.85532,     0.85524,     0.85521,     0.85519,     0.85516,     0.85513,      0.8551,     0.85507,     0.85504,     0.85501,     0.85498,\n",
              "            0.85495,     0.85492,     0.85489,     0.85486,     0.85483,      0.8548,     0.85477,     0.85474,     0.85471,     0.85468,     0.85465,     0.85462,     0.85459,     0.85456,     0.85453,      0.8545,     0.85447,     0.85444,     0.85441,     0.85438,     0.85435,     0.85432,     0.85416,\n",
              "            0.85383,      0.8535,     0.85327,     0.85315,     0.85304,     0.85292,      0.8528,     0.85268,     0.85256,     0.85244,     0.85239,     0.85257,     0.85276,     0.85294,     0.85313,     0.85331,     0.85349,     0.85368,     0.85386,     0.85405,     0.85423,     0.85442,      0.8546,\n",
              "            0.85479,     0.85497,     0.85515,     0.85534,     0.85552,     0.85571,     0.85589,     0.85608,     0.85626,     0.85645,     0.85663,     0.85682,       0.857,     0.85718,     0.85737,     0.85755,     0.85774,     0.85792,     0.85811,     0.85789,     0.85767,     0.85745,     0.85723,\n",
              "            0.85609,     0.85597,     0.85585,     0.85573,     0.85561,     0.85549,     0.85537,     0.85526,     0.86143,     0.86246,     0.86349,     0.86451,     0.86554,     0.86657,     0.86705,     0.86688,      0.8667,     0.86653,     0.86636,     0.86622,      0.8665,     0.86677,     0.86704,\n",
              "            0.86732,     0.86759,     0.86786,     0.86814,     0.86841,     0.86869,     0.86896,     0.86923,     0.86951,     0.86978,     0.87005,     0.87033,      0.8706,     0.87088,     0.87115,     0.87142,      0.8717,     0.87197,     0.87224,     0.87173,     0.87042,     0.87029,     0.87016,\n",
              "            0.87003,      0.8699,     0.86978,     0.86965,     0.86922,     0.86755,      0.8673,     0.86705,      0.8668,     0.86985,     0.87271,     0.87375,     0.87479,     0.87583,     0.87687,     0.87792,     0.87874,     0.87847,      0.8782,     0.87793,     0.87775,      0.8776,     0.87746,\n",
              "            0.87731,     0.87716,     0.87701,     0.88366,     0.88352,     0.88338,     0.88323,     0.88309,     0.88295,      0.8828,     0.88269,     0.88257,     0.88245,     0.88233,     0.88221,      0.8821,     0.88198,     0.88181,     0.88149,     0.88117,     0.88111,     0.88157,     0.88204,\n",
              "            0.88251,     0.88297,     0.88344,      0.8839,     0.88437,     0.88484,      0.8853,     0.88577,     0.88624,      0.8867,     0.88717,     0.88763,     0.88797,     0.88785,     0.88773,      0.8876,     0.88748,     0.88736,     0.88723,     0.88711,     0.88698,     0.88684,     0.88671,\n",
              "            0.88657,     0.88644,      0.8863,     0.88617,     0.88609,     0.88601,     0.88592,     0.88584,     0.88576,     0.88567,     0.88559,     0.88551,     0.88542,     0.88534,     0.88526,     0.88514,     0.88501,     0.88488,     0.88475,     0.88462,     0.88449,     0.88436,     0.89303,\n",
              "            0.89559,     0.89815,     0.89863,     0.89817,     0.89794,     0.89772,      0.8975,     0.89732,     0.89715,     0.89699,     0.89682,     0.89666,     0.89633,     0.89572,      0.8955,     0.89533,     0.89516,     0.89499,     0.89482,     0.89448,     0.89401,     0.89206,     0.89391,\n",
              "            0.89576,      0.8976,     0.89945,     0.89804,     0.89756,     0.89711,     0.89678,     0.89645,     0.89616,     0.89598,      0.8958,     0.89561,     0.89543,     0.89524,     0.90381,     0.89897,     0.89795,     0.89764,     0.89733,     0.89702,     0.89536,     0.89466,      0.8942,\n",
              "            0.89374,     0.88991,     0.88963,     0.88935,     0.88907,     0.88676,     0.88561,     0.88318,     0.88222,      0.8819,     0.88158,     0.88126,     0.87949,     0.87499,     0.87469,      0.8744,      0.8741,     0.87381,     0.87351,     0.86983,     0.86939,     0.86896,     0.86852,\n",
              "            0.86702,     0.86607,     0.86534,     0.86612,     0.86959,     0.87306,     0.87653,      0.8765,     0.87628,     0.87607,     0.87585,     0.87563,     0.87541,     0.87519,     0.87448,     0.87112,     0.87064,     0.87016,     0.86968,     0.86704,     0.86623,     0.86553,     0.86506,\n",
              "             0.8646,     0.86414,     0.86367,     0.88211,     0.88773,      0.8889,     0.88522,     0.88424,      0.8813,     0.88046,     0.87962,     0.89267,     0.89133,      0.9031,     0.91475,     0.91455,     0.91435,     0.91415,     0.91395,     0.91375,     0.91356,     0.91336,     0.91316,\n",
              "             0.9093,     0.90703,      0.9055,     0.89911,     0.88874,     0.88559,     0.88387,     0.88206,     0.87963,     0.88475,      0.9021,     0.90045,     0.89897,     0.89755,     0.89645,     0.89611,     0.89576,     0.89542,     0.89507,     0.89473,     0.89439,     0.89404,      0.8937,\n",
              "            0.89335,     0.89301,     0.92511,     0.92365,      0.9218,     0.91951,     0.91289,     0.91199,     0.91109,     0.91019,     0.90929,     0.90286,     0.90042,     0.92009,     0.94437,     0.94605,     0.94456,     0.94001,     0.93876,      0.9375,      0.9309,     0.90821,     0.88712,\n",
              "            0.88395,     0.88079,     0.87763,     0.85576,     0.84763,     0.83949,     0.91625,           1,           1,           1,           1,           1,           1,           1,           1,           1,           1,           1,           1,           1,           1,           1,           1,\n",
              "                  1,           1,           1,           1,           1,           1,           1,           1,           1,           1,           1,           1,           1,           1,           1,           1,           1,           1,           1,           1,           1,           1,           1,\n",
              "                  1,           1,           1,           1,           1,           1,           1,           1,           1,           1,           1]]), 'Confidence', 'Precision'], [array([          0,    0.001001,    0.002002,    0.003003,    0.004004,    0.005005,    0.006006,    0.007007,    0.008008,    0.009009,     0.01001,    0.011011,    0.012012,    0.013013,    0.014014,    0.015015,    0.016016,    0.017017,    0.018018,    0.019019,     0.02002,    0.021021,    0.022022,    0.023023,\n",
              "          0.024024,    0.025025,    0.026026,    0.027027,    0.028028,    0.029029,     0.03003,    0.031031,    0.032032,    0.033033,    0.034034,    0.035035,    0.036036,    0.037037,    0.038038,    0.039039,     0.04004,    0.041041,    0.042042,    0.043043,    0.044044,    0.045045,    0.046046,    0.047047,\n",
              "          0.048048,    0.049049,     0.05005,    0.051051,    0.052052,    0.053053,    0.054054,    0.055055,    0.056056,    0.057057,    0.058058,    0.059059,     0.06006,    0.061061,    0.062062,    0.063063,    0.064064,    0.065065,    0.066066,    0.067067,    0.068068,    0.069069,     0.07007,    0.071071,\n",
              "          0.072072,    0.073073,    0.074074,    0.075075,    0.076076,    0.077077,    0.078078,    0.079079,     0.08008,    0.081081,    0.082082,    0.083083,    0.084084,    0.085085,    0.086086,    0.087087,    0.088088,    0.089089,     0.09009,    0.091091,    0.092092,    0.093093,    0.094094,    0.095095,\n",
              "          0.096096,    0.097097,    0.098098,    0.099099,      0.1001,      0.1011,      0.1021,      0.1031,      0.1041,     0.10511,     0.10611,     0.10711,     0.10811,     0.10911,     0.11011,     0.11111,     0.11211,     0.11311,     0.11411,     0.11512,     0.11612,     0.11712,     0.11812,     0.11912,\n",
              "           0.12012,     0.12112,     0.12212,     0.12312,     0.12412,     0.12513,     0.12613,     0.12713,     0.12813,     0.12913,     0.13013,     0.13113,     0.13213,     0.13313,     0.13413,     0.13514,     0.13614,     0.13714,     0.13814,     0.13914,     0.14014,     0.14114,     0.14214,     0.14314,\n",
              "           0.14414,     0.14515,     0.14615,     0.14715,     0.14815,     0.14915,     0.15015,     0.15115,     0.15215,     0.15315,     0.15415,     0.15516,     0.15616,     0.15716,     0.15816,     0.15916,     0.16016,     0.16116,     0.16216,     0.16316,     0.16416,     0.16517,     0.16617,     0.16717,\n",
              "           0.16817,     0.16917,     0.17017,     0.17117,     0.17217,     0.17317,     0.17417,     0.17518,     0.17618,     0.17718,     0.17818,     0.17918,     0.18018,     0.18118,     0.18218,     0.18318,     0.18418,     0.18519,     0.18619,     0.18719,     0.18819,     0.18919,     0.19019,     0.19119,\n",
              "           0.19219,     0.19319,     0.19419,      0.1952,      0.1962,      0.1972,      0.1982,      0.1992,      0.2002,      0.2012,      0.2022,      0.2032,      0.2042,     0.20521,     0.20621,     0.20721,     0.20821,     0.20921,     0.21021,     0.21121,     0.21221,     0.21321,     0.21421,     0.21522,\n",
              "           0.21622,     0.21722,     0.21822,     0.21922,     0.22022,     0.22122,     0.22222,     0.22322,     0.22422,     0.22523,     0.22623,     0.22723,     0.22823,     0.22923,     0.23023,     0.23123,     0.23223,     0.23323,     0.23423,     0.23524,     0.23624,     0.23724,     0.23824,     0.23924,\n",
              "           0.24024,     0.24124,     0.24224,     0.24324,     0.24424,     0.24525,     0.24625,     0.24725,     0.24825,     0.24925,     0.25025,     0.25125,     0.25225,     0.25325,     0.25425,     0.25526,     0.25626,     0.25726,     0.25826,     0.25926,     0.26026,     0.26126,     0.26226,     0.26326,\n",
              "           0.26426,     0.26527,     0.26627,     0.26727,     0.26827,     0.26927,     0.27027,     0.27127,     0.27227,     0.27327,     0.27427,     0.27528,     0.27628,     0.27728,     0.27828,     0.27928,     0.28028,     0.28128,     0.28228,     0.28328,     0.28428,     0.28529,     0.28629,     0.28729,\n",
              "           0.28829,     0.28929,     0.29029,     0.29129,     0.29229,     0.29329,     0.29429,      0.2953,      0.2963,      0.2973,      0.2983,      0.2993,      0.3003,      0.3013,      0.3023,      0.3033,      0.3043,     0.30531,     0.30631,     0.30731,     0.30831,     0.30931,     0.31031,     0.31131,\n",
              "           0.31231,     0.31331,     0.31431,     0.31532,     0.31632,     0.31732,     0.31832,     0.31932,     0.32032,     0.32132,     0.32232,     0.32332,     0.32432,     0.32533,     0.32633,     0.32733,     0.32833,     0.32933,     0.33033,     0.33133,     0.33233,     0.33333,     0.33433,     0.33534,\n",
              "           0.33634,     0.33734,     0.33834,     0.33934,     0.34034,     0.34134,     0.34234,     0.34334,     0.34434,     0.34535,     0.34635,     0.34735,     0.34835,     0.34935,     0.35035,     0.35135,     0.35235,     0.35335,     0.35435,     0.35536,     0.35636,     0.35736,     0.35836,     0.35936,\n",
              "           0.36036,     0.36136,     0.36236,     0.36336,     0.36436,     0.36537,     0.36637,     0.36737,     0.36837,     0.36937,     0.37037,     0.37137,     0.37237,     0.37337,     0.37437,     0.37538,     0.37638,     0.37738,     0.37838,     0.37938,     0.38038,     0.38138,     0.38238,     0.38338,\n",
              "           0.38438,     0.38539,     0.38639,     0.38739,     0.38839,     0.38939,     0.39039,     0.39139,     0.39239,     0.39339,     0.39439,      0.3954,      0.3964,      0.3974,      0.3984,      0.3994,      0.4004,      0.4014,      0.4024,      0.4034,      0.4044,     0.40541,     0.40641,     0.40741,\n",
              "           0.40841,     0.40941,     0.41041,     0.41141,     0.41241,     0.41341,     0.41441,     0.41542,     0.41642,     0.41742,     0.41842,     0.41942,     0.42042,     0.42142,     0.42242,     0.42342,     0.42442,     0.42543,     0.42643,     0.42743,     0.42843,     0.42943,     0.43043,     0.43143,\n",
              "           0.43243,     0.43343,     0.43443,     0.43544,     0.43644,     0.43744,     0.43844,     0.43944,     0.44044,     0.44144,     0.44244,     0.44344,     0.44444,     0.44545,     0.44645,     0.44745,     0.44845,     0.44945,     0.45045,     0.45145,     0.45245,     0.45345,     0.45445,     0.45546,\n",
              "           0.45646,     0.45746,     0.45846,     0.45946,     0.46046,     0.46146,     0.46246,     0.46346,     0.46446,     0.46547,     0.46647,     0.46747,     0.46847,     0.46947,     0.47047,     0.47147,     0.47247,     0.47347,     0.47447,     0.47548,     0.47648,     0.47748,     0.47848,     0.47948,\n",
              "           0.48048,     0.48148,     0.48248,     0.48348,     0.48448,     0.48549,     0.48649,     0.48749,     0.48849,     0.48949,     0.49049,     0.49149,     0.49249,     0.49349,     0.49449,      0.4955,      0.4965,      0.4975,      0.4985,      0.4995,      0.5005,      0.5015,      0.5025,      0.5035,\n",
              "            0.5045,     0.50551,     0.50651,     0.50751,     0.50851,     0.50951,     0.51051,     0.51151,     0.51251,     0.51351,     0.51451,     0.51552,     0.51652,     0.51752,     0.51852,     0.51952,     0.52052,     0.52152,     0.52252,     0.52352,     0.52452,     0.52553,     0.52653,     0.52753,\n",
              "           0.52853,     0.52953,     0.53053,     0.53153,     0.53253,     0.53353,     0.53453,     0.53554,     0.53654,     0.53754,     0.53854,     0.53954,     0.54054,     0.54154,     0.54254,     0.54354,     0.54454,     0.54555,     0.54655,     0.54755,     0.54855,     0.54955,     0.55055,     0.55155,\n",
              "           0.55255,     0.55355,     0.55455,     0.55556,     0.55656,     0.55756,     0.55856,     0.55956,     0.56056,     0.56156,     0.56256,     0.56356,     0.56456,     0.56557,     0.56657,     0.56757,     0.56857,     0.56957,     0.57057,     0.57157,     0.57257,     0.57357,     0.57457,     0.57558,\n",
              "           0.57658,     0.57758,     0.57858,     0.57958,     0.58058,     0.58158,     0.58258,     0.58358,     0.58458,     0.58559,     0.58659,     0.58759,     0.58859,     0.58959,     0.59059,     0.59159,     0.59259,     0.59359,     0.59459,      0.5956,      0.5966,      0.5976,      0.5986,      0.5996,\n",
              "            0.6006,      0.6016,      0.6026,      0.6036,      0.6046,     0.60561,     0.60661,     0.60761,     0.60861,     0.60961,     0.61061,     0.61161,     0.61261,     0.61361,     0.61461,     0.61562,     0.61662,     0.61762,     0.61862,     0.61962,     0.62062,     0.62162,     0.62262,     0.62362,\n",
              "           0.62462,     0.62563,     0.62663,     0.62763,     0.62863,     0.62963,     0.63063,     0.63163,     0.63263,     0.63363,     0.63463,     0.63564,     0.63664,     0.63764,     0.63864,     0.63964,     0.64064,     0.64164,     0.64264,     0.64364,     0.64464,     0.64565,     0.64665,     0.64765,\n",
              "           0.64865,     0.64965,     0.65065,     0.65165,     0.65265,     0.65365,     0.65465,     0.65566,     0.65666,     0.65766,     0.65866,     0.65966,     0.66066,     0.66166,     0.66266,     0.66366,     0.66466,     0.66567,     0.66667,     0.66767,     0.66867,     0.66967,     0.67067,     0.67167,\n",
              "           0.67267,     0.67367,     0.67467,     0.67568,     0.67668,     0.67768,     0.67868,     0.67968,     0.68068,     0.68168,     0.68268,     0.68368,     0.68468,     0.68569,     0.68669,     0.68769,     0.68869,     0.68969,     0.69069,     0.69169,     0.69269,     0.69369,     0.69469,      0.6957,\n",
              "            0.6967,      0.6977,      0.6987,      0.6997,      0.7007,      0.7017,      0.7027,      0.7037,      0.7047,     0.70571,     0.70671,     0.70771,     0.70871,     0.70971,     0.71071,     0.71171,     0.71271,     0.71371,     0.71471,     0.71572,     0.71672,     0.71772,     0.71872,     0.71972,\n",
              "           0.72072,     0.72172,     0.72272,     0.72372,     0.72472,     0.72573,     0.72673,     0.72773,     0.72873,     0.72973,     0.73073,     0.73173,     0.73273,     0.73373,     0.73473,     0.73574,     0.73674,     0.73774,     0.73874,     0.73974,     0.74074,     0.74174,     0.74274,     0.74374,\n",
              "           0.74474,     0.74575,     0.74675,     0.74775,     0.74875,     0.74975,     0.75075,     0.75175,     0.75275,     0.75375,     0.75475,     0.75576,     0.75676,     0.75776,     0.75876,     0.75976,     0.76076,     0.76176,     0.76276,     0.76376,     0.76476,     0.76577,     0.76677,     0.76777,\n",
              "           0.76877,     0.76977,     0.77077,     0.77177,     0.77277,     0.77377,     0.77477,     0.77578,     0.77678,     0.77778,     0.77878,     0.77978,     0.78078,     0.78178,     0.78278,     0.78378,     0.78478,     0.78579,     0.78679,     0.78779,     0.78879,     0.78979,     0.79079,     0.79179,\n",
              "           0.79279,     0.79379,     0.79479,      0.7958,      0.7968,      0.7978,      0.7988,      0.7998,      0.8008,      0.8018,      0.8028,      0.8038,      0.8048,     0.80581,     0.80681,     0.80781,     0.80881,     0.80981,     0.81081,     0.81181,     0.81281,     0.81381,     0.81481,     0.81582,\n",
              "           0.81682,     0.81782,     0.81882,     0.81982,     0.82082,     0.82182,     0.82282,     0.82382,     0.82482,     0.82583,     0.82683,     0.82783,     0.82883,     0.82983,     0.83083,     0.83183,     0.83283,     0.83383,     0.83483,     0.83584,     0.83684,     0.83784,     0.83884,     0.83984,\n",
              "           0.84084,     0.84184,     0.84284,     0.84384,     0.84484,     0.84585,     0.84685,     0.84785,     0.84885,     0.84985,     0.85085,     0.85185,     0.85285,     0.85385,     0.85485,     0.85586,     0.85686,     0.85786,     0.85886,     0.85986,     0.86086,     0.86186,     0.86286,     0.86386,\n",
              "           0.86486,     0.86587,     0.86687,     0.86787,     0.86887,     0.86987,     0.87087,     0.87187,     0.87287,     0.87387,     0.87487,     0.87588,     0.87688,     0.87788,     0.87888,     0.87988,     0.88088,     0.88188,     0.88288,     0.88388,     0.88488,     0.88589,     0.88689,     0.88789,\n",
              "           0.88889,     0.88989,     0.89089,     0.89189,     0.89289,     0.89389,     0.89489,      0.8959,      0.8969,      0.8979,      0.8989,      0.8999,      0.9009,      0.9019,      0.9029,      0.9039,      0.9049,     0.90591,     0.90691,     0.90791,     0.90891,     0.90991,     0.91091,     0.91191,\n",
              "           0.91291,     0.91391,     0.91491,     0.91592,     0.91692,     0.91792,     0.91892,     0.91992,     0.92092,     0.92192,     0.92292,     0.92392,     0.92492,     0.92593,     0.92693,     0.92793,     0.92893,     0.92993,     0.93093,     0.93193,     0.93293,     0.93393,     0.93493,     0.93594,\n",
              "           0.93694,     0.93794,     0.93894,     0.93994,     0.94094,     0.94194,     0.94294,     0.94394,     0.94494,     0.94595,     0.94695,     0.94795,     0.94895,     0.94995,     0.95095,     0.95195,     0.95295,     0.95395,     0.95495,     0.95596,     0.95696,     0.95796,     0.95896,     0.95996,\n",
              "           0.96096,     0.96196,     0.96296,     0.96396,     0.96496,     0.96597,     0.96697,     0.96797,     0.96897,     0.96997,     0.97097,     0.97197,     0.97297,     0.97397,     0.97497,     0.97598,     0.97698,     0.97798,     0.97898,     0.97998,     0.98098,     0.98198,     0.98298,     0.98398,\n",
              "           0.98498,     0.98599,     0.98699,     0.98799,     0.98899,     0.98999,     0.99099,     0.99199,     0.99299,     0.99399,     0.99499,       0.996,       0.997,       0.998,       0.999,           1]), array([[    0.97076,     0.97076,     0.96491,     0.94737,     0.94737,     0.94152,     0.94152,     0.94152,     0.94152,     0.94152,     0.94152,     0.94152,     0.94152,     0.94152,     0.94152,     0.94152,     0.94152,     0.94152,     0.94152,     0.94152,     0.94152,     0.94152,     0.94152,\n",
              "            0.94152,     0.94111,     0.93567,     0.93567,     0.93567,     0.93567,     0.93567,     0.93567,     0.93567,     0.93567,     0.93567,     0.93567,     0.93567,     0.93493,     0.92988,     0.92982,     0.92982,     0.92739,     0.92472,       0.918,     0.91228,     0.90058,     0.90058,\n",
              "            0.90058,     0.90058,     0.90058,     0.90058,     0.90058,     0.90058,     0.90058,     0.90058,     0.90058,     0.90058,     0.90058,     0.90058,     0.90058,     0.90058,     0.90058,     0.90058,     0.89474,     0.89474,     0.89474,     0.89474,     0.89474,     0.89474,     0.89474,\n",
              "            0.89474,     0.89474,     0.89472,     0.89414,     0.89355,     0.89297,     0.89238,      0.8918,     0.89121,     0.89063,     0.89004,     0.88946,     0.88889,     0.88854,     0.88737,      0.8862,     0.88504,     0.88387,     0.88304,     0.88304,     0.88304,     0.88304,     0.88304,\n",
              "            0.88304,     0.88304,     0.88304,     0.88304,     0.88304,     0.88304,     0.88304,     0.88245,     0.88174,     0.88103,     0.88032,     0.87961,      0.8789,     0.87819,     0.87748,     0.87719,     0.87719,     0.87719,     0.87719,     0.87719,     0.87104,     0.87002,       0.869,\n",
              "            0.86798,     0.86696,     0.86594,      0.8655,      0.8655,      0.8655,      0.8655,      0.8655,      0.8655,      0.8655,      0.8655,      0.8655,      0.8655,      0.8655,      0.8655,      0.8655,      0.8655,      0.8655,      0.8655,      0.8655,      0.8655,      0.8655,      0.8655,\n",
              "             0.8655,      0.8655,      0.8655,      0.8655,      0.8655,      0.8655,     0.85943,      0.8592,     0.85897,     0.85875,     0.85852,     0.85829,     0.85806,     0.85783,      0.8576,     0.85738,     0.85715,     0.85692,     0.85669,     0.85646,     0.85623,     0.85601,     0.85578,\n",
              "            0.85555,     0.85532,     0.85509,     0.85486,     0.85464,     0.85441,     0.85418,     0.85395,      0.8538,      0.8538,      0.8538,      0.8538,      0.8538,      0.8538,      0.8538,      0.8538,      0.8538,      0.8538,      0.8538,      0.8538,      0.8538,      0.8538,      0.8538,\n",
              "             0.8538,      0.8538,      0.8538,      0.8538,      0.8538,      0.8538,      0.8538,      0.8538,      0.8538,      0.8538,      0.8538,      0.8538,      0.8538,      0.8538,      0.8538,      0.8538,      0.8538,      0.8538,     0.85366,     0.85333,       0.853,     0.85266,     0.85233,\n",
              "              0.852,     0.85166,     0.85133,       0.851,     0.85066,     0.85033,        0.85,     0.84967,     0.84933,       0.849,     0.84867,     0.84833,       0.848,     0.84795,     0.84795,     0.84795,     0.84795,     0.84795,     0.84795,     0.84795,     0.84795,     0.84795,     0.84795,\n",
              "            0.84795,     0.84795,     0.84795,     0.84795,     0.84795,     0.84795,     0.84795,     0.84795,     0.84795,     0.84795,     0.84795,     0.84795,     0.84795,     0.84795,     0.84795,     0.84795,     0.84795,     0.84795,     0.84795,     0.84795,     0.84795,     0.84795,     0.84795,\n",
              "            0.84795,     0.84795,     0.84795,     0.84795,     0.84795,     0.84795,     0.84795,     0.84795,     0.84795,     0.84795,     0.84795,     0.84795,     0.84795,     0.84795,     0.84795,     0.84795,     0.84791,     0.84771,     0.84751,     0.84731,     0.84711,     0.84691,     0.84671,\n",
              "            0.84651,     0.84631,     0.84611,     0.84591,     0.84571,     0.84551,     0.84531,     0.84511,     0.84491,     0.84471,     0.84451,     0.84431,     0.84411,     0.84391,     0.84371,     0.84351,     0.84331,     0.84311,     0.84291,     0.84271,     0.84251,     0.84231,     0.84211,\n",
              "            0.84211,     0.84211,     0.84211,     0.84211,     0.84211,     0.84151,      0.8398,     0.83808,     0.83637,     0.83626,     0.83626,     0.83626,     0.83626,     0.83626,     0.83626,     0.83626,     0.83626,     0.83626,     0.83626,     0.83626,     0.83626,     0.83626,     0.83626,\n",
              "            0.83626,     0.83626,     0.83626,     0.83626,     0.83626,     0.83626,     0.83626,     0.83626,     0.83626,     0.83626,     0.83626,     0.83626,     0.83626,     0.83626,     0.83626,     0.83626,     0.83626,     0.83626,     0.83626,     0.83626,     0.83626,     0.83626,     0.83626,\n",
              "            0.83626,     0.83626,     0.83626,     0.83626,     0.83626,     0.83626,     0.83626,     0.83626,     0.83626,     0.83626,     0.83626,     0.83626,     0.83626,     0.83626,     0.83626,     0.83626,     0.83626,     0.83626,     0.83626,     0.83626,     0.83626,     0.83626,     0.83626,\n",
              "            0.83626,     0.83626,     0.83626,     0.83626,     0.83626,     0.83626,     0.83626,     0.83626,     0.83626,     0.83626,     0.83626,     0.83626,     0.83626,     0.83626,     0.83626,     0.83626,     0.83626,     0.83626,     0.83626,     0.83626,     0.83626,     0.83626,     0.83626,\n",
              "            0.83031,     0.82731,     0.81869,     0.81842,     0.81815,     0.81787,      0.8176,     0.81733,     0.81706,     0.81678,     0.81651,     0.81624,     0.81597,     0.81569,     0.81542,     0.81515,     0.81488,      0.8146,     0.81433,     0.81406,     0.81379,     0.81351,     0.81324,\n",
              "            0.81297,     0.81287,     0.81287,     0.81287,     0.81287,     0.81287,     0.81287,     0.81287,     0.81287,     0.81287,     0.81287,     0.81287,     0.81287,     0.81287,     0.81287,     0.81287,     0.81287,     0.81287,     0.81287,     0.81287,     0.81287,     0.81287,     0.81287,\n",
              "            0.81287,      0.8127,     0.81246,     0.81221,     0.81197,     0.81173,     0.81149,     0.81124,       0.811,     0.81076,     0.81052,     0.81028,     0.81003,     0.80979,     0.80955,     0.80931,     0.80906,     0.80882,     0.80858,     0.80834,      0.8081,     0.80785,     0.80761,\n",
              "            0.80737,     0.80713,     0.80689,     0.80665,     0.80641,     0.80617,     0.80593,     0.80569,     0.80545,     0.80521,     0.80497,     0.80473,     0.80449,     0.80425,     0.80401,     0.80377,     0.80353,     0.80329,     0.80305,     0.80281,     0.80257,     0.80233,     0.80209,\n",
              "            0.80185,     0.80161,     0.80137,     0.80112,     0.80084,     0.80055,     0.80027,     0.79998,      0.7997,     0.79941,     0.79913,     0.79884,     0.79856,     0.79827,     0.79798,      0.7977,     0.79741,     0.79713,     0.79684,     0.79656,     0.79627,     0.79599,      0.7957,\n",
              "            0.79542,     0.79505,     0.79465,     0.79425,     0.79385,     0.79346,     0.79306,     0.79266,     0.79226,     0.79186,     0.79146,     0.79106,     0.79066,     0.79026,     0.78986,     0.78942,     0.78792,     0.78642,     0.78492,     0.78363,     0.78363,     0.78363,     0.78363,\n",
              "            0.78363,     0.78363,     0.78363,     0.78363,     0.78363,     0.78363,      0.7833,     0.78244,     0.78159,     0.78073,     0.77988,     0.77902,     0.77816,     0.77741,     0.77675,     0.77608,     0.77541,     0.77475,     0.77408,     0.77342,     0.77275,     0.77208,     0.77131,\n",
              "            0.77052,     0.76972,     0.76892,     0.76812,     0.76732,     0.76652,     0.76569,     0.76484,     0.76398,     0.76313,     0.76227,     0.76141,     0.76056,     0.76012,     0.75994,     0.75976,     0.75958,     0.75939,     0.75921,     0.75903,     0.75885,     0.75867,     0.75849,\n",
              "             0.7583,     0.75812,     0.75794,     0.75776,     0.75758,      0.7574,     0.75721,     0.75703,     0.75685,     0.75667,     0.75649,     0.75631,     0.75612,     0.75594,     0.75576,     0.75558,      0.7554,     0.75522,     0.75503,     0.75485,     0.75467,     0.75449,     0.75353,\n",
              "            0.75153,     0.74953,     0.74818,     0.74748,     0.74677,     0.74607,     0.74536,     0.74466,     0.74395,     0.74325,     0.74269,     0.74269,     0.74269,     0.74269,     0.74269,     0.74269,     0.74269,     0.74269,     0.74269,     0.74269,     0.74269,     0.74269,     0.74269,\n",
              "            0.74269,     0.74269,     0.74269,     0.74269,     0.74269,     0.74269,     0.74269,     0.74269,     0.74269,     0.74269,     0.74269,     0.74269,     0.74269,     0.74269,     0.74269,     0.74269,     0.74269,     0.74269,     0.74269,     0.74137,     0.74004,     0.73871,     0.73737,\n",
              "            0.73057,     0.72987,     0.72916,     0.72845,     0.72775,     0.72704,     0.72634,     0.72563,     0.72515,     0.72515,     0.72515,     0.72515,     0.72515,     0.72515,     0.72465,     0.72356,     0.72247,     0.72138,     0.72029,      0.7193,      0.7193,      0.7193,      0.7193,\n",
              "             0.7193,      0.7193,      0.7193,      0.7193,      0.7193,      0.7193,      0.7193,      0.7193,      0.7193,      0.7193,      0.7193,      0.7193,      0.7193,      0.7193,      0.7193,      0.7193,      0.7193,      0.7193,      0.7193,      0.7154,     0.70706,     0.70626,     0.70546,\n",
              "            0.70466,     0.70387,     0.70307,     0.70227,     0.69961,     0.68948,     0.68799,     0.68649,     0.68499,     0.68421,     0.67836,     0.67836,     0.67836,     0.67836,     0.67836,     0.67836,     0.67808,     0.67637,     0.67466,     0.67294,     0.67182,      0.6709,     0.66998,\n",
              "            0.66906,     0.66814,     0.66721,     0.66629,     0.66537,     0.66445,     0.66352,      0.6626,     0.66168,     0.66077,     0.66002,     0.65927,     0.65852,     0.65777,     0.65702,     0.65627,     0.65552,     0.65445,     0.65245,     0.65045,     0.64912,     0.64912,     0.64912,\n",
              "            0.64912,     0.64912,     0.64912,     0.64912,     0.64912,     0.64912,     0.64912,     0.64912,     0.64912,     0.64912,     0.64912,     0.64912,     0.64895,     0.64815,     0.64735,     0.64655,     0.64576,     0.64496,     0.64416,     0.64336,     0.64251,     0.64165,     0.64079,\n",
              "            0.63994,     0.63908,     0.63823,     0.63739,     0.63687,     0.63635,     0.63583,     0.63531,     0.63479,     0.63426,     0.63374,     0.63322,      0.6327,     0.63218,     0.63166,      0.6309,      0.6301,      0.6293,      0.6285,      0.6277,      0.6269,     0.62611,     0.62573,\n",
              "            0.62573,     0.62573,     0.62211,     0.61894,     0.61744,     0.61594,     0.61444,     0.61324,     0.61215,     0.61106,     0.60997,     0.60888,     0.60675,     0.60275,     0.60136,     0.60027,     0.59918,     0.59809,       0.597,      0.5949,      0.5919,     0.57895,     0.57895,\n",
              "            0.57895,     0.57895,     0.57895,     0.56661,     0.56361,     0.56088,     0.55888,     0.55688,     0.55519,      0.5541,     0.55301,     0.55192,     0.55083,     0.54974,     0.54971,     0.52035,     0.51454,     0.51283,     0.51112,     0.50941,     0.50041,     0.49668,     0.49428,\n",
              "            0.49188,     0.47272,     0.47138,     0.47005,     0.46872,     0.45794,     0.45275,     0.44213,     0.43805,     0.43672,     0.43539,     0.43405,     0.42678,     0.40931,     0.40822,     0.40713,     0.40604,     0.40495,     0.40386,      0.3908,      0.3893,      0.3878,      0.3863,\n",
              "            0.38131,      0.3782,      0.3758,     0.37427,     0.37427,     0.37427,     0.37427,     0.37356,     0.37281,     0.37206,     0.37131,     0.37056,     0.36981,     0.36906,     0.36671,     0.35574,     0.35424,     0.35275,     0.35125,     0.34322,     0.34083,     0.33876,     0.33743,\n",
              "             0.3361,     0.33477,     0.33343,     0.33333,     0.33333,     0.32752,     0.31573,     0.31273,     0.30392,     0.30153,     0.29913,     0.29182,     0.28783,     0.27255,     0.25102,     0.25039,     0.24976,     0.24912,     0.24849,     0.24786,     0.24723,      0.2466,     0.24597,\n",
              "            0.23453,     0.22823,     0.22418,     0.20849,     0.18686,     0.18107,     0.17808,     0.17496,     0.17096,     0.16374,      0.1617,     0.15871,     0.15615,     0.15375,     0.15189,     0.15134,      0.1508,     0.15025,     0.14971,     0.14916,     0.14862,     0.14807,     0.14753,\n",
              "            0.14698,     0.14644,     0.14452,     0.14153,     0.13792,     0.13364,     0.12258,     0.12125,     0.11992,     0.11859,     0.11725,     0.10878,     0.10578,     0.10526,     0.10526,     0.10264,    0.099639,    0.091718,     0.08972,    0.087722,    0.078879,    0.057912,    0.046038,\n",
              "           0.044706,    0.043374,    0.042042,    0.034749,    0.032751,    0.030753,     0.02924,    0.026977,     0.02398,    0.016473,    0.015141,    0.013809,    0.012477,    0.011435,    0.010804,    0.010173,    0.009542,    0.008911,   0.0082801,   0.0076491,   0.0070181,   0.0063871,           0,\n",
              "                  0,           0,           0,           0,           0,           0,           0,           0,           0,           0,           0,           0,           0,           0,           0,           0,           0,           0,           0,           0,           0,           0,           0,\n",
              "                  0,           0,           0,           0,           0,           0,           0,           0,           0,           0,           0]]), 'Confidence', 'Recall']]\n",
              "fitness: 0.738402329998963\n",
              "keys: ['metrics/precision(B)', 'metrics/recall(B)', 'metrics/mAP50(B)', 'metrics/mAP50-95(B)']\n",
              "maps: array([    0.72524,     0.72524])\n",
              "names: {0: 'tumor', 1: 'no_tumor'}\n",
              "plot: True\n",
              "results_dict: {'metrics/precision(B)': 0.8443033590866408, 'metrics/recall(B)': 0.8362573099415205, 'metrics/mAP50(B)': 0.856894123632265, 'metrics/mAP50-95(B)': 0.7252365751508184, 'fitness': 0.738402329998963}\n",
              "save_dir: PosixPath('runs/detect/brain_tumor_nano')\n",
              "speed: {'preprocess': 0.25417141078673683, 'inference': 2.5491235182457364, 'loss': 0.0009868562836007975, 'postprocess': 5.359884389896982}\n",
              "task: 'detect'"
            ]
          },
          "metadata": {},
          "execution_count": 8
        }
      ]
    },
    {
      "cell_type": "code",
      "source": [
        "print(\"Validating the model...\")\n",
        "metrics = model.val()\n"
      ],
      "metadata": {
        "colab": {
          "base_uri": "https://localhost:8080/"
        },
        "id": "CNCLYr_xefyH",
        "outputId": "87af2fcb-9a15-438b-f709-2dd244564152"
      },
      "execution_count": null,
      "outputs": [
        {
          "output_type": "stream",
          "name": "stdout",
          "text": [
            "Validating the model...\n",
            "Ultralytics 8.3.34 🚀 Python-3.10.12 torch-2.5.1+cu121 CUDA:0 (Tesla T4, 15102MiB)\n",
            "Model summary (fused): 168 layers, 3,006,038 parameters, 0 gradients, 8.1 GFLOPs\n"
          ]
        },
        {
          "output_type": "stream",
          "name": "stderr",
          "text": [
            "\u001b[34m\u001b[1mval: \u001b[0mScanning /content/drive/MyDrive/brain tumor classification.v1i.yolov8/valid/labels.cache... 194 images, 29 backgrounds, 0 corrupt: 100%|██████████| 194/194 [00:00<?, ?it/s]\n",
            "                 Class     Images  Instances      Box(P          R      mAP50  mAP50-95): 100%|██████████| 13/13 [00:07<00:00,  1.80it/s]\n"
          ]
        },
        {
          "output_type": "stream",
          "name": "stdout",
          "text": [
            "                   all        194        171      0.836      0.848      0.858      0.726\n",
            "                 tumor        165        171      0.836      0.848      0.858      0.726\n",
            "Speed: 0.7ms preprocess, 7.5ms inference, 0.0ms loss, 4.9ms postprocess per image\n",
            "Results saved to \u001b[1mruns/detect/brain_tumor_nano2\u001b[0m\n"
          ]
        }
      ]
    },
    {
      "cell_type": "code",
      "source": [
        "print(\"Performing inference on the test dataset...\")\n",
        "test_images_path = os.path.join(dataset_path, 'test/images')\n",
        "results = model.predict(\n",
        "    source=test_images_path,  # Path to test images\n",
        "    save=True,                # Save predictions in 'runs/predict' folder\n",
        "    imgsz=640                 # Resize test images to 640x640\n",
        ")"
      ],
      "metadata": {
        "colab": {
          "base_uri": "https://localhost:8080/"
        },
        "id": "3wxUq2Xmei6D",
        "outputId": "7f90d894-5a0d-496e-9d31-e896842128a2"
      },
      "execution_count": null,
      "outputs": [
        {
          "output_type": "stream",
          "name": "stdout",
          "text": [
            "Performing inference on the test dataset...\n",
            "\n",
            "image 1/174 /content/drive/MyDrive/brain tumor classification.v1i.yolov8/test/images/y108_jpg.rf.bc47aeb2c606d0328f0e2b85fa8e9565.jpg: 640x640 1 tumor, 7.5ms\n",
            "image 2/174 /content/drive/MyDrive/brain tumor classification.v1i.yolov8/test/images/y109_jpg.rf.6be3e8513b63f0e95048539f37ba985a.jpg: 640x640 1 tumor, 13.9ms\n",
            "image 3/174 /content/drive/MyDrive/brain tumor classification.v1i.yolov8/test/images/y112_jpg.rf.c3292dfeb6887aa266925b807409c08c.jpg: 640x640 2 tumors, 8.6ms\n",
            "image 4/174 /content/drive/MyDrive/brain tumor classification.v1i.yolov8/test/images/y114_jpg.rf.2383dd6aae4cd838eccd72774b4284f4.jpg: 640x640 (no detections), 7.4ms\n",
            "image 5/174 /content/drive/MyDrive/brain tumor classification.v1i.yolov8/test/images/y124_jpg.rf.24dcf2adc77d95e8ecde2c0bffdac86b.jpg: 640x640 1 tumor, 7.4ms\n",
            "image 6/174 /content/drive/MyDrive/brain tumor classification.v1i.yolov8/test/images/y125_jpg.rf.8c350d2d3f1ce0d5c8a208bc7f7294a3.jpg: 640x640 1 tumor, 7.5ms\n",
            "image 7/174 /content/drive/MyDrive/brain tumor classification.v1i.yolov8/test/images/y134_jpg.rf.a4a0d67d73f8632831e9b6bd576cd40d.jpg: 640x640 1 tumor, 9.0ms\n",
            "image 8/174 /content/drive/MyDrive/brain tumor classification.v1i.yolov8/test/images/y139_jpg.rf.8992184e9ab45851318b013f0d60355a.jpg: 640x640 1 tumor, 9.0ms\n",
            "image 9/174 /content/drive/MyDrive/brain tumor classification.v1i.yolov8/test/images/y13_jpg.rf.09bc9463c55db74eccb802d7bb291066.jpg: 640x640 1 tumor, 7.4ms\n",
            "image 10/174 /content/drive/MyDrive/brain tumor classification.v1i.yolov8/test/images/y142_jpg.rf.7897b35c722f11b09b55aa633c71d2e2.jpg: 640x640 1 tumor, 7.4ms\n",
            "image 11/174 /content/drive/MyDrive/brain tumor classification.v1i.yolov8/test/images/y14_jpg.rf.056e4fea29b62dab743b3f483d7655d5.jpg: 640x640 1 tumor, 7.4ms\n",
            "image 12/174 /content/drive/MyDrive/brain tumor classification.v1i.yolov8/test/images/y152_jpg.rf.56e06f122710186a29dff25babbb0985.jpg: 640x640 1 tumor, 7.4ms\n",
            "image 13/174 /content/drive/MyDrive/brain tumor classification.v1i.yolov8/test/images/y153_jpg.rf.0ca60447d1969912d702ee06a912e471.jpg: 640x640 1 tumor, 8.6ms\n",
            "image 14/174 /content/drive/MyDrive/brain tumor classification.v1i.yolov8/test/images/y165_jpg.rf.be90788a5610e09763c7a0f1dfc5d721.jpg: 640x640 1 tumor, 7.4ms\n",
            "image 15/174 /content/drive/MyDrive/brain tumor classification.v1i.yolov8/test/images/y169_jpg.rf.15696f540756ef09b9051dd2b9cc4d75.jpg: 640x640 1 tumor, 7.4ms\n",
            "image 16/174 /content/drive/MyDrive/brain tumor classification.v1i.yolov8/test/images/y177_jpg.rf.a525aab6de75f567ef59f365aa7801f4.jpg: 640x640 1 tumor, 7.4ms\n",
            "image 17/174 /content/drive/MyDrive/brain tumor classification.v1i.yolov8/test/images/y182_jpg.rf.775d3d0f7404ca5d111d5436988cae4b.jpg: 640x640 1 tumor, 7.4ms\n",
            "image 18/174 /content/drive/MyDrive/brain tumor classification.v1i.yolov8/test/images/y199_jpg.rf.72c7825588e60d0f3bd07d34fe5ca237.jpg: 640x640 1 tumor, 7.4ms\n",
            "image 19/174 /content/drive/MyDrive/brain tumor classification.v1i.yolov8/test/images/y199_jpg.rf.9e798df4924e49ee3f308513eb34ad93.jpg: 640x640 1 tumor, 7.4ms\n",
            "image 20/174 /content/drive/MyDrive/brain tumor classification.v1i.yolov8/test/images/y203_jpg.rf.5a19c36a665164b18fe2943f83b410f8.jpg: 640x640 (no detections), 7.4ms\n",
            "image 21/174 /content/drive/MyDrive/brain tumor classification.v1i.yolov8/test/images/y203_jpg.rf.9b3ad0a43ff4e164a985832c3adf691e.jpg: 640x640 (no detections), 9.4ms\n",
            "image 22/174 /content/drive/MyDrive/brain tumor classification.v1i.yolov8/test/images/y207_jpg.rf.aa2ed2e06c392a405dcc75a4f3ddcc29.jpg: 640x640 1 tumor, 7.4ms\n",
            "image 23/174 /content/drive/MyDrive/brain tumor classification.v1i.yolov8/test/images/y207_jpg.rf.cd242667a4aa2bd5534ef787abb8abc1.jpg: 640x640 1 tumor, 14.2ms\n",
            "image 24/174 /content/drive/MyDrive/brain tumor classification.v1i.yolov8/test/images/y208_jpg.rf.13441cbd60e41ee2c152eb74402e0a34.jpg: 640x640 1 tumor, 7.4ms\n",
            "image 25/174 /content/drive/MyDrive/brain tumor classification.v1i.yolov8/test/images/y208_jpg.rf.6994ed232e1fe2f935332d148f6e12de.jpg: 640x640 1 tumor, 7.4ms\n",
            "image 26/174 /content/drive/MyDrive/brain tumor classification.v1i.yolov8/test/images/y234_jpg.rf.65f3ba7e57fc49384c310ca70d815534.jpg: 640x640 1 tumor, 7.4ms\n",
            "image 27/174 /content/drive/MyDrive/brain tumor classification.v1i.yolov8/test/images/y234_jpg.rf.91ea2416221db8590616aab182796695.jpg: 640x640 1 tumor, 7.4ms\n",
            "image 28/174 /content/drive/MyDrive/brain tumor classification.v1i.yolov8/test/images/y242_jpg.rf.2d2195a6837fc1e9198c4e4943320181.jpg: 640x640 1 tumor, 7.4ms\n",
            "image 29/174 /content/drive/MyDrive/brain tumor classification.v1i.yolov8/test/images/y242_jpg.rf.aaca5d1289be570f9e5142237aa2805b.jpg: 640x640 1 tumor, 7.4ms\n",
            "image 30/174 /content/drive/MyDrive/brain tumor classification.v1i.yolov8/test/images/y243_jpg.rf.6669c3dc0c7be04adc43feb43de3adbd.jpg: 640x640 1 tumor, 7.4ms\n",
            "image 31/174 /content/drive/MyDrive/brain tumor classification.v1i.yolov8/test/images/y243_jpg.rf.d3b2ee075ee5f3cd876bc51f92b7e89a.jpg: 640x640 1 tumor, 7.4ms\n",
            "image 32/174 /content/drive/MyDrive/brain tumor classification.v1i.yolov8/test/images/y248_jpg.rf.d027f18de06695399a2aa435c50759a0.jpg: 640x640 1 tumor, 10.2ms\n",
            "image 33/174 /content/drive/MyDrive/brain tumor classification.v1i.yolov8/test/images/y248_jpg.rf.e046630f0ee51bf3283575c04b30bd02.jpg: 640x640 1 tumor, 8.2ms\n",
            "image 34/174 /content/drive/MyDrive/brain tumor classification.v1i.yolov8/test/images/y249_jpg.rf.197a52088045d14832c1bd9c043fd189.jpg: 640x640 1 tumor, 9.8ms\n",
            "image 35/174 /content/drive/MyDrive/brain tumor classification.v1i.yolov8/test/images/y249_jpg.rf.49c999f90c0f3bee986f4e2aba58d249.jpg: 640x640 1 tumor, 8.7ms\n",
            "image 36/174 /content/drive/MyDrive/brain tumor classification.v1i.yolov8/test/images/y250_jpg.rf.e004260fdc77fa815c9b57af402e6be3.jpg: 640x640 1 tumor, 8.6ms\n",
            "image 37/174 /content/drive/MyDrive/brain tumor classification.v1i.yolov8/test/images/y250_jpg.rf.fbd8f5bf9e5516a456f0e6a59b65f179.jpg: 640x640 1 tumor, 8.0ms\n",
            "image 38/174 /content/drive/MyDrive/brain tumor classification.v1i.yolov8/test/images/y251_jpg.rf.4b0739b61eef13eaabb71f8967fc6392.jpg: 640x640 1 tumor, 8.9ms\n",
            "image 39/174 /content/drive/MyDrive/brain tumor classification.v1i.yolov8/test/images/y251_jpg.rf.d11ed65f785002bbe8d56da33e74f505.jpg: 640x640 1 tumor, 8.7ms\n",
            "image 40/174 /content/drive/MyDrive/brain tumor classification.v1i.yolov8/test/images/y254_jpg.rf.76a396b94b35b3a40372c6ae546b731b.jpg: 640x640 1 tumor, 8.5ms\n",
            "image 41/174 /content/drive/MyDrive/brain tumor classification.v1i.yolov8/test/images/y254_jpg.rf.caaef10e4ca3f908123475ea3c2d4de7.jpg: 640x640 1 tumor, 8.6ms\n",
            "image 42/174 /content/drive/MyDrive/brain tumor classification.v1i.yolov8/test/images/y255_jpg.rf.a49ef7b2b9104345d01fb8a41a17e3cd.jpg: 640x640 1 tumor, 8.4ms\n",
            "image 43/174 /content/drive/MyDrive/brain tumor classification.v1i.yolov8/test/images/y255_jpg.rf.caec5409869d73cba2981cac5e86d61a.jpg: 640x640 1 tumor, 8.9ms\n",
            "image 44/174 /content/drive/MyDrive/brain tumor classification.v1i.yolov8/test/images/y26_jpg.rf.08908d45c9f8abc6bc75ad76e800904a.jpg: 640x640 1 tumor, 10.3ms\n",
            "image 45/174 /content/drive/MyDrive/brain tumor classification.v1i.yolov8/test/images/y26_jpg.rf.71d4c05387269b727e6c12648593bd7d.jpg: 640x640 1 tumor, 8.7ms\n",
            "image 46/174 /content/drive/MyDrive/brain tumor classification.v1i.yolov8/test/images/y278_jpg.rf.f576a167ccbc2908915fcabeda23ae05.jpg: 640x640 1 tumor, 11.4ms\n",
            "image 47/174 /content/drive/MyDrive/brain tumor classification.v1i.yolov8/test/images/y281_jpg.rf.6017e04f33ecc05a70bd147d0200aa45.jpg: 640x640 1 tumor, 9.7ms\n",
            "image 48/174 /content/drive/MyDrive/brain tumor classification.v1i.yolov8/test/images/y283_jpg.rf.e59ab2c4fd0b011883b6d1f7626e4d6e.jpg: 640x640 2 tumors, 10.5ms\n",
            "image 49/174 /content/drive/MyDrive/brain tumor classification.v1i.yolov8/test/images/y288_jpg.rf.2edc72c8ce544484c8ee353a7aae6529.jpg: 640x640 2 tumors, 8.9ms\n",
            "image 50/174 /content/drive/MyDrive/brain tumor classification.v1i.yolov8/test/images/y297_jpg.rf.7f1cc0194de5766ee2cba96ff174a1f1.jpg: 640x640 1 tumor, 10.6ms\n",
            "image 51/174 /content/drive/MyDrive/brain tumor classification.v1i.yolov8/test/images/y300_jpg.rf.90710db2caaa1a393c11e7b7c2962674.jpg: 640x640 1 tumor, 8.8ms\n",
            "image 52/174 /content/drive/MyDrive/brain tumor classification.v1i.yolov8/test/images/y308_jpg.rf.5a967cc2468c51b9f9d7a07d12f54773.jpg: 640x640 1 tumor, 8.8ms\n",
            "image 53/174 /content/drive/MyDrive/brain tumor classification.v1i.yolov8/test/images/y30_jpg.rf.6ae5765e7fdfe26eb67bb2b275425a09.jpg: 640x640 1 tumor, 8.3ms\n",
            "image 54/174 /content/drive/MyDrive/brain tumor classification.v1i.yolov8/test/images/y315_jpg.rf.a6df0aab7d1486d2235e95b5c86200aa.jpg: 640x640 1 tumor, 8.6ms\n",
            "image 55/174 /content/drive/MyDrive/brain tumor classification.v1i.yolov8/test/images/y316_jpg.rf.a341c0a1147b4f288b8e1e5264188108.jpg: 640x640 1 tumor, 9.8ms\n",
            "image 56/174 /content/drive/MyDrive/brain tumor classification.v1i.yolov8/test/images/y329_jpg.rf.6058e3d56d3661c2b297fff173cd8d3e.jpg: 640x640 1 tumor, 12.0ms\n",
            "image 57/174 /content/drive/MyDrive/brain tumor classification.v1i.yolov8/test/images/y32_jpg.rf.d939e1cce4c43ca8a23649c31e4d8853.jpg: 640x640 1 tumor, 18.3ms\n",
            "image 58/174 /content/drive/MyDrive/brain tumor classification.v1i.yolov8/test/images/y330_jpg.rf.aeaa1f11c6b868d727f53d22a8cfccc9.jpg: 640x640 1 tumor, 7.9ms\n",
            "image 59/174 /content/drive/MyDrive/brain tumor classification.v1i.yolov8/test/images/y331_jpg.rf.cac6ff2a569ccf0705531c4a38aa40ef.jpg: 640x640 1 tumor, 8.7ms\n",
            "image 60/174 /content/drive/MyDrive/brain tumor classification.v1i.yolov8/test/images/y332_jpg.rf.b545e09a9943150c1d9b63d1807f1f0f.jpg: 640x640 1 tumor, 7.6ms\n",
            "image 61/174 /content/drive/MyDrive/brain tumor classification.v1i.yolov8/test/images/y334_jpg.rf.fd0442f2775d1831e544fd348f9443a8.jpg: 640x640 (no detections), 7.4ms\n",
            "image 62/174 /content/drive/MyDrive/brain tumor classification.v1i.yolov8/test/images/y341_jpg.rf.3355fe936efc67fde5db9124d936e8c5.jpg: 640x640 1 tumor, 7.4ms\n",
            "image 63/174 /content/drive/MyDrive/brain tumor classification.v1i.yolov8/test/images/y361_jpg.rf.fa06e4b73c22f07f7c225eaf835bbd0b.jpg: 640x640 1 tumor, 7.4ms\n",
            "image 64/174 /content/drive/MyDrive/brain tumor classification.v1i.yolov8/test/images/y365_jpg.rf.b10688b03b32f8a430562753055c1296.jpg: 640x640 1 tumor, 7.4ms\n",
            "image 65/174 /content/drive/MyDrive/brain tumor classification.v1i.yolov8/test/images/y367_jpg.rf.dec446e330a43364573b67152f866a79.jpg: 640x640 1 tumor, 7.5ms\n",
            "image 66/174 /content/drive/MyDrive/brain tumor classification.v1i.yolov8/test/images/y374_jpg.rf.076dc6dc06d7607fd841402d448d5e98.jpg: 640x640 1 tumor, 7.4ms\n",
            "image 67/174 /content/drive/MyDrive/brain tumor classification.v1i.yolov8/test/images/y381_jpg.rf.33890fe1d6a5e4743d6db6b917c06a8b.jpg: 640x640 1 tumor, 7.4ms\n",
            "image 68/174 /content/drive/MyDrive/brain tumor classification.v1i.yolov8/test/images/y382_jpg.rf.8a632da18214e86458397a5a86cb9e7c.jpg: 640x640 1 tumor, 7.9ms\n",
            "image 69/174 /content/drive/MyDrive/brain tumor classification.v1i.yolov8/test/images/y388_jpg.rf.05630efce7f713b473b2fcffb3262f72.jpg: 640x640 1 tumor, 7.5ms\n",
            "image 70/174 /content/drive/MyDrive/brain tumor classification.v1i.yolov8/test/images/y400_jpg.rf.46755d5a50d83b08c1f2a8a510583315.jpg: 640x640 1 tumor, 7.4ms\n",
            "image 71/174 /content/drive/MyDrive/brain tumor classification.v1i.yolov8/test/images/y405_jpg.rf.22821e48897d122a9ffb630aa6e309b2.jpg: 640x640 (no detections), 7.4ms\n",
            "image 72/174 /content/drive/MyDrive/brain tumor classification.v1i.yolov8/test/images/y411_jpg.rf.af0510301a694815a1a1f2465d0ca8a2.jpg: 640x640 1 tumor, 7.4ms\n",
            "image 73/174 /content/drive/MyDrive/brain tumor classification.v1i.yolov8/test/images/y412_jpg.rf.caa3e361aab2b1a662997077bc1306d2.jpg: 640x640 1 tumor, 11.0ms\n",
            "image 74/174 /content/drive/MyDrive/brain tumor classification.v1i.yolov8/test/images/y425_jpg.rf.b7f2dbef0e75be02484e34ce7ef8d8ad.jpg: 640x640 1 tumor, 11.1ms\n",
            "image 75/174 /content/drive/MyDrive/brain tumor classification.v1i.yolov8/test/images/y428_jpg.rf.c555e2561afab3e3984d1ea1c25a3157.jpg: 640x640 (no detections), 13.0ms\n",
            "image 76/174 /content/drive/MyDrive/brain tumor classification.v1i.yolov8/test/images/y438_jpg.rf.74a18217506487324143cfee66f1ff4d.jpg: 640x640 1 tumor, 16.1ms\n",
            "image 77/174 /content/drive/MyDrive/brain tumor classification.v1i.yolov8/test/images/y43_jpg.rf.6ab4b441eddeaa391c1a586955e3d7af.jpg: 640x640 1 tumor, 9.1ms\n",
            "image 78/174 /content/drive/MyDrive/brain tumor classification.v1i.yolov8/test/images/y442_jpg.rf.2e868fdbf59c61f78bfce8beee6171bb.jpg: 640x640 1 tumor, 8.3ms\n",
            "image 79/174 /content/drive/MyDrive/brain tumor classification.v1i.yolov8/test/images/y45_jpg.rf.8e9b1dd7e7378e0dd0bd8a4dd12362e7.jpg: 640x640 (no detections), 7.4ms\n",
            "image 80/174 /content/drive/MyDrive/brain tumor classification.v1i.yolov8/test/images/y461_jpg.rf.f4edf5924206e75c1aea566149a8328e.jpg: 640x640 (no detections), 7.4ms\n",
            "image 81/174 /content/drive/MyDrive/brain tumor classification.v1i.yolov8/test/images/y462_jpg.rf.738d4b5236c00e8eb7d53e6781e701f9.jpg: 640x640 1 tumor, 7.5ms\n",
            "image 82/174 /content/drive/MyDrive/brain tumor classification.v1i.yolov8/test/images/y46_jpg.rf.e130cb75537f45a973434462eb2e422e.jpg: 640x640 1 tumor, 7.4ms\n",
            "image 83/174 /content/drive/MyDrive/brain tumor classification.v1i.yolov8/test/images/y470_jpg.rf.281c069017c0965812881d0bd4be7702.jpg: 640x640 1 tumor, 7.4ms\n",
            "image 84/174 /content/drive/MyDrive/brain tumor classification.v1i.yolov8/test/images/y471_jpg.rf.7961b30dc9f7f035467d0e336f2771c1.jpg: 640x640 1 tumor, 7.7ms\n",
            "image 85/174 /content/drive/MyDrive/brain tumor classification.v1i.yolov8/test/images/y472_jpg.rf.5bc6aa2ba0b34a696733cb4d68685a56.jpg: 640x640 1 tumor, 7.4ms\n",
            "image 86/174 /content/drive/MyDrive/brain tumor classification.v1i.yolov8/test/images/y479_jpg.rf.12e34d804218b2f4d57f0be2356e5287.jpg: 640x640 1 tumor, 7.4ms\n",
            "image 87/174 /content/drive/MyDrive/brain tumor classification.v1i.yolov8/test/images/y484_jpg.rf.1ef96a239a581c85b9ecc494444ff356.jpg: 640x640 1 tumor, 7.4ms\n",
            "image 88/174 /content/drive/MyDrive/brain tumor classification.v1i.yolov8/test/images/y492_jpg.rf.6f3e2b32a85480ca4e3c4bfc26937732.jpg: 640x640 1 tumor, 7.4ms\n",
            "image 89/174 /content/drive/MyDrive/brain tumor classification.v1i.yolov8/test/images/y496_jpg.rf.8217c7be6d419491ffa3882b4473878f.jpg: 640x640 1 tumor, 12.6ms\n",
            "image 90/174 /content/drive/MyDrive/brain tumor classification.v1i.yolov8/test/images/y498_jpg.rf.2c227e8f3903d0c26d40236b9bc03244.jpg: 640x640 1 tumor, 7.4ms\n",
            "image 91/174 /content/drive/MyDrive/brain tumor classification.v1i.yolov8/test/images/y50_jpg.rf.89332de6547a38c1f1207884f04e7e62.jpg: 640x640 1 tumor, 7.4ms\n",
            "image 92/174 /content/drive/MyDrive/brain tumor classification.v1i.yolov8/test/images/y510_jpg.rf.ccdbc7fd73d21ff14efb59b082301c02.jpg: 640x640 1 tumor, 7.4ms\n",
            "image 93/174 /content/drive/MyDrive/brain tumor classification.v1i.yolov8/test/images/y511_jpg.rf.b0287fad711d33b7c2c365f007f09e21.jpg: 640x640 1 tumor, 7.4ms\n",
            "image 94/174 /content/drive/MyDrive/brain tumor classification.v1i.yolov8/test/images/y512_jpg.rf.207c175d21aa3b48aa407daaf062ec5f.jpg: 640x640 1 tumor, 7.4ms\n",
            "image 95/174 /content/drive/MyDrive/brain tumor classification.v1i.yolov8/test/images/y513_jpg.rf.dc09d90b93453a3d8988814c5c672044.jpg: 640x640 (no detections), 7.4ms\n",
            "image 96/174 /content/drive/MyDrive/brain tumor classification.v1i.yolov8/test/images/y520_jpg.rf.74036e0680a4becc23dcd815cc23022b.jpg: 640x640 (no detections), 7.4ms\n",
            "image 97/174 /content/drive/MyDrive/brain tumor classification.v1i.yolov8/test/images/y521_jpg.rf.be24dce39ed19b0f157c0724d36e991b.jpg: 640x640 1 tumor, 7.6ms\n",
            "image 98/174 /content/drive/MyDrive/brain tumor classification.v1i.yolov8/test/images/y522_jpg.rf.48e1e295fa0db33fb2834fe1b662d436.jpg: 640x640 1 tumor, 7.4ms\n",
            "image 99/174 /content/drive/MyDrive/brain tumor classification.v1i.yolov8/test/images/y525_jpg.rf.023e7b4da062496fa82d91f81783aec5.jpg: 640x640 1 tumor, 7.4ms\n",
            "image 100/174 /content/drive/MyDrive/brain tumor classification.v1i.yolov8/test/images/y527_jpg.rf.3f9c1027dc930448bcc40384d7d685fe.jpg: 640x640 (no detections), 7.4ms\n",
            "image 101/174 /content/drive/MyDrive/brain tumor classification.v1i.yolov8/test/images/y529_jpg.rf.273dd5d5ea7fb7e8973a9bdf544d23cb.jpg: 640x640 1 tumor, 7.4ms\n",
            "image 102/174 /content/drive/MyDrive/brain tumor classification.v1i.yolov8/test/images/y534_jpg.rf.22ee1e9f0254d8f7b37712bbd4331f4b.jpg: 640x640 1 tumor, 7.4ms\n",
            "image 103/174 /content/drive/MyDrive/brain tumor classification.v1i.yolov8/test/images/y536_jpg.rf.168236c173407764b0d57d34343250ce.jpg: 640x640 (no detections), 7.4ms\n",
            "image 104/174 /content/drive/MyDrive/brain tumor classification.v1i.yolov8/test/images/y53_jpg.rf.27f9223ec843d4c2bd5176b6a8f5389a.jpg: 640x640 1 tumor, 7.4ms\n",
            "image 105/174 /content/drive/MyDrive/brain tumor classification.v1i.yolov8/test/images/y540_jpg.rf.9010a2958205b314d1c7ae15368de008.jpg: 640x640 1 tumor, 7.4ms\n",
            "image 106/174 /content/drive/MyDrive/brain tumor classification.v1i.yolov8/test/images/y542_jpg.rf.da44aa3d649a38a83c8d7fbc2dff4c52.jpg: 640x640 (no detections), 7.4ms\n",
            "image 107/174 /content/drive/MyDrive/brain tumor classification.v1i.yolov8/test/images/y546_jpg.rf.52f92aa820e20ef036fa9a5622176216.jpg: 640x640 (no detections), 7.4ms\n",
            "image 108/174 /content/drive/MyDrive/brain tumor classification.v1i.yolov8/test/images/y553_jpg.rf.47650ed2992d18fdc1223535a3b09eaf.jpg: 640x640 1 tumor, 7.3ms\n",
            "image 109/174 /content/drive/MyDrive/brain tumor classification.v1i.yolov8/test/images/y554_jpg.rf.5fc321eea4decb7835cd5766f76599c1.jpg: 640x640 (no detections), 7.2ms\n",
            "image 110/174 /content/drive/MyDrive/brain tumor classification.v1i.yolov8/test/images/y558_jpg.rf.365a6d955c4b823ddf93a4935d20967a.jpg: 640x640 (no detections), 7.2ms\n",
            "image 111/174 /content/drive/MyDrive/brain tumor classification.v1i.yolov8/test/images/y559_jpg.rf.32e907515e48120977858d7ea6ff7b3a.jpg: 640x640 1 tumor, 7.3ms\n",
            "image 112/174 /content/drive/MyDrive/brain tumor classification.v1i.yolov8/test/images/y560_jpg.rf.0c5faa7c9b4de67b7337b3181c99f69a.jpg: 640x640 1 tumor, 7.5ms\n",
            "image 113/174 /content/drive/MyDrive/brain tumor classification.v1i.yolov8/test/images/y565_jpg.rf.c0a0018a4aed6d2f359cc5d41cf3279c.jpg: 640x640 (no detections), 7.3ms\n",
            "image 114/174 /content/drive/MyDrive/brain tumor classification.v1i.yolov8/test/images/y571_jpg.rf.131e3bb817993702283069b0d8be0494.jpg: 640x640 1 tumor, 7.2ms\n",
            "image 115/174 /content/drive/MyDrive/brain tumor classification.v1i.yolov8/test/images/y580_jpg.rf.9c0b3ba119fb7daa7885486ba9ab14bc.jpg: 640x640 1 tumor, 7.3ms\n",
            "image 116/174 /content/drive/MyDrive/brain tumor classification.v1i.yolov8/test/images/y581_jpg.rf.e34fb7d1c20f6c1f40355f348057319b.jpg: 640x640 (no detections), 7.2ms\n",
            "image 117/174 /content/drive/MyDrive/brain tumor classification.v1i.yolov8/test/images/y582_jpg.rf.7bbb29ec375c11bd6498ebe3e4edf0ac.jpg: 640x640 (no detections), 7.2ms\n",
            "image 118/174 /content/drive/MyDrive/brain tumor classification.v1i.yolov8/test/images/y587_jpg.rf.5d183b8eff6c02bb574243e7e52678a6.jpg: 640x640 1 tumor, 8.2ms\n",
            "image 119/174 /content/drive/MyDrive/brain tumor classification.v1i.yolov8/test/images/y593_jpg.rf.a3e3f1929321629f851e8cdc04c23306.jpg: 640x640 1 tumor, 8.0ms\n",
            "image 120/174 /content/drive/MyDrive/brain tumor classification.v1i.yolov8/test/images/y596_jpg.rf.db3dbc9b47003efc30e7f8d49df7e991.jpg: 640x640 1 tumor, 8.2ms\n",
            "image 121/174 /content/drive/MyDrive/brain tumor classification.v1i.yolov8/test/images/y599_jpg.rf.f67995f26127a50eb88c08557e78c414.jpg: 640x640 (no detections), 11.1ms\n",
            "image 122/174 /content/drive/MyDrive/brain tumor classification.v1i.yolov8/test/images/y600_jpg.rf.d2081c5d64747e46569a789d02e6a0ae.jpg: 640x640 1 tumor, 8.4ms\n",
            "image 123/174 /content/drive/MyDrive/brain tumor classification.v1i.yolov8/test/images/y601_jpg.rf.bd2b8db08f0a4bd39c9741c4854e3439.jpg: 640x640 1 tumor, 7.7ms\n",
            "image 124/174 /content/drive/MyDrive/brain tumor classification.v1i.yolov8/test/images/y602_jpg.rf.96bbc8dd2a0b19659a6487a65171ad9e.jpg: 640x640 1 tumor, 9.0ms\n",
            "image 125/174 /content/drive/MyDrive/brain tumor classification.v1i.yolov8/test/images/y603_jpg.rf.9cccdeb99f440971101f74b6352ca49c.jpg: 640x640 (no detections), 10.1ms\n",
            "image 126/174 /content/drive/MyDrive/brain tumor classification.v1i.yolov8/test/images/y610_jpg.rf.bcb9c231b39b41a9b106e6a1cffe6769.jpg: 640x640 (no detections), 10.3ms\n",
            "image 127/174 /content/drive/MyDrive/brain tumor classification.v1i.yolov8/test/images/y616_jpg.rf.ae1043a23a915b943a42feed43dd9dcb.jpg: 640x640 (no detections), 10.4ms\n",
            "image 128/174 /content/drive/MyDrive/brain tumor classification.v1i.yolov8/test/images/y618_jpg.rf.8454c843087f12e80cdb7d4afa9b2888.jpg: 640x640 1 tumor, 7.8ms\n",
            "image 129/174 /content/drive/MyDrive/brain tumor classification.v1i.yolov8/test/images/y625_jpg.rf.93bf7ccdaeab61cb6ed908438c749c4d.jpg: 640x640 1 tumor, 7.3ms\n",
            "image 130/174 /content/drive/MyDrive/brain tumor classification.v1i.yolov8/test/images/y626_jpg.rf.2a1856d4946b20d3821b9ae81177ee8f.jpg: 640x640 1 tumor, 7.3ms\n",
            "image 131/174 /content/drive/MyDrive/brain tumor classification.v1i.yolov8/test/images/y628_jpg.rf.fa9d9db555d56ca930c3aefbbaf69e64.jpg: 640x640 1 tumor, 7.2ms\n",
            "image 132/174 /content/drive/MyDrive/brain tumor classification.v1i.yolov8/test/images/y630_jpg.rf.cc208bd08df5f932359f423ba7776ba5.jpg: 640x640 (no detections), 7.2ms\n",
            "image 133/174 /content/drive/MyDrive/brain tumor classification.v1i.yolov8/test/images/y632_jpg.rf.2b11cc49527c5e3dafa4828a6c8d7e88.jpg: 640x640 2 tumors, 7.3ms\n",
            "image 134/174 /content/drive/MyDrive/brain tumor classification.v1i.yolov8/test/images/y633_jpg.rf.c209c9b58f84f4aba500d2d5d13e404e.jpg: 640x640 1 tumor, 7.4ms\n",
            "image 135/174 /content/drive/MyDrive/brain tumor classification.v1i.yolov8/test/images/y634_jpg.rf.6202a20e8e190c563d37d40d269f5f86.jpg: 640x640 1 tumor, 7.3ms\n",
            "image 136/174 /content/drive/MyDrive/brain tumor classification.v1i.yolov8/test/images/y637_jpg.rf.e7a71928ae9127d5019d81db2f0be692.jpg: 640x640 1 tumor, 10.0ms\n",
            "image 137/174 /content/drive/MyDrive/brain tumor classification.v1i.yolov8/test/images/y63_jpg.rf.b41f8f55d115d71a58dab1c779056947.jpg: 640x640 1 tumor, 12.3ms\n",
            "image 138/174 /content/drive/MyDrive/brain tumor classification.v1i.yolov8/test/images/y643_jpg.rf.5932a55b108264e61adc794b9b08643e.jpg: 640x640 1 tumor, 7.3ms\n",
            "image 139/174 /content/drive/MyDrive/brain tumor classification.v1i.yolov8/test/images/y645_jpg.rf.65b0f211624d41a54bbde2c58ec8ae4e.jpg: 640x640 1 tumor, 13.2ms\n",
            "image 140/174 /content/drive/MyDrive/brain tumor classification.v1i.yolov8/test/images/y647_jpg.rf.e87b4792441bfdd543ff575d97774c8b.jpg: 640x640 1 tumor, 7.3ms\n",
            "image 141/174 /content/drive/MyDrive/brain tumor classification.v1i.yolov8/test/images/y651_jpg.rf.bdce03a6b097a53ddde006df1fad831f.jpg: 640x640 2 tumors, 10.0ms\n",
            "image 142/174 /content/drive/MyDrive/brain tumor classification.v1i.yolov8/test/images/y657_jpg.rf.fd35cc3da0c423d334e73629c1971ed6.jpg: 640x640 1 tumor, 7.7ms\n",
            "image 143/174 /content/drive/MyDrive/brain tumor classification.v1i.yolov8/test/images/y669_jpg.rf.0691d3bce14b1a2e82f97e03e6ddb8e7.jpg: 640x640 1 tumor, 9.0ms\n",
            "image 144/174 /content/drive/MyDrive/brain tumor classification.v1i.yolov8/test/images/y674_jpg.rf.40ae7020606355f659aa8a32570a4ecd.jpg: 640x640 1 tumor, 7.2ms\n",
            "image 145/174 /content/drive/MyDrive/brain tumor classification.v1i.yolov8/test/images/y685_jpg.rf.7a25141aa1324529ae84a366e28d6e6e.jpg: 640x640 1 tumor, 7.4ms\n",
            "image 146/174 /content/drive/MyDrive/brain tumor classification.v1i.yolov8/test/images/y690_jpg.rf.5f1ae2971a71d0cbc4a91a68734d9742.jpg: 640x640 1 tumor, 7.2ms\n",
            "image 147/174 /content/drive/MyDrive/brain tumor classification.v1i.yolov8/test/images/y692_jpg.rf.c0fd9f3f28957682b4f4df63d68d239d.jpg: 640x640 1 tumor, 7.7ms\n",
            "image 148/174 /content/drive/MyDrive/brain tumor classification.v1i.yolov8/test/images/y694_jpg.rf.324364b76cc1f5642bbb4c6866eec85d.jpg: 640x640 (no detections), 7.2ms\n",
            "image 149/174 /content/drive/MyDrive/brain tumor classification.v1i.yolov8/test/images/y700_jpg.rf.9a9d8d81e81be88400b7d564258a49ac.jpg: 640x640 1 tumor, 7.2ms\n",
            "image 150/174 /content/drive/MyDrive/brain tumor classification.v1i.yolov8/test/images/y703_jpg.rf.6d7232915e61f63428611fc85b14bcc1.jpg: 640x640 1 tumor, 7.2ms\n",
            "image 151/174 /content/drive/MyDrive/brain tumor classification.v1i.yolov8/test/images/y711_jpg.rf.e14b1f6dd6855a35eb4400ae16c2fd91.jpg: 640x640 1 tumor, 7.2ms\n",
            "image 152/174 /content/drive/MyDrive/brain tumor classification.v1i.yolov8/test/images/y712_jpg.rf.22cce04c8b34ea474c273a645bf5950c.jpg: 640x640 1 tumor, 7.2ms\n",
            "image 153/174 /content/drive/MyDrive/brain tumor classification.v1i.yolov8/test/images/y713_jpg.rf.bdfb38675b27b44f9b75fb2fbb2d5657.jpg: 640x640 1 tumor, 7.2ms\n",
            "image 154/174 /content/drive/MyDrive/brain tumor classification.v1i.yolov8/test/images/y717_jpg.rf.ee2682ccc78a64d1c337af7332af0d0f.jpg: 640x640 1 tumor, 7.6ms\n",
            "image 155/174 /content/drive/MyDrive/brain tumor classification.v1i.yolov8/test/images/y721_jpg.rf.3c2f19054578a1a43581e03497850aad.jpg: 640x640 1 tumor, 7.0ms\n",
            "image 156/174 /content/drive/MyDrive/brain tumor classification.v1i.yolov8/test/images/y725_jpg.rf.65216cb50322f560d76fbe9c25a68ac6.jpg: 640x640 1 tumor, 6.9ms\n",
            "image 157/174 /content/drive/MyDrive/brain tumor classification.v1i.yolov8/test/images/y740_jpg.rf.d21763fe58fb1ab15c309eb36dc18158.jpg: 640x640 2 tumors, 6.9ms\n",
            "image 158/174 /content/drive/MyDrive/brain tumor classification.v1i.yolov8/test/images/y749_jpg.rf.b6816b2e9270da21ae3f7c3a06e204f8.jpg: 640x640 1 tumor, 6.9ms\n",
            "image 159/174 /content/drive/MyDrive/brain tumor classification.v1i.yolov8/test/images/y760_jpg.rf.5f3cfcf84ecc025e0a7598ec4bd2781e.jpg: 640x640 (no detections), 6.9ms\n",
            "image 160/174 /content/drive/MyDrive/brain tumor classification.v1i.yolov8/test/images/y765_jpg.rf.0a842c41f17b5da913a59f456d06bfa0.jpg: 640x640 1 tumor, 6.9ms\n",
            "image 161/174 /content/drive/MyDrive/brain tumor classification.v1i.yolov8/test/images/y766_jpg.rf.8917d2bc22dcba48e762ce29f7592c87.jpg: 640x640 1 tumor, 6.9ms\n",
            "image 162/174 /content/drive/MyDrive/brain tumor classification.v1i.yolov8/test/images/y771_jpg.rf.13567a772e178754cd05b0d9089679d0.jpg: 640x640 1 tumor, 7.5ms\n",
            "image 163/174 /content/drive/MyDrive/brain tumor classification.v1i.yolov8/test/images/y772_jpg.rf.4e8612326603f0889e698d6303c5ed13.jpg: 640x640 (no detections), 6.9ms\n",
            "image 164/174 /content/drive/MyDrive/brain tumor classification.v1i.yolov8/test/images/y778_jpg.rf.5ebfe6ae408a923c58cfc497c78936d7.jpg: 640x640 1 tumor, 7.0ms\n",
            "image 165/174 /content/drive/MyDrive/brain tumor classification.v1i.yolov8/test/images/y786_jpg.rf.108402507a3af83755bb11a6d0eac6b8.jpg: 640x640 1 tumor, 7.5ms\n",
            "image 166/174 /content/drive/MyDrive/brain tumor classification.v1i.yolov8/test/images/y787_jpg.rf.aa08cbf4276b7b808fd0175e8df366d9.jpg: 640x640 1 tumor, 10.9ms\n",
            "image 167/174 /content/drive/MyDrive/brain tumor classification.v1i.yolov8/test/images/y794_jpg.rf.1205d0dba799873d88133b07e3ea7f0e.jpg: 640x640 1 tumor, 11.3ms\n",
            "image 168/174 /content/drive/MyDrive/brain tumor classification.v1i.yolov8/test/images/y795_jpg.rf.3254cee63be5e2a0fbe59873e662ce9b.jpg: 640x640 1 tumor, 9.9ms\n",
            "image 169/174 /content/drive/MyDrive/brain tumor classification.v1i.yolov8/test/images/y798_jpg.rf.a56f8b798c223cbf7e1a1f1a55564fac.jpg: 640x640 1 tumor, 10.6ms\n",
            "image 170/174 /content/drive/MyDrive/brain tumor classification.v1i.yolov8/test/images/y799_jpg.rf.e1c841e2458d926fe8f0cf692f8a9461.jpg: 640x640 1 tumor, 10.7ms\n",
            "image 171/174 /content/drive/MyDrive/brain tumor classification.v1i.yolov8/test/images/y79_jpg.rf.fa940aba47365957ad5217a790541a95.jpg: 640x640 1 tumor, 9.6ms\n",
            "image 172/174 /content/drive/MyDrive/brain tumor classification.v1i.yolov8/test/images/y7_jpg.rf.9259611e470d3a942524df7afd12cb82.jpg: 640x640 2 tumors, 10.6ms\n",
            "image 173/174 /content/drive/MyDrive/brain tumor classification.v1i.yolov8/test/images/y80_jpg.rf.7249381a70ace10044040a29f40f1033.jpg: 640x640 1 tumor, 10.4ms\n",
            "image 174/174 /content/drive/MyDrive/brain tumor classification.v1i.yolov8/test/images/y82_jpg.rf.1e244934688b23273129b3d36e07ec10.jpg: 640x640 1 tumor, 7.0ms\n",
            "Speed: 2.1ms preprocess, 8.3ms inference, 1.4ms postprocess per image at shape (1, 3, 640, 640)\n",
            "Results saved to \u001b[1mruns/detect/brain_tumor_nano3\u001b[0m\n"
          ]
        }
      ]
    },
    {
      "cell_type": "code",
      "source": [
        "print(\"Exporting the model...\")\n",
        "model.export(format='onnx')"
      ],
      "metadata": {
        "colab": {
          "base_uri": "https://localhost:8080/",
          "height": 871
        },
        "id": "veuNSvLieslP",
        "outputId": "6c065700-380e-408d-95c8-7073223fde63"
      },
      "execution_count": null,
      "outputs": [
        {
          "output_type": "stream",
          "name": "stdout",
          "text": [
            "Exporting the model...\n",
            "Ultralytics 8.3.34 🚀 Python-3.10.12 torch-2.5.1+cu121 CPU (Intel Xeon 2.00GHz)\n",
            "\n",
            "\u001b[34m\u001b[1mPyTorch:\u001b[0m starting from 'runs/detect/brain_tumor_nano/weights/best.pt' with input shape (1, 3, 640, 640) BCHW and output shape(s) (1, 6, 8400) (6.0 MB)\n",
            "\u001b[31m\u001b[1mrequirements:\u001b[0m Ultralytics requirements ['onnx>=1.12.0', 'onnxslim', 'onnxruntime-gpu'] not found, attempting AutoUpdate...\n",
            "Collecting onnx>=1.12.0\n",
            "  Downloading onnx-1.17.0-cp310-cp310-manylinux_2_17_x86_64.manylinux2014_x86_64.whl.metadata (16 kB)\n",
            "Collecting onnxslim\n",
            "  Downloading onnxslim-0.1.39-py3-none-any.whl.metadata (2.9 kB)\n",
            "Collecting onnxruntime-gpu\n",
            "  Downloading onnxruntime_gpu-1.20.0-cp310-cp310-manylinux_2_27_x86_64.manylinux_2_28_x86_64.whl.metadata (4.4 kB)\n",
            "Requirement already satisfied: numpy>=1.20 in /usr/local/lib/python3.10/dist-packages (from onnx>=1.12.0) (1.26.4)\n",
            "Requirement already satisfied: protobuf>=3.20.2 in /usr/local/lib/python3.10/dist-packages (from onnx>=1.12.0) (4.25.5)\n",
            "Requirement already satisfied: sympy in /usr/local/lib/python3.10/dist-packages (from onnxslim) (1.13.1)\n",
            "Requirement already satisfied: packaging in /usr/local/lib/python3.10/dist-packages (from onnxslim) (24.2)\n",
            "Collecting coloredlogs (from onnxruntime-gpu)\n",
            "  Downloading coloredlogs-15.0.1-py2.py3-none-any.whl.metadata (12 kB)\n",
            "Requirement already satisfied: flatbuffers in /usr/local/lib/python3.10/dist-packages (from onnxruntime-gpu) (24.3.25)\n",
            "Collecting humanfriendly>=9.1 (from coloredlogs->onnxruntime-gpu)\n",
            "  Downloading humanfriendly-10.0-py2.py3-none-any.whl.metadata (9.2 kB)\n",
            "Requirement already satisfied: mpmath<1.4,>=1.1.0 in /usr/local/lib/python3.10/dist-packages (from sympy->onnxslim) (1.3.0)\n",
            "Downloading onnx-1.17.0-cp310-cp310-manylinux_2_17_x86_64.manylinux2014_x86_64.whl (16.0 MB)\n",
            "   ━━━━━━━━━━━━━━━━━━━━━━━━━━━━━━━━━━━━━━━━ 16.0/16.0 MB 168.6 MB/s eta 0:00:00\n",
            "Downloading onnxslim-0.1.39-py3-none-any.whl (141 kB)\n",
            "   ━━━━━━━━━━━━━━━━━━━━━━━━━━━━━━━━━━━━━━━━ 141.8/141.8 kB 183.2 MB/s eta 0:00:00\n",
            "Downloading onnxruntime_gpu-1.20.0-cp310-cp310-manylinux_2_27_x86_64.manylinux_2_28_x86_64.whl (291.5 MB)\n",
            "   ━━━━━━━━━━━━━━━━━━━━━━━━━━━━━━━━━━━━━━━━ 291.5/291.5 MB 131.2 MB/s eta 0:00:00\n",
            "Downloading coloredlogs-15.0.1-py2.py3-none-any.whl (46 kB)\n",
            "   ━━━━━━━━━━━━━━━━━━━━━━━━━━━━━━━━━━━━━━━━ 46.0/46.0 kB 164.6 MB/s eta 0:00:00\n",
            "Downloading humanfriendly-10.0-py2.py3-none-any.whl (86 kB)\n",
            "   ━━━━━━━━━━━━━━━━━━━━━━━━━━━━━━━━━━━━━━━━ 86.8/86.8 kB 161.9 MB/s eta 0:00:00\n",
            "Installing collected packages: onnx, humanfriendly, onnxslim, coloredlogs, onnxruntime-gpu\n",
            "Successfully installed coloredlogs-15.0.1 humanfriendly-10.0 onnx-1.17.0 onnxruntime-gpu-1.20.0 onnxslim-0.1.39\n",
            "\n",
            "\u001b[31m\u001b[1mrequirements:\u001b[0m AutoUpdate success ✅ 21.9s, installed 3 packages: ['onnx>=1.12.0', 'onnxslim', 'onnxruntime-gpu']\n",
            "\u001b[31m\u001b[1mrequirements:\u001b[0m ⚠️ \u001b[1mRestart runtime or rerun command for updates to take effect\u001b[0m\n",
            "\n",
            "\n",
            "\u001b[34m\u001b[1mONNX:\u001b[0m starting export with onnx 1.17.0 opset 19...\n",
            "\u001b[34m\u001b[1mONNX:\u001b[0m slimming with onnxslim 0.1.39...\n",
            "\u001b[34m\u001b[1mONNX:\u001b[0m export success ✅ 23.8s, saved as 'runs/detect/brain_tumor_nano/weights/best.onnx' (11.7 MB)\n",
            "\n",
            "Export complete (25.4s)\n",
            "Results saved to \u001b[1m/content/runs/detect/brain_tumor_nano/weights\u001b[0m\n",
            "Predict:         yolo predict task=detect model=runs/detect/brain_tumor_nano/weights/best.onnx imgsz=640  \n",
            "Validate:        yolo val task=detect model=runs/detect/brain_tumor_nano/weights/best.onnx imgsz=640 data=/content/drive/MyDrive/brain tumor classification.v1i.yolov8/brain_tumor.yaml  \n",
            "Visualize:       https://netron.app\n"
          ]
        },
        {
          "output_type": "execute_result",
          "data": {
            "text/plain": [
              "'runs/detect/brain_tumor_nano/weights/best.onnx'"
            ],
            "application/vnd.google.colaboratory.intrinsic+json": {
              "type": "string"
            }
          },
          "metadata": {},
          "execution_count": 11
        }
      ]
    },
    {
      "cell_type": "code",
      "source": [
        "# Validate the model\n",
        "print(\"Validating the model...\")\n",
        "metrics = model.val()\n",
        "\n",
        "# Print the metrics (such as mAP, precision, recall)\n",
        "print(f\"Validation Results: {metrics}\")\n"
      ],
      "metadata": {
        "colab": {
          "base_uri": "https://localhost:8080/"
        },
        "id": "Q1rQPB-2e0k5",
        "outputId": "902ddc68-3785-475b-9ce8-8e0d659d9d60"
      },
      "execution_count": null,
      "outputs": [
        {
          "output_type": "stream",
          "name": "stdout",
          "text": [
            "Validating the model...\n",
            "Ultralytics 8.3.34 🚀 Python-3.10.12 torch-2.5.1+cu121 CUDA:0 (Tesla T4, 15102MiB)\n"
          ]
        },
        {
          "output_type": "stream",
          "name": "stderr",
          "text": [
            "\u001b[34m\u001b[1mval: \u001b[0mScanning /content/drive/MyDrive/brain tumor classification.v1i.yolov8/valid/labels.cache... 194 images, 29 backgrounds, 0 corrupt: 100%|██████████| 194/194 [00:00<?, ?it/s]\n",
            "                 Class     Images  Instances      Box(P          R      mAP50  mAP50-95): 100%|██████████| 13/13 [00:07<00:00,  1.83it/s]\n"
          ]
        },
        {
          "output_type": "stream",
          "name": "stdout",
          "text": [
            "                   all        194        171      0.836      0.848      0.858      0.726\n",
            "                 tumor        165        171      0.836      0.848      0.858      0.726\n",
            "Speed: 1.2ms preprocess, 5.6ms inference, 0.0ms loss, 5.7ms postprocess per image\n",
            "Results saved to \u001b[1mruns/detect/brain_tumor_nano4\u001b[0m\n",
            "Validation Results: ultralytics.utils.metrics.DetMetrics object with attributes:\n",
            "\n",
            "ap_class_index: array([0])\n",
            "box: ultralytics.utils.metrics.Metric object\n",
            "confusion_matrix: <ultralytics.utils.metrics.ConfusionMatrix object at 0x7884a1013220>\n",
            "curves: ['Precision-Recall(B)', 'F1-Confidence(B)', 'Precision-Confidence(B)', 'Recall-Confidence(B)']\n",
            "curves_results: [[array([          0,    0.001001,    0.002002,    0.003003,    0.004004,    0.005005,    0.006006,    0.007007,    0.008008,    0.009009,     0.01001,    0.011011,    0.012012,    0.013013,    0.014014,    0.015015,    0.016016,    0.017017,    0.018018,    0.019019,     0.02002,    0.021021,    0.022022,    0.023023,\n",
            "          0.024024,    0.025025,    0.026026,    0.027027,    0.028028,    0.029029,     0.03003,    0.031031,    0.032032,    0.033033,    0.034034,    0.035035,    0.036036,    0.037037,    0.038038,    0.039039,     0.04004,    0.041041,    0.042042,    0.043043,    0.044044,    0.045045,    0.046046,    0.047047,\n",
            "          0.048048,    0.049049,     0.05005,    0.051051,    0.052052,    0.053053,    0.054054,    0.055055,    0.056056,    0.057057,    0.058058,    0.059059,     0.06006,    0.061061,    0.062062,    0.063063,    0.064064,    0.065065,    0.066066,    0.067067,    0.068068,    0.069069,     0.07007,    0.071071,\n",
            "          0.072072,    0.073073,    0.074074,    0.075075,    0.076076,    0.077077,    0.078078,    0.079079,     0.08008,    0.081081,    0.082082,    0.083083,    0.084084,    0.085085,    0.086086,    0.087087,    0.088088,    0.089089,     0.09009,    0.091091,    0.092092,    0.093093,    0.094094,    0.095095,\n",
            "          0.096096,    0.097097,    0.098098,    0.099099,      0.1001,      0.1011,      0.1021,      0.1031,      0.1041,     0.10511,     0.10611,     0.10711,     0.10811,     0.10911,     0.11011,     0.11111,     0.11211,     0.11311,     0.11411,     0.11512,     0.11612,     0.11712,     0.11812,     0.11912,\n",
            "           0.12012,     0.12112,     0.12212,     0.12312,     0.12412,     0.12513,     0.12613,     0.12713,     0.12813,     0.12913,     0.13013,     0.13113,     0.13213,     0.13313,     0.13413,     0.13514,     0.13614,     0.13714,     0.13814,     0.13914,     0.14014,     0.14114,     0.14214,     0.14314,\n",
            "           0.14414,     0.14515,     0.14615,     0.14715,     0.14815,     0.14915,     0.15015,     0.15115,     0.15215,     0.15315,     0.15415,     0.15516,     0.15616,     0.15716,     0.15816,     0.15916,     0.16016,     0.16116,     0.16216,     0.16316,     0.16416,     0.16517,     0.16617,     0.16717,\n",
            "           0.16817,     0.16917,     0.17017,     0.17117,     0.17217,     0.17317,     0.17417,     0.17518,     0.17618,     0.17718,     0.17818,     0.17918,     0.18018,     0.18118,     0.18218,     0.18318,     0.18418,     0.18519,     0.18619,     0.18719,     0.18819,     0.18919,     0.19019,     0.19119,\n",
            "           0.19219,     0.19319,     0.19419,      0.1952,      0.1962,      0.1972,      0.1982,      0.1992,      0.2002,      0.2012,      0.2022,      0.2032,      0.2042,     0.20521,     0.20621,     0.20721,     0.20821,     0.20921,     0.21021,     0.21121,     0.21221,     0.21321,     0.21421,     0.21522,\n",
            "           0.21622,     0.21722,     0.21822,     0.21922,     0.22022,     0.22122,     0.22222,     0.22322,     0.22422,     0.22523,     0.22623,     0.22723,     0.22823,     0.22923,     0.23023,     0.23123,     0.23223,     0.23323,     0.23423,     0.23524,     0.23624,     0.23724,     0.23824,     0.23924,\n",
            "           0.24024,     0.24124,     0.24224,     0.24324,     0.24424,     0.24525,     0.24625,     0.24725,     0.24825,     0.24925,     0.25025,     0.25125,     0.25225,     0.25325,     0.25425,     0.25526,     0.25626,     0.25726,     0.25826,     0.25926,     0.26026,     0.26126,     0.26226,     0.26326,\n",
            "           0.26426,     0.26527,     0.26627,     0.26727,     0.26827,     0.26927,     0.27027,     0.27127,     0.27227,     0.27327,     0.27427,     0.27528,     0.27628,     0.27728,     0.27828,     0.27928,     0.28028,     0.28128,     0.28228,     0.28328,     0.28428,     0.28529,     0.28629,     0.28729,\n",
            "           0.28829,     0.28929,     0.29029,     0.29129,     0.29229,     0.29329,     0.29429,      0.2953,      0.2963,      0.2973,      0.2983,      0.2993,      0.3003,      0.3013,      0.3023,      0.3033,      0.3043,     0.30531,     0.30631,     0.30731,     0.30831,     0.30931,     0.31031,     0.31131,\n",
            "           0.31231,     0.31331,     0.31431,     0.31532,     0.31632,     0.31732,     0.31832,     0.31932,     0.32032,     0.32132,     0.32232,     0.32332,     0.32432,     0.32533,     0.32633,     0.32733,     0.32833,     0.32933,     0.33033,     0.33133,     0.33233,     0.33333,     0.33433,     0.33534,\n",
            "           0.33634,     0.33734,     0.33834,     0.33934,     0.34034,     0.34134,     0.34234,     0.34334,     0.34434,     0.34535,     0.34635,     0.34735,     0.34835,     0.34935,     0.35035,     0.35135,     0.35235,     0.35335,     0.35435,     0.35536,     0.35636,     0.35736,     0.35836,     0.35936,\n",
            "           0.36036,     0.36136,     0.36236,     0.36336,     0.36436,     0.36537,     0.36637,     0.36737,     0.36837,     0.36937,     0.37037,     0.37137,     0.37237,     0.37337,     0.37437,     0.37538,     0.37638,     0.37738,     0.37838,     0.37938,     0.38038,     0.38138,     0.38238,     0.38338,\n",
            "           0.38438,     0.38539,     0.38639,     0.38739,     0.38839,     0.38939,     0.39039,     0.39139,     0.39239,     0.39339,     0.39439,      0.3954,      0.3964,      0.3974,      0.3984,      0.3994,      0.4004,      0.4014,      0.4024,      0.4034,      0.4044,     0.40541,     0.40641,     0.40741,\n",
            "           0.40841,     0.40941,     0.41041,     0.41141,     0.41241,     0.41341,     0.41441,     0.41542,     0.41642,     0.41742,     0.41842,     0.41942,     0.42042,     0.42142,     0.42242,     0.42342,     0.42442,     0.42543,     0.42643,     0.42743,     0.42843,     0.42943,     0.43043,     0.43143,\n",
            "           0.43243,     0.43343,     0.43443,     0.43544,     0.43644,     0.43744,     0.43844,     0.43944,     0.44044,     0.44144,     0.44244,     0.44344,     0.44444,     0.44545,     0.44645,     0.44745,     0.44845,     0.44945,     0.45045,     0.45145,     0.45245,     0.45345,     0.45445,     0.45546,\n",
            "           0.45646,     0.45746,     0.45846,     0.45946,     0.46046,     0.46146,     0.46246,     0.46346,     0.46446,     0.46547,     0.46647,     0.46747,     0.46847,     0.46947,     0.47047,     0.47147,     0.47247,     0.47347,     0.47447,     0.47548,     0.47648,     0.47748,     0.47848,     0.47948,\n",
            "           0.48048,     0.48148,     0.48248,     0.48348,     0.48448,     0.48549,     0.48649,     0.48749,     0.48849,     0.48949,     0.49049,     0.49149,     0.49249,     0.49349,     0.49449,      0.4955,      0.4965,      0.4975,      0.4985,      0.4995,      0.5005,      0.5015,      0.5025,      0.5035,\n",
            "            0.5045,     0.50551,     0.50651,     0.50751,     0.50851,     0.50951,     0.51051,     0.51151,     0.51251,     0.51351,     0.51451,     0.51552,     0.51652,     0.51752,     0.51852,     0.51952,     0.52052,     0.52152,     0.52252,     0.52352,     0.52452,     0.52553,     0.52653,     0.52753,\n",
            "           0.52853,     0.52953,     0.53053,     0.53153,     0.53253,     0.53353,     0.53453,     0.53554,     0.53654,     0.53754,     0.53854,     0.53954,     0.54054,     0.54154,     0.54254,     0.54354,     0.54454,     0.54555,     0.54655,     0.54755,     0.54855,     0.54955,     0.55055,     0.55155,\n",
            "           0.55255,     0.55355,     0.55455,     0.55556,     0.55656,     0.55756,     0.55856,     0.55956,     0.56056,     0.56156,     0.56256,     0.56356,     0.56456,     0.56557,     0.56657,     0.56757,     0.56857,     0.56957,     0.57057,     0.57157,     0.57257,     0.57357,     0.57457,     0.57558,\n",
            "           0.57658,     0.57758,     0.57858,     0.57958,     0.58058,     0.58158,     0.58258,     0.58358,     0.58458,     0.58559,     0.58659,     0.58759,     0.58859,     0.58959,     0.59059,     0.59159,     0.59259,     0.59359,     0.59459,      0.5956,      0.5966,      0.5976,      0.5986,      0.5996,\n",
            "            0.6006,      0.6016,      0.6026,      0.6036,      0.6046,     0.60561,     0.60661,     0.60761,     0.60861,     0.60961,     0.61061,     0.61161,     0.61261,     0.61361,     0.61461,     0.61562,     0.61662,     0.61762,     0.61862,     0.61962,     0.62062,     0.62162,     0.62262,     0.62362,\n",
            "           0.62462,     0.62563,     0.62663,     0.62763,     0.62863,     0.62963,     0.63063,     0.63163,     0.63263,     0.63363,     0.63463,     0.63564,     0.63664,     0.63764,     0.63864,     0.63964,     0.64064,     0.64164,     0.64264,     0.64364,     0.64464,     0.64565,     0.64665,     0.64765,\n",
            "           0.64865,     0.64965,     0.65065,     0.65165,     0.65265,     0.65365,     0.65465,     0.65566,     0.65666,     0.65766,     0.65866,     0.65966,     0.66066,     0.66166,     0.66266,     0.66366,     0.66466,     0.66567,     0.66667,     0.66767,     0.66867,     0.66967,     0.67067,     0.67167,\n",
            "           0.67267,     0.67367,     0.67467,     0.67568,     0.67668,     0.67768,     0.67868,     0.67968,     0.68068,     0.68168,     0.68268,     0.68368,     0.68468,     0.68569,     0.68669,     0.68769,     0.68869,     0.68969,     0.69069,     0.69169,     0.69269,     0.69369,     0.69469,      0.6957,\n",
            "            0.6967,      0.6977,      0.6987,      0.6997,      0.7007,      0.7017,      0.7027,      0.7037,      0.7047,     0.70571,     0.70671,     0.70771,     0.70871,     0.70971,     0.71071,     0.71171,     0.71271,     0.71371,     0.71471,     0.71572,     0.71672,     0.71772,     0.71872,     0.71972,\n",
            "           0.72072,     0.72172,     0.72272,     0.72372,     0.72472,     0.72573,     0.72673,     0.72773,     0.72873,     0.72973,     0.73073,     0.73173,     0.73273,     0.73373,     0.73473,     0.73574,     0.73674,     0.73774,     0.73874,     0.73974,     0.74074,     0.74174,     0.74274,     0.74374,\n",
            "           0.74474,     0.74575,     0.74675,     0.74775,     0.74875,     0.74975,     0.75075,     0.75175,     0.75275,     0.75375,     0.75475,     0.75576,     0.75676,     0.75776,     0.75876,     0.75976,     0.76076,     0.76176,     0.76276,     0.76376,     0.76476,     0.76577,     0.76677,     0.76777,\n",
            "           0.76877,     0.76977,     0.77077,     0.77177,     0.77277,     0.77377,     0.77477,     0.77578,     0.77678,     0.77778,     0.77878,     0.77978,     0.78078,     0.78178,     0.78278,     0.78378,     0.78478,     0.78579,     0.78679,     0.78779,     0.78879,     0.78979,     0.79079,     0.79179,\n",
            "           0.79279,     0.79379,     0.79479,      0.7958,      0.7968,      0.7978,      0.7988,      0.7998,      0.8008,      0.8018,      0.8028,      0.8038,      0.8048,     0.80581,     0.80681,     0.80781,     0.80881,     0.80981,     0.81081,     0.81181,     0.81281,     0.81381,     0.81481,     0.81582,\n",
            "           0.81682,     0.81782,     0.81882,     0.81982,     0.82082,     0.82182,     0.82282,     0.82382,     0.82482,     0.82583,     0.82683,     0.82783,     0.82883,     0.82983,     0.83083,     0.83183,     0.83283,     0.83383,     0.83483,     0.83584,     0.83684,     0.83784,     0.83884,     0.83984,\n",
            "           0.84084,     0.84184,     0.84284,     0.84384,     0.84484,     0.84585,     0.84685,     0.84785,     0.84885,     0.84985,     0.85085,     0.85185,     0.85285,     0.85385,     0.85485,     0.85586,     0.85686,     0.85786,     0.85886,     0.85986,     0.86086,     0.86186,     0.86286,     0.86386,\n",
            "           0.86486,     0.86587,     0.86687,     0.86787,     0.86887,     0.86987,     0.87087,     0.87187,     0.87287,     0.87387,     0.87487,     0.87588,     0.87688,     0.87788,     0.87888,     0.87988,     0.88088,     0.88188,     0.88288,     0.88388,     0.88488,     0.88589,     0.88689,     0.88789,\n",
            "           0.88889,     0.88989,     0.89089,     0.89189,     0.89289,     0.89389,     0.89489,      0.8959,      0.8969,      0.8979,      0.8989,      0.8999,      0.9009,      0.9019,      0.9029,      0.9039,      0.9049,     0.90591,     0.90691,     0.90791,     0.90891,     0.90991,     0.91091,     0.91191,\n",
            "           0.91291,     0.91391,     0.91491,     0.91592,     0.91692,     0.91792,     0.91892,     0.91992,     0.92092,     0.92192,     0.92292,     0.92392,     0.92492,     0.92593,     0.92693,     0.92793,     0.92893,     0.92993,     0.93093,     0.93193,     0.93293,     0.93393,     0.93493,     0.93594,\n",
            "           0.93694,     0.93794,     0.93894,     0.93994,     0.94094,     0.94194,     0.94294,     0.94394,     0.94494,     0.94595,     0.94695,     0.94795,     0.94895,     0.94995,     0.95095,     0.95195,     0.95295,     0.95395,     0.95495,     0.95596,     0.95696,     0.95796,     0.95896,     0.95996,\n",
            "           0.96096,     0.96196,     0.96296,     0.96396,     0.96496,     0.96597,     0.96697,     0.96797,     0.96897,     0.96997,     0.97097,     0.97197,     0.97297,     0.97397,     0.97497,     0.97598,     0.97698,     0.97798,     0.97898,     0.97998,     0.98098,     0.98198,     0.98298,     0.98398,\n",
            "           0.98498,     0.98599,     0.98699,     0.98799,     0.98899,     0.98999,     0.99099,     0.99199,     0.99299,     0.99399,     0.99499,       0.996,       0.997,       0.998,       0.999,           1]), array([[          1,           1,           1,           1,           1,           1,           1,           1,           1,           1,           1,           1,           1,           1,           1,           1,           1,           1,           1,           1,           1,           1,           1,\n",
            "                  1,           1,           1,           1,           1,           1,           1,     0.94737,     0.94737,     0.94737,     0.94737,     0.94737,     0.94737,     0.94737,     0.94737,     0.94737,     0.94737,     0.94737,     0.94737,     0.94737,     0.94737,     0.94737,     0.94737,\n",
            "            0.94737,     0.94737,     0.94737,     0.94737,     0.94737,     0.94737,     0.94737,     0.94737,     0.94737,     0.94737,     0.94737,     0.94737,     0.94737,     0.94737,     0.94737,     0.94737,     0.94737,     0.94737,     0.94737,     0.94737,     0.94737,     0.94737,     0.94737,\n",
            "            0.94737,     0.94737,     0.94737,     0.94737,     0.94737,     0.94737,     0.94737,     0.94737,     0.94737,     0.94737,     0.94737,     0.94737,     0.94737,     0.94737,     0.94737,     0.94737,     0.94737,     0.94737,     0.94737,     0.94737,     0.94737,     0.94737,     0.94737,\n",
            "            0.94737,     0.94737,     0.94737,     0.94737,     0.94737,     0.94737,     0.94737,     0.94737,     0.94737,     0.94737,     0.94737,     0.94737,     0.94737,     0.94737,     0.92593,     0.92593,     0.92593,     0.92593,     0.92593,     0.92593,     0.92593,     0.92593,     0.92593,\n",
            "            0.92593,     0.92593,     0.92593,     0.92593,     0.92593,     0.92593,     0.92593,     0.92593,     0.92593,     0.92593,     0.92593,     0.92593,     0.92593,     0.92593,     0.92593,     0.92593,     0.92593,     0.92593,     0.92593,     0.92593,     0.92593,     0.92593,     0.92593,\n",
            "            0.92593,     0.92593,     0.92593,     0.92593,     0.92593,     0.92593,     0.92593,     0.92593,     0.92593,        0.92,        0.92,        0.92,        0.92,        0.92,        0.92,        0.92,        0.92,        0.92,        0.92,        0.92,        0.92,        0.92,        0.92,\n",
            "               0.92,        0.92,        0.92,        0.92,        0.92,        0.92,        0.92,        0.92,        0.92,        0.92,        0.92,        0.92,        0.92,        0.92,        0.92,        0.92,        0.92,        0.92,        0.92,        0.92,        0.92,        0.92,        0.92,\n",
            "               0.92,        0.92,        0.92,        0.92,        0.92,        0.92,        0.92,        0.92,        0.92,        0.92,        0.92,        0.92,        0.92,        0.92,        0.92,        0.92,        0.92,        0.92,        0.92,        0.92,        0.92,        0.92,        0.92,\n",
            "               0.92,        0.92,        0.92,        0.92,        0.92,        0.92,        0.92,        0.92,        0.92,        0.92,        0.92,        0.92,        0.92,        0.92,        0.92,        0.92,        0.92,        0.92,        0.92,        0.92,        0.92,        0.92,        0.92,\n",
            "               0.92,        0.92,        0.92,        0.92,        0.92,        0.92,        0.92,        0.92,        0.92,        0.92,        0.92,        0.92,        0.92,        0.92,        0.92,        0.92,        0.92,        0.92,        0.92,        0.92,        0.92,        0.92,        0.92,\n",
            "               0.92,        0.92,        0.92,        0.92,        0.92,        0.92,        0.92,        0.92,        0.92,        0.92,        0.92,        0.92,        0.92,        0.92,        0.92,        0.92,     0.90566,     0.90566,     0.90566,     0.90566,     0.90566,     0.90566,     0.90566,\n",
            "            0.90566,     0.90566,     0.90566,     0.90566,     0.90566,     0.90385,     0.90385,     0.90385,     0.90385,     0.90385,     0.90385,     0.90385,     0.90385,     0.90385,     0.90385,     0.90385,     0.90385,     0.90385,     0.90385,     0.90385,     0.90385,     0.90385,     0.90385,\n",
            "            0.90385,     0.90385,     0.90385,     0.90385,     0.90385,     0.90385,     0.90385,     0.90385,     0.90385,     0.90385,     0.90385,     0.90385,     0.90385,     0.90385,     0.90385,     0.90385,     0.90385,     0.90385,     0.90385,     0.90385,     0.90385,     0.90385,     0.90385,\n",
            "            0.90385,     0.90385,     0.90385,     0.90385,     0.90385,     0.90385,     0.90385,     0.90385,     0.90385,     0.90385,     0.90385,     0.90385,     0.90385,     0.90385,     0.90385,     0.90385,     0.90385,     0.90385,     0.90385,     0.90385,     0.90385,     0.90385,     0.90385,\n",
            "            0.90385,     0.90385,     0.90385,     0.90385,     0.90385,     0.90385,     0.90385,     0.90385,     0.90385,     0.90385,     0.90385,     0.90385,     0.90385,     0.90385,     0.90385,     0.90385,     0.90385,     0.90385,     0.90385,     0.90385,     0.90385,     0.90385,     0.90385,\n",
            "            0.90385,     0.90385,     0.90385,     0.90385,     0.90385,     0.90385,     0.90385,     0.90385,     0.90385,     0.90385,     0.90385,     0.90385,     0.90385,     0.90385,     0.90385,     0.90385,     0.90385,     0.90385,     0.90385,     0.90385,     0.90385,     0.90385,     0.90385,\n",
            "            0.90385,     0.90385,     0.90385,     0.90385,     0.90385,     0.90385,     0.90385,     0.90385,     0.90385,     0.90385,     0.90385,     0.90385,     0.90385,     0.90385,     0.90385,     0.90385,     0.90385,     0.90385,     0.90385,     0.90385,     0.90385,     0.90385,     0.90385,\n",
            "            0.90385,     0.90385,     0.90385,     0.90385,     0.90385,     0.90385,     0.90385,     0.90385,     0.90385,     0.90385,     0.90385,     0.90385,     0.90385,     0.90385,     0.90385,     0.90385,     0.90385,     0.90385,     0.90385,     0.90385,     0.90385,     0.90385,     0.90385,\n",
            "            0.90385,     0.90385,     0.90385,     0.90385,     0.90385,     0.90385,     0.90385,     0.90385,     0.90385,     0.90385,     0.90385,     0.90385,     0.90385,     0.90385,     0.90385,     0.90385,     0.90385,     0.90385,     0.90385,     0.90385,     0.90385,     0.90385,     0.90385,\n",
            "            0.90385,     0.90385,     0.90385,     0.90385,     0.90385,     0.90385,     0.90385,     0.90385,     0.90385,     0.90385,     0.90385,     0.90385,     0.90385,     0.90385,     0.90385,     0.90385,     0.90385,     0.90385,     0.90385,     0.90385,     0.90385,     0.90385,     0.90385,\n",
            "            0.90385,     0.90385,     0.90385,     0.90385,     0.90385,     0.90385,     0.90385,     0.90385,     0.90385,     0.90385,     0.90385,     0.90385,     0.90385,     0.90385,     0.90385,     0.90385,     0.90385,     0.90385,     0.90385,     0.90385,     0.90385,     0.90385,     0.90385,\n",
            "            0.90385,     0.90385,     0.90385,     0.90385,     0.90385,     0.90385,     0.90385,     0.90385,     0.90385,     0.90385,     0.90385,     0.90385,     0.90385,     0.90385,     0.90385,     0.90385,     0.90385,     0.90385,     0.90385,     0.90385,     0.90385,     0.90385,     0.90385,\n",
            "            0.90385,     0.90385,     0.90385,     0.90385,     0.90385,     0.90385,     0.90385,     0.90385,     0.90385,     0.90385,     0.90385,     0.90385,     0.90385,     0.90385,     0.90385,     0.90385,     0.90385,     0.90385,     0.90385,     0.90385,     0.90385,         0.9,         0.9,\n",
            "                0.9,         0.9,         0.9,         0.9,         0.9,         0.9,         0.9,         0.9,         0.9,         0.9,         0.9,         0.9,         0.9,         0.9,         0.9,         0.9,         0.9,         0.9,         0.9,         0.9,         0.9,         0.9,         0.9,\n",
            "                0.9,         0.9,         0.9,         0.9,     0.89916,     0.89916,     0.89916,     0.89916,     0.89916,     0.89916,     0.89916,     0.89916,     0.89916,     0.89916,     0.89916,     0.89916,     0.89916,     0.89916,     0.89916,     0.89916,     0.89916,     0.89916,     0.89916,\n",
            "            0.89916,     0.89916,     0.89916,     0.89916,     0.89916,     0.89916,     0.89916,     0.89916,     0.89916,     0.89916,     0.89916,     0.89916,     0.89916,     0.89916,     0.89916,     0.89916,     0.89916,     0.89916,     0.89916,     0.89916,     0.89916,     0.89916,     0.89916,\n",
            "            0.89916,     0.89916,     0.89916,     0.89916,     0.89916,       0.888,       0.888,       0.888,       0.888,       0.888,       0.888,       0.888,       0.888,       0.888,       0.888,       0.888,       0.888,       0.888,       0.888,       0.888,       0.888,       0.888,       0.888,\n",
            "              0.888,       0.888,       0.888,       0.888,       0.888,     0.88372,     0.88372,     0.88372,     0.88372,     0.88372,     0.88372,     0.88372,     0.88372,     0.88372,     0.88372,     0.88372,     0.88372,     0.88372,     0.88372,     0.88372,     0.88372,     0.88372,     0.87879,\n",
            "            0.87879,     0.87879,     0.87879,     0.87879,     0.87879,     0.87879,     0.87879,     0.87879,     0.87879,     0.87879,     0.87879,     0.87313,     0.87313,     0.87313,     0.87313,     0.87313,     0.87313,     0.87234,     0.87234,     0.87234,     0.87234,     0.87234,     0.87234,\n",
            "            0.87234,     0.87234,     0.87234,     0.87234,     0.87234,     0.87234,     0.87234,     0.87234,     0.87234,     0.87234,     0.87234,     0.87234,     0.87234,     0.87234,     0.87234,     0.87234,     0.87234,     0.87234,     0.87234,     0.87234,     0.87234,     0.87234,     0.87234,\n",
            "            0.87234,     0.87234,     0.87234,     0.87234,     0.87234,     0.87234,     0.86713,     0.86713,     0.86713,     0.86713,     0.86713,     0.86713,     0.85897,     0.85897,     0.85897,     0.85897,     0.85897,     0.85897,     0.85897,     0.85897,     0.85897,     0.85897,     0.85897,\n",
            "            0.85897,     0.85897,     0.85897,     0.85897,     0.85897,     0.85897,     0.85897,     0.85897,     0.85897,     0.85897,     0.85897,     0.85897,     0.85897,     0.85897,     0.85897,     0.85897,     0.85897,     0.85897,     0.85897,     0.85897,     0.85897,     0.85897,     0.85897,\n",
            "            0.85897,     0.85897,     0.85897,     0.85897,     0.85897,     0.85897,     0.85897,     0.85897,     0.85897,     0.85897,     0.85897,     0.85897,     0.85897,     0.85897,     0.85897,     0.85897,     0.85897,     0.85897,     0.85897,     0.85897,     0.85897,     0.85897,     0.85897,\n",
            "            0.85897,     0.85802,     0.85802,     0.85802,     0.85802,     0.85802,     0.85802,     0.85802,     0.85802,     0.85802,     0.85802,     0.85802,     0.85802,     0.85802,     0.85802,     0.85802,     0.85802,     0.85802,     0.85802,     0.85802,     0.85802,     0.85802,     0.85802,\n",
            "            0.85802,     0.85802,     0.85802,     0.85802,     0.85802,     0.85802,     0.85802,     0.85802,     0.85629,     0.85629,     0.85629,     0.85629,     0.85629,     0.85629,     0.85629,     0.85629,     0.85629,     0.85629,     0.85629,     0.85629,     0.85629,     0.85629,     0.85629,\n",
            "            0.85629,     0.85629,     0.85629,     0.85629,     0.85629,     0.85629,     0.85629,     0.85629,     0.83815,     0.83815,     0.83815,     0.83815,     0.83815,     0.83815,     0.83815,     0.83815,     0.83815,     0.83815,     0.83815,     0.83815,     0.82955,     0.82955,     0.82955,\n",
            "            0.82955,     0.82955,     0.81768,     0.81768,     0.81768,     0.81768,     0.81768,     0.81768,     0.81768,     0.81768,     0.81768,     0.81768,     0.81768,     0.81768,     0.80645,     0.80645,     0.80645,     0.80645,     0.80645,     0.80645,     0.80645,     0.80645,     0.80645,\n",
            "            0.80645,     0.80645,     0.80645,     0.80319,     0.80319,     0.80319,     0.80319,     0.80319,     0.80319,     0.78351,     0.78351,     0.78351,     0.78351,     0.78351,     0.77665,     0.77665,     0.77665,     0.77665,     0.77665,     0.77665,     0.76238,     0.76238,     0.76238,\n",
            "            0.76238,     0.76238,     0.76238,     0.74286,     0.74286,     0.74286,     0.74286,     0.74286,     0.74286,     0.74286,     0.74286,     0.74286,     0.74286,     0.74286,     0.74286,     0.74057,     0.74057,     0.74057,     0.74057,     0.74057,     0.74057,     0.73953,     0.73953,\n",
            "            0.73953,     0.73953,     0.73953,     0.73953,     0.73953,     0.73953,     0.73953,     0.73953,     0.73953,     0.73059,     0.73059,     0.73059,     0.73059,     0.73059,     0.73059,     0.70925,     0.70925,     0.70925,     0.70925,     0.70925,     0.70925,     0.53115,     0.53115,\n",
            "            0.53115,     0.53115,     0.53115,     0.53115,     0.47941,     0.47941,     0.47941,     0.47941,     0.47941,     0.47941,     0.47536,     0.47536,     0.47536,     0.47536,     0.47536,     0.47536,     0.45706,     0.45706,     0.45706,     0.45706,     0.45706,     0.40587,     0.40587,\n",
            "            0.40587,     0.40587,     0.40587,     0.40587,     0.31213,     0.30137,      0.2906,     0.27984,     0.26908,     0.25831,     0.24755,     0.23679,     0.22602,     0.21526,      0.2045,     0.19373,     0.18297,     0.17221,     0.16145,     0.15068,     0.13992,     0.12916,     0.11839,\n",
            "            0.10763,    0.096867,    0.086104,    0.075341,    0.064578,    0.053815,    0.043052,    0.032289,    0.021526,    0.010763,           0]]), 'Recall', 'Precision'], [array([          0,    0.001001,    0.002002,    0.003003,    0.004004,    0.005005,    0.006006,    0.007007,    0.008008,    0.009009,     0.01001,    0.011011,    0.012012,    0.013013,    0.014014,    0.015015,    0.016016,    0.017017,    0.018018,    0.019019,     0.02002,    0.021021,    0.022022,    0.023023,\n",
            "          0.024024,    0.025025,    0.026026,    0.027027,    0.028028,    0.029029,     0.03003,    0.031031,    0.032032,    0.033033,    0.034034,    0.035035,    0.036036,    0.037037,    0.038038,    0.039039,     0.04004,    0.041041,    0.042042,    0.043043,    0.044044,    0.045045,    0.046046,    0.047047,\n",
            "          0.048048,    0.049049,     0.05005,    0.051051,    0.052052,    0.053053,    0.054054,    0.055055,    0.056056,    0.057057,    0.058058,    0.059059,     0.06006,    0.061061,    0.062062,    0.063063,    0.064064,    0.065065,    0.066066,    0.067067,    0.068068,    0.069069,     0.07007,    0.071071,\n",
            "          0.072072,    0.073073,    0.074074,    0.075075,    0.076076,    0.077077,    0.078078,    0.079079,     0.08008,    0.081081,    0.082082,    0.083083,    0.084084,    0.085085,    0.086086,    0.087087,    0.088088,    0.089089,     0.09009,    0.091091,    0.092092,    0.093093,    0.094094,    0.095095,\n",
            "          0.096096,    0.097097,    0.098098,    0.099099,      0.1001,      0.1011,      0.1021,      0.1031,      0.1041,     0.10511,     0.10611,     0.10711,     0.10811,     0.10911,     0.11011,     0.11111,     0.11211,     0.11311,     0.11411,     0.11512,     0.11612,     0.11712,     0.11812,     0.11912,\n",
            "           0.12012,     0.12112,     0.12212,     0.12312,     0.12412,     0.12513,     0.12613,     0.12713,     0.12813,     0.12913,     0.13013,     0.13113,     0.13213,     0.13313,     0.13413,     0.13514,     0.13614,     0.13714,     0.13814,     0.13914,     0.14014,     0.14114,     0.14214,     0.14314,\n",
            "           0.14414,     0.14515,     0.14615,     0.14715,     0.14815,     0.14915,     0.15015,     0.15115,     0.15215,     0.15315,     0.15415,     0.15516,     0.15616,     0.15716,     0.15816,     0.15916,     0.16016,     0.16116,     0.16216,     0.16316,     0.16416,     0.16517,     0.16617,     0.16717,\n",
            "           0.16817,     0.16917,     0.17017,     0.17117,     0.17217,     0.17317,     0.17417,     0.17518,     0.17618,     0.17718,     0.17818,     0.17918,     0.18018,     0.18118,     0.18218,     0.18318,     0.18418,     0.18519,     0.18619,     0.18719,     0.18819,     0.18919,     0.19019,     0.19119,\n",
            "           0.19219,     0.19319,     0.19419,      0.1952,      0.1962,      0.1972,      0.1982,      0.1992,      0.2002,      0.2012,      0.2022,      0.2032,      0.2042,     0.20521,     0.20621,     0.20721,     0.20821,     0.20921,     0.21021,     0.21121,     0.21221,     0.21321,     0.21421,     0.21522,\n",
            "           0.21622,     0.21722,     0.21822,     0.21922,     0.22022,     0.22122,     0.22222,     0.22322,     0.22422,     0.22523,     0.22623,     0.22723,     0.22823,     0.22923,     0.23023,     0.23123,     0.23223,     0.23323,     0.23423,     0.23524,     0.23624,     0.23724,     0.23824,     0.23924,\n",
            "           0.24024,     0.24124,     0.24224,     0.24324,     0.24424,     0.24525,     0.24625,     0.24725,     0.24825,     0.24925,     0.25025,     0.25125,     0.25225,     0.25325,     0.25425,     0.25526,     0.25626,     0.25726,     0.25826,     0.25926,     0.26026,     0.26126,     0.26226,     0.26326,\n",
            "           0.26426,     0.26527,     0.26627,     0.26727,     0.26827,     0.26927,     0.27027,     0.27127,     0.27227,     0.27327,     0.27427,     0.27528,     0.27628,     0.27728,     0.27828,     0.27928,     0.28028,     0.28128,     0.28228,     0.28328,     0.28428,     0.28529,     0.28629,     0.28729,\n",
            "           0.28829,     0.28929,     0.29029,     0.29129,     0.29229,     0.29329,     0.29429,      0.2953,      0.2963,      0.2973,      0.2983,      0.2993,      0.3003,      0.3013,      0.3023,      0.3033,      0.3043,     0.30531,     0.30631,     0.30731,     0.30831,     0.30931,     0.31031,     0.31131,\n",
            "           0.31231,     0.31331,     0.31431,     0.31532,     0.31632,     0.31732,     0.31832,     0.31932,     0.32032,     0.32132,     0.32232,     0.32332,     0.32432,     0.32533,     0.32633,     0.32733,     0.32833,     0.32933,     0.33033,     0.33133,     0.33233,     0.33333,     0.33433,     0.33534,\n",
            "           0.33634,     0.33734,     0.33834,     0.33934,     0.34034,     0.34134,     0.34234,     0.34334,     0.34434,     0.34535,     0.34635,     0.34735,     0.34835,     0.34935,     0.35035,     0.35135,     0.35235,     0.35335,     0.35435,     0.35536,     0.35636,     0.35736,     0.35836,     0.35936,\n",
            "           0.36036,     0.36136,     0.36236,     0.36336,     0.36436,     0.36537,     0.36637,     0.36737,     0.36837,     0.36937,     0.37037,     0.37137,     0.37237,     0.37337,     0.37437,     0.37538,     0.37638,     0.37738,     0.37838,     0.37938,     0.38038,     0.38138,     0.38238,     0.38338,\n",
            "           0.38438,     0.38539,     0.38639,     0.38739,     0.38839,     0.38939,     0.39039,     0.39139,     0.39239,     0.39339,     0.39439,      0.3954,      0.3964,      0.3974,      0.3984,      0.3994,      0.4004,      0.4014,      0.4024,      0.4034,      0.4044,     0.40541,     0.40641,     0.40741,\n",
            "           0.40841,     0.40941,     0.41041,     0.41141,     0.41241,     0.41341,     0.41441,     0.41542,     0.41642,     0.41742,     0.41842,     0.41942,     0.42042,     0.42142,     0.42242,     0.42342,     0.42442,     0.42543,     0.42643,     0.42743,     0.42843,     0.42943,     0.43043,     0.43143,\n",
            "           0.43243,     0.43343,     0.43443,     0.43544,     0.43644,     0.43744,     0.43844,     0.43944,     0.44044,     0.44144,     0.44244,     0.44344,     0.44444,     0.44545,     0.44645,     0.44745,     0.44845,     0.44945,     0.45045,     0.45145,     0.45245,     0.45345,     0.45445,     0.45546,\n",
            "           0.45646,     0.45746,     0.45846,     0.45946,     0.46046,     0.46146,     0.46246,     0.46346,     0.46446,     0.46547,     0.46647,     0.46747,     0.46847,     0.46947,     0.47047,     0.47147,     0.47247,     0.47347,     0.47447,     0.47548,     0.47648,     0.47748,     0.47848,     0.47948,\n",
            "           0.48048,     0.48148,     0.48248,     0.48348,     0.48448,     0.48549,     0.48649,     0.48749,     0.48849,     0.48949,     0.49049,     0.49149,     0.49249,     0.49349,     0.49449,      0.4955,      0.4965,      0.4975,      0.4985,      0.4995,      0.5005,      0.5015,      0.5025,      0.5035,\n",
            "            0.5045,     0.50551,     0.50651,     0.50751,     0.50851,     0.50951,     0.51051,     0.51151,     0.51251,     0.51351,     0.51451,     0.51552,     0.51652,     0.51752,     0.51852,     0.51952,     0.52052,     0.52152,     0.52252,     0.52352,     0.52452,     0.52553,     0.52653,     0.52753,\n",
            "           0.52853,     0.52953,     0.53053,     0.53153,     0.53253,     0.53353,     0.53453,     0.53554,     0.53654,     0.53754,     0.53854,     0.53954,     0.54054,     0.54154,     0.54254,     0.54354,     0.54454,     0.54555,     0.54655,     0.54755,     0.54855,     0.54955,     0.55055,     0.55155,\n",
            "           0.55255,     0.55355,     0.55455,     0.55556,     0.55656,     0.55756,     0.55856,     0.55956,     0.56056,     0.56156,     0.56256,     0.56356,     0.56456,     0.56557,     0.56657,     0.56757,     0.56857,     0.56957,     0.57057,     0.57157,     0.57257,     0.57357,     0.57457,     0.57558,\n",
            "           0.57658,     0.57758,     0.57858,     0.57958,     0.58058,     0.58158,     0.58258,     0.58358,     0.58458,     0.58559,     0.58659,     0.58759,     0.58859,     0.58959,     0.59059,     0.59159,     0.59259,     0.59359,     0.59459,      0.5956,      0.5966,      0.5976,      0.5986,      0.5996,\n",
            "            0.6006,      0.6016,      0.6026,      0.6036,      0.6046,     0.60561,     0.60661,     0.60761,     0.60861,     0.60961,     0.61061,     0.61161,     0.61261,     0.61361,     0.61461,     0.61562,     0.61662,     0.61762,     0.61862,     0.61962,     0.62062,     0.62162,     0.62262,     0.62362,\n",
            "           0.62462,     0.62563,     0.62663,     0.62763,     0.62863,     0.62963,     0.63063,     0.63163,     0.63263,     0.63363,     0.63463,     0.63564,     0.63664,     0.63764,     0.63864,     0.63964,     0.64064,     0.64164,     0.64264,     0.64364,     0.64464,     0.64565,     0.64665,     0.64765,\n",
            "           0.64865,     0.64965,     0.65065,     0.65165,     0.65265,     0.65365,     0.65465,     0.65566,     0.65666,     0.65766,     0.65866,     0.65966,     0.66066,     0.66166,     0.66266,     0.66366,     0.66466,     0.66567,     0.66667,     0.66767,     0.66867,     0.66967,     0.67067,     0.67167,\n",
            "           0.67267,     0.67367,     0.67467,     0.67568,     0.67668,     0.67768,     0.67868,     0.67968,     0.68068,     0.68168,     0.68268,     0.68368,     0.68468,     0.68569,     0.68669,     0.68769,     0.68869,     0.68969,     0.69069,     0.69169,     0.69269,     0.69369,     0.69469,      0.6957,\n",
            "            0.6967,      0.6977,      0.6987,      0.6997,      0.7007,      0.7017,      0.7027,      0.7037,      0.7047,     0.70571,     0.70671,     0.70771,     0.70871,     0.70971,     0.71071,     0.71171,     0.71271,     0.71371,     0.71471,     0.71572,     0.71672,     0.71772,     0.71872,     0.71972,\n",
            "           0.72072,     0.72172,     0.72272,     0.72372,     0.72472,     0.72573,     0.72673,     0.72773,     0.72873,     0.72973,     0.73073,     0.73173,     0.73273,     0.73373,     0.73473,     0.73574,     0.73674,     0.73774,     0.73874,     0.73974,     0.74074,     0.74174,     0.74274,     0.74374,\n",
            "           0.74474,     0.74575,     0.74675,     0.74775,     0.74875,     0.74975,     0.75075,     0.75175,     0.75275,     0.75375,     0.75475,     0.75576,     0.75676,     0.75776,     0.75876,     0.75976,     0.76076,     0.76176,     0.76276,     0.76376,     0.76476,     0.76577,     0.76677,     0.76777,\n",
            "           0.76877,     0.76977,     0.77077,     0.77177,     0.77277,     0.77377,     0.77477,     0.77578,     0.77678,     0.77778,     0.77878,     0.77978,     0.78078,     0.78178,     0.78278,     0.78378,     0.78478,     0.78579,     0.78679,     0.78779,     0.78879,     0.78979,     0.79079,     0.79179,\n",
            "           0.79279,     0.79379,     0.79479,      0.7958,      0.7968,      0.7978,      0.7988,      0.7998,      0.8008,      0.8018,      0.8028,      0.8038,      0.8048,     0.80581,     0.80681,     0.80781,     0.80881,     0.80981,     0.81081,     0.81181,     0.81281,     0.81381,     0.81481,     0.81582,\n",
            "           0.81682,     0.81782,     0.81882,     0.81982,     0.82082,     0.82182,     0.82282,     0.82382,     0.82482,     0.82583,     0.82683,     0.82783,     0.82883,     0.82983,     0.83083,     0.83183,     0.83283,     0.83383,     0.83483,     0.83584,     0.83684,     0.83784,     0.83884,     0.83984,\n",
            "           0.84084,     0.84184,     0.84284,     0.84384,     0.84484,     0.84585,     0.84685,     0.84785,     0.84885,     0.84985,     0.85085,     0.85185,     0.85285,     0.85385,     0.85485,     0.85586,     0.85686,     0.85786,     0.85886,     0.85986,     0.86086,     0.86186,     0.86286,     0.86386,\n",
            "           0.86486,     0.86587,     0.86687,     0.86787,     0.86887,     0.86987,     0.87087,     0.87187,     0.87287,     0.87387,     0.87487,     0.87588,     0.87688,     0.87788,     0.87888,     0.87988,     0.88088,     0.88188,     0.88288,     0.88388,     0.88488,     0.88589,     0.88689,     0.88789,\n",
            "           0.88889,     0.88989,     0.89089,     0.89189,     0.89289,     0.89389,     0.89489,      0.8959,      0.8969,      0.8979,      0.8989,      0.8999,      0.9009,      0.9019,      0.9029,      0.9039,      0.9049,     0.90591,     0.90691,     0.90791,     0.90891,     0.90991,     0.91091,     0.91191,\n",
            "           0.91291,     0.91391,     0.91491,     0.91592,     0.91692,     0.91792,     0.91892,     0.91992,     0.92092,     0.92192,     0.92292,     0.92392,     0.92492,     0.92593,     0.92693,     0.92793,     0.92893,     0.92993,     0.93093,     0.93193,     0.93293,     0.93393,     0.93493,     0.93594,\n",
            "           0.93694,     0.93794,     0.93894,     0.93994,     0.94094,     0.94194,     0.94294,     0.94394,     0.94494,     0.94595,     0.94695,     0.94795,     0.94895,     0.94995,     0.95095,     0.95195,     0.95295,     0.95395,     0.95495,     0.95596,     0.95696,     0.95796,     0.95896,     0.95996,\n",
            "           0.96096,     0.96196,     0.96296,     0.96396,     0.96496,     0.96597,     0.96697,     0.96797,     0.96897,     0.96997,     0.97097,     0.97197,     0.97297,     0.97397,     0.97497,     0.97598,     0.97698,     0.97798,     0.97898,     0.97998,     0.98098,     0.98198,     0.98298,     0.98398,\n",
            "           0.98498,     0.98599,     0.98699,     0.98799,     0.98899,     0.98999,     0.99099,     0.99199,     0.99299,     0.99399,     0.99499,       0.996,       0.997,       0.998,       0.999,           1]), array([[    0.47496,     0.47498,     0.61265,     0.65115,      0.6726,     0.69073,     0.70343,     0.71669,     0.72762,     0.73506,     0.75118,     0.76222,      0.7698,     0.77524,     0.78162,     0.78488,     0.78958,     0.79408,     0.79571,     0.79754,     0.80108,     0.80208,     0.80327,\n",
            "            0.80564,     0.80702,     0.80844,     0.81028,     0.81123,     0.81217,      0.8165,     0.81679,     0.81707,     0.81735,     0.81763,     0.81791,     0.81819,     0.82005,     0.81783,     0.81885,     0.82314,     0.82265,     0.82129,     0.81874,     0.81695,     0.81269,     0.81327,\n",
            "            0.81386,     0.81444,       0.817,     0.81781,     0.81862,     0.81924,     0.81952,     0.81979,     0.82007,     0.82034,     0.82061,     0.82089,     0.82116,     0.82385,     0.82471,     0.82557,     0.82335,     0.82928,     0.82959,     0.82991,     0.83022,     0.83053,     0.83084,\n",
            "            0.83116,     0.83147,     0.83116,     0.83073,     0.83029,     0.82986,     0.82942,     0.82899,     0.82855,     0.83086,     0.83139,     0.83191,     0.83244,     0.83277,     0.83214,      0.8315,     0.83086,     0.83022,     0.82985,     0.83122,     0.83212,      0.8325,     0.83287,\n",
            "            0.83324,     0.83361,     0.83398,     0.83677,     0.83758,     0.83838,     0.84111,      0.8407,     0.84029,     0.83988,     0.83947,     0.83906,     0.83865,     0.83824,     0.83815,     0.83855,     0.83896,     0.83937,     0.83977,     0.84018,     0.83668,     0.83603,     0.83538,\n",
            "            0.83473,     0.83409,     0.83622,     0.83634,     0.83645,     0.83656,     0.83668,     0.83679,     0.83691,     0.83702,     0.83713,     0.83725,     0.83736,     0.83747,     0.83759,      0.8377,     0.83782,     0.83793,     0.83804,     0.83816,     0.83827,     0.83838,      0.8385,\n",
            "            0.83877,     0.83911,     0.83944,     0.83978,     0.84012,     0.84045,     0.84079,     0.83752,     0.83739,     0.83726,     0.83713,       0.837,     0.83687,     0.83673,      0.8366,     0.83647,     0.83634,     0.83621,     0.83608,     0.83594,     0.83581,     0.83568,     0.83555,\n",
            "            0.83542,     0.83529,     0.83515,     0.83502,     0.83489,     0.83476,     0.83463,     0.83449,     0.83436,     0.83435,     0.83451,     0.83466,     0.83482,     0.83497,     0.83513,     0.83529,     0.83544,      0.8356,     0.83575,     0.83591,     0.83606,     0.83622,     0.83637,\n",
            "            0.83653,     0.83676,     0.83868,     0.83922,      0.8394,     0.83958,     0.83977,     0.83995,     0.84013,     0.84031,     0.84049,     0.84067,     0.84085,     0.84103,     0.84121,     0.84139,     0.84144,     0.84127,      0.8411,     0.84093,     0.84076,     0.84058,     0.84041,\n",
            "            0.84024,     0.84007,      0.8399,     0.83973,     0.83956,     0.83939,     0.83922,     0.83905,     0.83888,     0.83871,     0.83854,     0.83837,      0.8382,     0.84061,     0.84066,      0.8407,     0.84075,     0.84079,     0.84084,     0.84088,     0.84093,     0.84098,     0.84102,\n",
            "            0.84107,     0.84111,     0.84116,     0.84121,     0.84125,      0.8413,     0.84134,     0.84139,     0.84144,     0.84148,     0.84153,     0.84157,     0.84162,     0.84166,     0.84171,     0.84176,      0.8418,     0.84185,     0.84189,     0.84194,     0.84199,     0.84203,     0.84208,\n",
            "            0.84212,     0.84217,     0.84221,     0.84226,     0.84231,     0.84235,      0.8424,     0.84244,     0.84249,     0.84253,     0.84258,     0.84263,     0.84267,     0.84272,     0.84276,     0.84281,     0.84285,      0.8429,     0.84295,     0.84299,     0.84299,     0.84286,     0.84273,\n",
            "            0.84261,     0.84248,     0.84235,     0.84223,      0.8421,     0.84197,     0.84185,     0.84172,     0.84159,     0.84147,     0.84134,     0.84121,     0.84109,     0.84096,     0.84083,      0.8407,     0.84058,     0.84045,     0.84032,      0.8402,     0.84007,     0.83994,     0.83982,\n",
            "            0.83969,      0.8365,     0.83687,     0.83725,     0.83762,     0.83799,     0.83836,     0.83871,     0.83876,      0.8388,     0.83884,     0.83889,     0.83893,     0.83897,     0.83902,     0.83906,      0.8391,     0.83914,     0.83919,     0.83923,     0.83927,     0.83932,     0.83936,\n",
            "             0.8394,     0.83945,     0.83949,     0.83953,     0.83958,     0.83962,     0.83966,     0.83971,     0.83975,     0.83979,     0.83983,     0.83988,     0.83992,     0.83996,     0.84001,     0.84005,     0.84009,     0.84014,     0.84018,     0.84022,     0.84027,     0.84031,     0.84035,\n",
            "            0.84039,     0.84044,     0.84048,     0.84052,     0.84057,     0.84061,     0.84065,      0.8407,     0.84074,     0.84078,     0.84082,     0.84087,     0.84091,     0.84095,       0.841,     0.84104,     0.84108,     0.84113,     0.84117,     0.84294,     0.84372,     0.84381,     0.84391,\n",
            "              0.844,     0.84409,     0.84419,     0.84428,     0.84437,     0.84446,     0.84456,     0.84465,     0.84474,     0.84484,     0.84493,     0.84502,     0.84512,     0.84521,      0.8453,     0.84539,     0.84549,     0.84558,     0.84567,     0.84577,     0.84586,     0.84595,     0.84604,\n",
            "            0.84614,     0.84204,     0.84118,     0.84033,     0.83947,     0.83569,     0.83553,     0.83537,      0.8352,     0.83504,     0.83488,     0.83471,     0.83455,     0.83439,     0.83422,     0.83406,      0.8339,     0.83373,     0.83357,      0.8334,     0.83324,     0.83308,     0.83291,\n",
            "            0.83275,     0.83259,     0.83242,     0.83239,     0.83251,     0.83264,     0.83276,     0.83288,       0.833,     0.83312,     0.83324,     0.83336,     0.83348,      0.8336,     0.83372,     0.83384,     0.83396,     0.83409,     0.83421,     0.83433,     0.83445,     0.83457,     0.83469,\n",
            "            0.83481,     0.83473,      0.8346,     0.83447,     0.83434,     0.83421,     0.83408,     0.83395,     0.83382,     0.83369,     0.83356,     0.83343,      0.8333,     0.83317,     0.83304,     0.83291,     0.83278,     0.83265,     0.83252,     0.83239,     0.83226,     0.83213,       0.832,\n",
            "            0.83187,     0.83174,      0.8316,     0.83147,     0.83134,     0.83118,     0.83101,     0.83084,     0.83066,     0.83049,     0.83032,     0.83015,     0.82998,     0.82981,     0.82964,     0.82946,     0.82929,     0.82912,     0.82895,     0.82878,     0.82861,     0.82843,     0.82826,\n",
            "            0.82809,     0.82792,     0.82774,     0.82756,     0.82738,      0.8272,     0.82702,     0.82684,     0.82666,     0.82648,     0.82629,     0.82611,     0.82593,     0.82575,     0.82557,     0.82539,      0.8252,     0.82502,     0.82484,     0.82466,     0.82448,     0.82429,      0.8241,\n",
            "             0.8239,     0.82369,     0.82349,     0.82329,     0.82309,     0.82289,     0.82269,     0.82248,     0.82228,     0.82208,     0.82188,     0.82168,     0.82147,     0.82127,     0.82107,     0.82087,     0.82064,     0.81928,     0.81792,     0.81716,     0.81739,     0.81762,     0.81785,\n",
            "            0.81808,     0.81831,     0.81854,     0.81877,     0.81899,     0.81922,     0.81945,     0.81925,     0.81857,     0.81788,      0.8172,     0.81651,     0.81587,     0.81541,     0.81495,     0.81449,     0.81403,     0.81357,     0.81312,     0.81266,     0.81222,     0.81187,     0.81151,\n",
            "            0.81116,     0.81081,     0.81045,      0.8101,     0.80974,     0.80939,     0.80903,     0.80868,     0.80796,     0.80721,     0.80645,      0.8057,     0.80495,     0.80484,     0.80472,      0.8046,     0.80448,     0.80437,     0.80425,     0.80413,     0.80402,      0.8039,     0.80378,\n",
            "            0.80367,     0.80355,     0.80343,     0.80332,      0.8032,     0.80308,     0.80296,     0.80285,     0.80273,     0.80261,      0.8025,     0.80238,     0.80226,     0.80214,     0.80203,     0.80191,     0.80179,     0.80167,     0.80156,     0.80144,     0.80132,     0.80095,         0.8,\n",
            "            0.79906,     0.79811,     0.79737,     0.79698,      0.7966,     0.79621,     0.79582,     0.79544,     0.79505,     0.79466,     0.79427,     0.79389,      0.7938,     0.79388,     0.79396,     0.79405,     0.79413,     0.79421,     0.79429,     0.79437,     0.79445,     0.79453,     0.79461,\n",
            "            0.79469,     0.79477,     0.79485,     0.79493,     0.79502,      0.7951,     0.79518,     0.79526,     0.79534,     0.79542,      0.7955,     0.79558,     0.79566,     0.79574,     0.79582,      0.7959,     0.79598,     0.79606,     0.79614,     0.79622,     0.79547,     0.79454,      0.7936,\n",
            "            0.79266,     0.78824,     0.78772,      0.7872,     0.78667,     0.78615,     0.78563,     0.78511,     0.78746,     0.78784,     0.78821,     0.78858,     0.78895,     0.78932,     0.78969,     0.78909,     0.78805,     0.78701,     0.78596,     0.78606,     0.78618,      0.7863,     0.78642,\n",
            "            0.78654,     0.78665,     0.78677,     0.78689,     0.78701,     0.78713,     0.78725,     0.78737,     0.78749,      0.7876,     0.78772,     0.78784,     0.78796,     0.78808,      0.7882,     0.78832,     0.78843,      0.7871,     0.78533,     0.78185,     0.78021,     0.77963,     0.77905,\n",
            "            0.77847,     0.77789,     0.77731,     0.77673,     0.77486,     0.77293,     0.76771,     0.76657,     0.76543,     0.76643,     0.76334,     0.76357,       0.764,     0.76443,     0.76486,     0.76529,     0.76556,     0.76448,     0.76341,     0.76233,     0.76133,     0.76051,     0.75968,\n",
            "            0.75886,     0.75803,     0.75965,     0.75947,     0.75891,     0.75835,     0.75779,     0.75722,     0.75666,      0.7561,     0.75551,     0.75491,     0.75431,      0.7537,      0.7531,      0.7525,     0.75189,     0.75097,     0.74987,     0.74878,     0.74768,     0.74762,      0.7478,\n",
            "            0.74798,     0.74815,     0.74833,     0.74851,     0.74869,     0.74886,     0.74904,     0.74922,      0.7494,     0.74957,     0.74975,     0.74993,     0.74961,     0.74895,     0.74828,     0.74762,     0.74695,     0.74628,     0.74564,     0.74508,     0.74453,     0.74397,     0.74342,\n",
            "            0.74286,     0.74231,     0.74175,      0.7413,     0.74094,     0.74057,     0.74021,     0.73985,     0.73949,     0.73912,     0.73876,      0.7384,     0.73803,     0.73767,     0.73731,     0.73675,     0.73612,     0.73549,     0.73486,     0.73422,     0.73359,     0.73296,     0.73613,\n",
            "            0.73696,      0.7378,     0.73352,     0.73223,     0.73094,     0.72964,     0.72871,     0.72798,     0.72726,     0.72653,      0.7258,     0.72507,     0.72013,      0.7194,     0.71868,     0.71796,     0.71723,     0.71651,     0.71578,     0.71355,     0.71132,     0.70217,     0.70288,\n",
            "            0.70359,      0.7043,     0.70295,     0.69516,     0.69274,     0.69038,     0.68843,     0.68647,     0.68538,     0.68463,     0.68388,     0.68313,     0.68237,     0.68162,     0.67813,     0.66326,     0.65451,     0.65243,      0.6505,     0.64677,     0.64279,     0.64058,     0.63796,\n",
            "             0.6345,     0.61746,     0.61599,     0.61452,     0.61304,     0.60124,     0.59135,     0.58891,     0.58646,     0.58483,     0.58341,     0.58199,     0.58057,     0.55746,     0.55629,     0.55513,     0.55396,     0.55278,     0.54802,     0.53898,      0.5374,     0.53581,     0.53377,\n",
            "            0.52845,     0.52593,     0.52341,     0.52278,     0.52331,     0.52384,     0.52436,     0.52411,     0.52325,      0.5224,     0.52155,     0.52069,     0.51984,     0.51898,       0.513,     0.50461,      0.5029,     0.50119,     0.49295,     0.49039,     0.48783,     0.48648,     0.48537,\n",
            "            0.48427,     0.48316,     0.48205,     0.48314,     0.48457,       0.471,     0.46673,     0.46172,     0.45412,     0.44977,     0.44678,     0.43862,     0.43429,     0.41549,     0.39404,     0.39323,     0.39242,     0.39161,      0.3908,     0.38999,     0.38918,     0.38836,     0.38755,\n",
            "            0.37455,     0.36342,     0.35707,      0.3398,      0.3126,      0.3029,      0.2972,     0.29166,     0.28478,     0.27699,     0.27371,     0.26991,     0.26633,     0.26286,     0.25985,       0.259,     0.25816,     0.25731,     0.25647,     0.25562,     0.25477,     0.25392,     0.25307,\n",
            "            0.25222,     0.25137,     0.25039,     0.24535,     0.23965,     0.23134,     0.21519,     0.21331,     0.21142,     0.20953,     0.20764,     0.19395,     0.18849,     0.18901,     0.18922,     0.18493,     0.18063,     0.16751,     0.16424,     0.16096,     0.14468,     0.13286,    0.088078,\n",
            "           0.085409,    0.082734,    0.080052,    0.066381,    0.063097,    0.059804,    0.056501,     0.05233,    0.047057,    0.032499,    0.029834,    0.027161,    0.024482,    0.022519,    0.021297,    0.020074,    0.018849,    0.017623,    0.016395,    0.015165,    0.013934,    0.012702,           0,\n",
            "                  0,           0,           0,           0,           0,           0,           0,           0,           0,           0,           0,           0,           0,           0,           0,           0,           0,           0,           0,           0,           0,           0,           0,\n",
            "                  0,           0,           0,           0,           0,           0,           0,           0,           0,           0,           0]]), 'Confidence', 'F1'], [array([          0,    0.001001,    0.002002,    0.003003,    0.004004,    0.005005,    0.006006,    0.007007,    0.008008,    0.009009,     0.01001,    0.011011,    0.012012,    0.013013,    0.014014,    0.015015,    0.016016,    0.017017,    0.018018,    0.019019,     0.02002,    0.021021,    0.022022,    0.023023,\n",
            "          0.024024,    0.025025,    0.026026,    0.027027,    0.028028,    0.029029,     0.03003,    0.031031,    0.032032,    0.033033,    0.034034,    0.035035,    0.036036,    0.037037,    0.038038,    0.039039,     0.04004,    0.041041,    0.042042,    0.043043,    0.044044,    0.045045,    0.046046,    0.047047,\n",
            "          0.048048,    0.049049,     0.05005,    0.051051,    0.052052,    0.053053,    0.054054,    0.055055,    0.056056,    0.057057,    0.058058,    0.059059,     0.06006,    0.061061,    0.062062,    0.063063,    0.064064,    0.065065,    0.066066,    0.067067,    0.068068,    0.069069,     0.07007,    0.071071,\n",
            "          0.072072,    0.073073,    0.074074,    0.075075,    0.076076,    0.077077,    0.078078,    0.079079,     0.08008,    0.081081,    0.082082,    0.083083,    0.084084,    0.085085,    0.086086,    0.087087,    0.088088,    0.089089,     0.09009,    0.091091,    0.092092,    0.093093,    0.094094,    0.095095,\n",
            "          0.096096,    0.097097,    0.098098,    0.099099,      0.1001,      0.1011,      0.1021,      0.1031,      0.1041,     0.10511,     0.10611,     0.10711,     0.10811,     0.10911,     0.11011,     0.11111,     0.11211,     0.11311,     0.11411,     0.11512,     0.11612,     0.11712,     0.11812,     0.11912,\n",
            "           0.12012,     0.12112,     0.12212,     0.12312,     0.12412,     0.12513,     0.12613,     0.12713,     0.12813,     0.12913,     0.13013,     0.13113,     0.13213,     0.13313,     0.13413,     0.13514,     0.13614,     0.13714,     0.13814,     0.13914,     0.14014,     0.14114,     0.14214,     0.14314,\n",
            "           0.14414,     0.14515,     0.14615,     0.14715,     0.14815,     0.14915,     0.15015,     0.15115,     0.15215,     0.15315,     0.15415,     0.15516,     0.15616,     0.15716,     0.15816,     0.15916,     0.16016,     0.16116,     0.16216,     0.16316,     0.16416,     0.16517,     0.16617,     0.16717,\n",
            "           0.16817,     0.16917,     0.17017,     0.17117,     0.17217,     0.17317,     0.17417,     0.17518,     0.17618,     0.17718,     0.17818,     0.17918,     0.18018,     0.18118,     0.18218,     0.18318,     0.18418,     0.18519,     0.18619,     0.18719,     0.18819,     0.18919,     0.19019,     0.19119,\n",
            "           0.19219,     0.19319,     0.19419,      0.1952,      0.1962,      0.1972,      0.1982,      0.1992,      0.2002,      0.2012,      0.2022,      0.2032,      0.2042,     0.20521,     0.20621,     0.20721,     0.20821,     0.20921,     0.21021,     0.21121,     0.21221,     0.21321,     0.21421,     0.21522,\n",
            "           0.21622,     0.21722,     0.21822,     0.21922,     0.22022,     0.22122,     0.22222,     0.22322,     0.22422,     0.22523,     0.22623,     0.22723,     0.22823,     0.22923,     0.23023,     0.23123,     0.23223,     0.23323,     0.23423,     0.23524,     0.23624,     0.23724,     0.23824,     0.23924,\n",
            "           0.24024,     0.24124,     0.24224,     0.24324,     0.24424,     0.24525,     0.24625,     0.24725,     0.24825,     0.24925,     0.25025,     0.25125,     0.25225,     0.25325,     0.25425,     0.25526,     0.25626,     0.25726,     0.25826,     0.25926,     0.26026,     0.26126,     0.26226,     0.26326,\n",
            "           0.26426,     0.26527,     0.26627,     0.26727,     0.26827,     0.26927,     0.27027,     0.27127,     0.27227,     0.27327,     0.27427,     0.27528,     0.27628,     0.27728,     0.27828,     0.27928,     0.28028,     0.28128,     0.28228,     0.28328,     0.28428,     0.28529,     0.28629,     0.28729,\n",
            "           0.28829,     0.28929,     0.29029,     0.29129,     0.29229,     0.29329,     0.29429,      0.2953,      0.2963,      0.2973,      0.2983,      0.2993,      0.3003,      0.3013,      0.3023,      0.3033,      0.3043,     0.30531,     0.30631,     0.30731,     0.30831,     0.30931,     0.31031,     0.31131,\n",
            "           0.31231,     0.31331,     0.31431,     0.31532,     0.31632,     0.31732,     0.31832,     0.31932,     0.32032,     0.32132,     0.32232,     0.32332,     0.32432,     0.32533,     0.32633,     0.32733,     0.32833,     0.32933,     0.33033,     0.33133,     0.33233,     0.33333,     0.33433,     0.33534,\n",
            "           0.33634,     0.33734,     0.33834,     0.33934,     0.34034,     0.34134,     0.34234,     0.34334,     0.34434,     0.34535,     0.34635,     0.34735,     0.34835,     0.34935,     0.35035,     0.35135,     0.35235,     0.35335,     0.35435,     0.35536,     0.35636,     0.35736,     0.35836,     0.35936,\n",
            "           0.36036,     0.36136,     0.36236,     0.36336,     0.36436,     0.36537,     0.36637,     0.36737,     0.36837,     0.36937,     0.37037,     0.37137,     0.37237,     0.37337,     0.37437,     0.37538,     0.37638,     0.37738,     0.37838,     0.37938,     0.38038,     0.38138,     0.38238,     0.38338,\n",
            "           0.38438,     0.38539,     0.38639,     0.38739,     0.38839,     0.38939,     0.39039,     0.39139,     0.39239,     0.39339,     0.39439,      0.3954,      0.3964,      0.3974,      0.3984,      0.3994,      0.4004,      0.4014,      0.4024,      0.4034,      0.4044,     0.40541,     0.40641,     0.40741,\n",
            "           0.40841,     0.40941,     0.41041,     0.41141,     0.41241,     0.41341,     0.41441,     0.41542,     0.41642,     0.41742,     0.41842,     0.41942,     0.42042,     0.42142,     0.42242,     0.42342,     0.42442,     0.42543,     0.42643,     0.42743,     0.42843,     0.42943,     0.43043,     0.43143,\n",
            "           0.43243,     0.43343,     0.43443,     0.43544,     0.43644,     0.43744,     0.43844,     0.43944,     0.44044,     0.44144,     0.44244,     0.44344,     0.44444,     0.44545,     0.44645,     0.44745,     0.44845,     0.44945,     0.45045,     0.45145,     0.45245,     0.45345,     0.45445,     0.45546,\n",
            "           0.45646,     0.45746,     0.45846,     0.45946,     0.46046,     0.46146,     0.46246,     0.46346,     0.46446,     0.46547,     0.46647,     0.46747,     0.46847,     0.46947,     0.47047,     0.47147,     0.47247,     0.47347,     0.47447,     0.47548,     0.47648,     0.47748,     0.47848,     0.47948,\n",
            "           0.48048,     0.48148,     0.48248,     0.48348,     0.48448,     0.48549,     0.48649,     0.48749,     0.48849,     0.48949,     0.49049,     0.49149,     0.49249,     0.49349,     0.49449,      0.4955,      0.4965,      0.4975,      0.4985,      0.4995,      0.5005,      0.5015,      0.5025,      0.5035,\n",
            "            0.5045,     0.50551,     0.50651,     0.50751,     0.50851,     0.50951,     0.51051,     0.51151,     0.51251,     0.51351,     0.51451,     0.51552,     0.51652,     0.51752,     0.51852,     0.51952,     0.52052,     0.52152,     0.52252,     0.52352,     0.52452,     0.52553,     0.52653,     0.52753,\n",
            "           0.52853,     0.52953,     0.53053,     0.53153,     0.53253,     0.53353,     0.53453,     0.53554,     0.53654,     0.53754,     0.53854,     0.53954,     0.54054,     0.54154,     0.54254,     0.54354,     0.54454,     0.54555,     0.54655,     0.54755,     0.54855,     0.54955,     0.55055,     0.55155,\n",
            "           0.55255,     0.55355,     0.55455,     0.55556,     0.55656,     0.55756,     0.55856,     0.55956,     0.56056,     0.56156,     0.56256,     0.56356,     0.56456,     0.56557,     0.56657,     0.56757,     0.56857,     0.56957,     0.57057,     0.57157,     0.57257,     0.57357,     0.57457,     0.57558,\n",
            "           0.57658,     0.57758,     0.57858,     0.57958,     0.58058,     0.58158,     0.58258,     0.58358,     0.58458,     0.58559,     0.58659,     0.58759,     0.58859,     0.58959,     0.59059,     0.59159,     0.59259,     0.59359,     0.59459,      0.5956,      0.5966,      0.5976,      0.5986,      0.5996,\n",
            "            0.6006,      0.6016,      0.6026,      0.6036,      0.6046,     0.60561,     0.60661,     0.60761,     0.60861,     0.60961,     0.61061,     0.61161,     0.61261,     0.61361,     0.61461,     0.61562,     0.61662,     0.61762,     0.61862,     0.61962,     0.62062,     0.62162,     0.62262,     0.62362,\n",
            "           0.62462,     0.62563,     0.62663,     0.62763,     0.62863,     0.62963,     0.63063,     0.63163,     0.63263,     0.63363,     0.63463,     0.63564,     0.63664,     0.63764,     0.63864,     0.63964,     0.64064,     0.64164,     0.64264,     0.64364,     0.64464,     0.64565,     0.64665,     0.64765,\n",
            "           0.64865,     0.64965,     0.65065,     0.65165,     0.65265,     0.65365,     0.65465,     0.65566,     0.65666,     0.65766,     0.65866,     0.65966,     0.66066,     0.66166,     0.66266,     0.66366,     0.66466,     0.66567,     0.66667,     0.66767,     0.66867,     0.66967,     0.67067,     0.67167,\n",
            "           0.67267,     0.67367,     0.67467,     0.67568,     0.67668,     0.67768,     0.67868,     0.67968,     0.68068,     0.68168,     0.68268,     0.68368,     0.68468,     0.68569,     0.68669,     0.68769,     0.68869,     0.68969,     0.69069,     0.69169,     0.69269,     0.69369,     0.69469,      0.6957,\n",
            "            0.6967,      0.6977,      0.6987,      0.6997,      0.7007,      0.7017,      0.7027,      0.7037,      0.7047,     0.70571,     0.70671,     0.70771,     0.70871,     0.70971,     0.71071,     0.71171,     0.71271,     0.71371,     0.71471,     0.71572,     0.71672,     0.71772,     0.71872,     0.71972,\n",
            "           0.72072,     0.72172,     0.72272,     0.72372,     0.72472,     0.72573,     0.72673,     0.72773,     0.72873,     0.72973,     0.73073,     0.73173,     0.73273,     0.73373,     0.73473,     0.73574,     0.73674,     0.73774,     0.73874,     0.73974,     0.74074,     0.74174,     0.74274,     0.74374,\n",
            "           0.74474,     0.74575,     0.74675,     0.74775,     0.74875,     0.74975,     0.75075,     0.75175,     0.75275,     0.75375,     0.75475,     0.75576,     0.75676,     0.75776,     0.75876,     0.75976,     0.76076,     0.76176,     0.76276,     0.76376,     0.76476,     0.76577,     0.76677,     0.76777,\n",
            "           0.76877,     0.76977,     0.77077,     0.77177,     0.77277,     0.77377,     0.77477,     0.77578,     0.77678,     0.77778,     0.77878,     0.77978,     0.78078,     0.78178,     0.78278,     0.78378,     0.78478,     0.78579,     0.78679,     0.78779,     0.78879,     0.78979,     0.79079,     0.79179,\n",
            "           0.79279,     0.79379,     0.79479,      0.7958,      0.7968,      0.7978,      0.7988,      0.7998,      0.8008,      0.8018,      0.8028,      0.8038,      0.8048,     0.80581,     0.80681,     0.80781,     0.80881,     0.80981,     0.81081,     0.81181,     0.81281,     0.81381,     0.81481,     0.81582,\n",
            "           0.81682,     0.81782,     0.81882,     0.81982,     0.82082,     0.82182,     0.82282,     0.82382,     0.82482,     0.82583,     0.82683,     0.82783,     0.82883,     0.82983,     0.83083,     0.83183,     0.83283,     0.83383,     0.83483,     0.83584,     0.83684,     0.83784,     0.83884,     0.83984,\n",
            "           0.84084,     0.84184,     0.84284,     0.84384,     0.84484,     0.84585,     0.84685,     0.84785,     0.84885,     0.84985,     0.85085,     0.85185,     0.85285,     0.85385,     0.85485,     0.85586,     0.85686,     0.85786,     0.85886,     0.85986,     0.86086,     0.86186,     0.86286,     0.86386,\n",
            "           0.86486,     0.86587,     0.86687,     0.86787,     0.86887,     0.86987,     0.87087,     0.87187,     0.87287,     0.87387,     0.87487,     0.87588,     0.87688,     0.87788,     0.87888,     0.87988,     0.88088,     0.88188,     0.88288,     0.88388,     0.88488,     0.88589,     0.88689,     0.88789,\n",
            "           0.88889,     0.88989,     0.89089,     0.89189,     0.89289,     0.89389,     0.89489,      0.8959,      0.8969,      0.8979,      0.8989,      0.8999,      0.9009,      0.9019,      0.9029,      0.9039,      0.9049,     0.90591,     0.90691,     0.90791,     0.90891,     0.90991,     0.91091,     0.91191,\n",
            "           0.91291,     0.91391,     0.91491,     0.91592,     0.91692,     0.91792,     0.91892,     0.91992,     0.92092,     0.92192,     0.92292,     0.92392,     0.92492,     0.92593,     0.92693,     0.92793,     0.92893,     0.92993,     0.93093,     0.93193,     0.93293,     0.93393,     0.93493,     0.93594,\n",
            "           0.93694,     0.93794,     0.93894,     0.93994,     0.94094,     0.94194,     0.94294,     0.94394,     0.94494,     0.94595,     0.94695,     0.94795,     0.94895,     0.94995,     0.95095,     0.95195,     0.95295,     0.95395,     0.95495,     0.95596,     0.95696,     0.95796,     0.95896,     0.95996,\n",
            "           0.96096,     0.96196,     0.96296,     0.96396,     0.96496,     0.96597,     0.96697,     0.96797,     0.96897,     0.96997,     0.97097,     0.97197,     0.97297,     0.97397,     0.97497,     0.97598,     0.97698,     0.97798,     0.97898,     0.97998,     0.98098,     0.98198,     0.98298,     0.98398,\n",
            "           0.98498,     0.98599,     0.98699,     0.98799,     0.98899,     0.98999,     0.99099,     0.99199,     0.99299,     0.99399,     0.99499,       0.996,       0.997,       0.998,       0.999,           1]), array([[    0.31439,     0.31441,     0.44881,     0.49605,     0.52138,     0.54544,     0.56145,     0.57854,     0.59291,     0.60286,     0.62486,     0.64028,     0.65106,     0.65887,     0.66814,     0.67292,     0.67986,     0.68656,     0.68901,     0.69175,      0.6971,     0.69862,     0.70043,\n",
            "            0.70404,     0.70614,     0.71167,     0.71453,       0.716,     0.71747,     0.72426,     0.72471,     0.72515,     0.72559,     0.72604,     0.72648,     0.72692,     0.72986,     0.72991,     0.73154,     0.73841,     0.73906,     0.73852,     0.73877,     0.73966,     0.74043,      0.7414,\n",
            "            0.74237,     0.74334,     0.74761,     0.74897,     0.75033,     0.75138,     0.75184,      0.7523,     0.75276,     0.75323,     0.75369,     0.75415,     0.75461,     0.75916,     0.76063,     0.76209,     0.76251,     0.77275,     0.77329,     0.77384,     0.77438,     0.77492,     0.77547,\n",
            "            0.77601,     0.77656,     0.77652,     0.77637,     0.77621,     0.77605,      0.7759,     0.77574,     0.77559,     0.77995,     0.78088,      0.7818,     0.78273,     0.78347,     0.78325,     0.78302,      0.7828,     0.78258,     0.78271,     0.78514,     0.78676,     0.78742,     0.78809,\n",
            "            0.78875,     0.78941,     0.79008,      0.7951,     0.79656,     0.79803,     0.80315,     0.80302,     0.80289,     0.80275,     0.80262,     0.80249,     0.80235,     0.80222,     0.80243,     0.80317,     0.80392,     0.80467,     0.80542,     0.80616,     0.80528,     0.80507,     0.80486,\n",
            "            0.80465,     0.80444,     0.80886,     0.80908,     0.80929,      0.8095,     0.80972,     0.80993,     0.81014,     0.81036,     0.81057,     0.81078,       0.811,     0.81121,     0.81142,     0.81164,     0.81185,     0.81206,     0.81228,     0.81249,      0.8127,     0.81292,     0.81313,\n",
            "            0.81365,     0.81428,     0.81491,     0.81555,     0.81618,     0.81681,     0.81745,     0.81664,      0.8166,     0.81656,     0.81652,     0.81648,     0.81644,      0.8164,     0.81636,     0.81632,     0.81628,     0.81623,     0.81619,     0.81615,     0.81611,     0.81607,     0.81603,\n",
            "            0.81599,     0.81595,     0.81591,     0.81587,     0.81583,     0.81579,     0.81575,     0.81571,     0.81567,     0.81577,     0.81607,     0.81636,     0.81666,     0.81696,     0.81726,     0.81756,     0.81785,     0.81815,     0.81845,     0.81875,     0.81905,     0.81934,     0.81964,\n",
            "            0.81994,     0.82039,     0.82409,     0.82514,     0.82548,     0.82583,     0.82618,     0.82653,     0.82688,     0.82723,     0.82758,     0.82793,     0.82828,     0.82863,     0.82898,     0.82933,     0.82953,     0.82948,     0.82943,     0.82938,     0.82933,     0.82928,     0.82923,\n",
            "            0.82918,     0.82913,     0.82908,     0.82903,     0.82898,     0.82893,     0.82888,     0.82883,     0.82878,     0.82873,     0.82868,     0.82864,     0.82859,     0.83339,     0.83348,     0.83357,     0.83366,     0.83375,     0.83384,     0.83393,     0.83402,     0.83411,      0.8342,\n",
            "            0.83429,     0.83438,     0.83448,     0.83457,     0.83466,     0.83475,     0.83484,     0.83493,     0.83502,     0.83511,      0.8352,     0.83529,     0.83538,     0.83547,     0.83556,     0.83565,     0.83574,     0.83583,     0.83592,     0.83601,      0.8361,     0.83619,     0.83628,\n",
            "            0.83637,     0.83646,     0.83655,     0.83664,     0.83673,     0.83682,     0.83691,       0.837,     0.83709,     0.83718,     0.83727,     0.83736,     0.83745,     0.83754,     0.83764,     0.83773,     0.83782,     0.83791,       0.838,     0.83809,     0.83814,      0.8381,     0.83807,\n",
            "            0.83803,       0.838,     0.83796,     0.83793,     0.83789,     0.83786,     0.83782,     0.83779,     0.83775,     0.83772,     0.83768,     0.83764,     0.83761,     0.83757,     0.83754,      0.8375,     0.83747,     0.83743,      0.8374,     0.83736,     0.83733,     0.83729,     0.83726,\n",
            "            0.83722,     0.83674,     0.83749,     0.83824,     0.83898,     0.83973,     0.84048,     0.84118,     0.84127,     0.84136,     0.84144,     0.84153,     0.84162,      0.8417,     0.84179,     0.84188,     0.84197,     0.84205,     0.84214,     0.84223,     0.84231,      0.8424,     0.84249,\n",
            "            0.84257,     0.84266,     0.84275,     0.84283,     0.84292,     0.84301,      0.8431,     0.84318,     0.84327,     0.84336,     0.84344,     0.84353,     0.84362,      0.8437,     0.84379,     0.84388,     0.84396,     0.84405,     0.84414,     0.84423,     0.84431,      0.8444,     0.84449,\n",
            "            0.84457,     0.84466,     0.84475,     0.84483,     0.84492,     0.84501,      0.8451,     0.84518,     0.84527,     0.84536,     0.84544,     0.84553,     0.84562,      0.8457,     0.84579,     0.84588,     0.84596,     0.84605,     0.84614,     0.84973,     0.85132,     0.85151,      0.8517,\n",
            "            0.85189,     0.85208,     0.85227,     0.85246,     0.85265,     0.85284,     0.85303,     0.85321,      0.8534,     0.85359,     0.85378,     0.85397,     0.85416,     0.85435,     0.85454,     0.85473,     0.85492,     0.85511,      0.8553,     0.85549,     0.85568,     0.85587,     0.85606,\n",
            "            0.85625,     0.85524,     0.85503,     0.85481,     0.85459,     0.85363,     0.85358,     0.85354,      0.8535,     0.85346,     0.85341,     0.85337,     0.85333,     0.85329,     0.85325,      0.8532,     0.85316,     0.85312,     0.85308,     0.85304,     0.85299,     0.85295,     0.85291,\n",
            "            0.85287,     0.85283,     0.85278,     0.85288,     0.85314,     0.85339,     0.85364,      0.8539,     0.85415,     0.85441,     0.85466,     0.85492,     0.85517,     0.85543,     0.85568,     0.85593,     0.85619,     0.85644,      0.8567,     0.85695,     0.85721,     0.85746,     0.85772,\n",
            "            0.85797,       0.858,     0.85797,     0.85793,      0.8579,     0.85787,     0.85784,      0.8578,     0.85777,     0.85774,      0.8577,     0.85767,     0.85764,     0.85761,     0.85757,     0.85754,     0.85751,     0.85747,     0.85744,     0.85741,     0.85738,     0.85734,     0.85731,\n",
            "            0.85728,     0.85725,     0.85721,     0.85718,     0.85715,     0.85711,     0.85706,     0.85702,     0.85698,     0.85693,     0.85689,     0.85685,      0.8568,     0.85676,     0.85672,     0.85667,     0.85663,     0.85659,     0.85654,      0.8565,     0.85645,     0.85641,     0.85637,\n",
            "            0.85632,     0.85628,     0.85624,     0.85619,     0.85614,      0.8561,     0.85605,     0.85601,     0.85596,     0.85591,     0.85587,     0.85582,     0.85578,     0.85573,     0.85568,     0.85564,     0.85559,     0.85554,      0.8555,     0.85545,     0.85541,     0.85536,     0.85531,\n",
            "            0.85526,     0.85521,     0.85515,      0.8551,     0.85505,       0.855,     0.85495,     0.85489,     0.85484,     0.85479,     0.85474,     0.85469,     0.85464,     0.85458,     0.85453,     0.85448,     0.85442,     0.85407,     0.85372,      0.8537,      0.8542,      0.8547,      0.8552,\n",
            "             0.8557,      0.8562,      0.8567,     0.85721,     0.85771,     0.85821,     0.85871,     0.85889,     0.85872,     0.85855,     0.85838,      0.8582,     0.85804,     0.85793,     0.85781,      0.8577,     0.85758,     0.85746,     0.85735,     0.85723,     0.85712,     0.85703,     0.85694,\n",
            "            0.85685,     0.85676,     0.85667,     0.85658,     0.85649,      0.8564,     0.85631,     0.85622,     0.85603,     0.85584,     0.85565,     0.85545,     0.85526,     0.85523,      0.8552,     0.85517,     0.85514,     0.85511,     0.85508,     0.85505,     0.85502,     0.85499,     0.85496,\n",
            "            0.85493,      0.8549,     0.85487,     0.85484,     0.85481,     0.85478,     0.85475,     0.85472,     0.85469,     0.85466,     0.85463,      0.8546,     0.85457,     0.85454,     0.85451,     0.85448,     0.85445,     0.85442,     0.85439,     0.85436,     0.85433,     0.85423,     0.85398,\n",
            "            0.85374,     0.85349,      0.8533,      0.8532,     0.85309,     0.85299,     0.85289,     0.85279,     0.85269,     0.85259,     0.85249,     0.85238,     0.85247,     0.85266,     0.85284,     0.85303,     0.85322,      0.8534,     0.85359,     0.85378,     0.85396,     0.85415,     0.85434,\n",
            "            0.85452,     0.85471,      0.8549,     0.85509,     0.85527,     0.85546,     0.85565,     0.85583,     0.85602,     0.85621,     0.85639,     0.85658,     0.85677,     0.85695,     0.85714,     0.85733,     0.85751,      0.8577,     0.85789,     0.85807,     0.85791,     0.85767,     0.85743,\n",
            "             0.8572,     0.85606,     0.85592,     0.85579,     0.85565,     0.85552,     0.85538,     0.85525,     0.86149,     0.86239,     0.86328,     0.86418,     0.86507,     0.86596,     0.86686,     0.86696,     0.86671,     0.86645,      0.8662,     0.86648,     0.86677,     0.86706,     0.86735,\n",
            "            0.86764,     0.86793,     0.86822,     0.86851,      0.8688,     0.86909,     0.86938,     0.86967,     0.86996,     0.87025,     0.87054,     0.87082,     0.87111,      0.8714,     0.87169,     0.87198,     0.87227,     0.87202,     0.87161,     0.87079,      0.8704,     0.87026,     0.87012,\n",
            "            0.86999,     0.86985,     0.86971,     0.86957,     0.86912,     0.86866,      0.8674,     0.86712,     0.86684,     0.87295,     0.87222,     0.87325,     0.87438,     0.87551,     0.87665,     0.87778,     0.87876,     0.87852,     0.87827,     0.87803,      0.8778,     0.87761,     0.87743,\n",
            "            0.87724,     0.87705,     0.88277,      0.8836,     0.88348,     0.88336,     0.88324,     0.88311,     0.88299,     0.88287,     0.88274,      0.8826,     0.88247,     0.88234,      0.8822,     0.88207,     0.88194,     0.88173,     0.88149,     0.88124,       0.881,     0.88136,     0.88185,\n",
            "            0.88235,     0.88284,     0.88334,     0.88383,     0.88433,     0.88482,     0.88532,     0.88581,     0.88631,      0.8868,      0.8873,     0.88779,     0.88792,     0.88778,     0.88763,     0.88749,     0.88735,     0.88721,     0.88707,     0.88695,     0.88683,     0.88671,     0.88659,\n",
            "            0.88647,     0.88635,     0.88623,     0.88614,     0.88606,     0.88598,      0.8859,     0.88582,     0.88574,     0.88566,     0.88558,      0.8855,     0.88543,     0.88535,     0.88527,     0.88515,     0.88501,     0.88487,     0.88473,     0.88459,     0.88445,     0.88432,     0.89382,\n",
            "            0.89629,     0.89876,      0.8983,     0.89804,     0.89779,     0.89753,     0.89734,      0.8972,     0.89705,     0.89691,     0.89676,     0.89662,     0.89562,     0.89547,     0.89533,     0.89518,     0.89503,     0.89488,     0.89473,     0.89427,     0.89382,     0.89203,     0.89433,\n",
            "            0.89662,     0.89892,     0.89967,     0.89811,     0.89762,     0.89714,     0.89674,     0.89634,     0.89611,     0.89596,      0.8958,     0.89565,     0.89549,     0.89533,     0.90277,     0.89981,     0.89801,     0.89757,     0.89717,     0.89638,     0.89553,     0.89506,     0.89449,\n",
            "            0.89373,     0.88991,     0.88957,     0.88923,     0.88889,      0.8861,      0.8837,     0.88309,     0.88248,     0.88207,     0.88171,     0.88136,       0.881,     0.87492,     0.87459,     0.87427,     0.87395,     0.87363,      0.8723,     0.86974,     0.86928,     0.86882,     0.86823,\n",
            "            0.86666,     0.86591,     0.86515,     0.86668,      0.8696,     0.87253,     0.87545,     0.87658,     0.87633,     0.87609,     0.87585,     0.87561,     0.87537,     0.87513,     0.87341,     0.87094,     0.87043,     0.86992,     0.86741,     0.86661,     0.86581,     0.86538,     0.86503,\n",
            "            0.86467,     0.86432,     0.86397,     0.87752,     0.88701,     0.88678,     0.88559,     0.88415,     0.88193,     0.88063,     0.87972,     0.89232,     0.89109,     0.91226,     0.91478,     0.91458,     0.91437,     0.91417,     0.91397,     0.91377,     0.91356,     0.91336,     0.91316,\n",
            "            0.90975,     0.90667,     0.90484,     0.89953,     0.89015,     0.88646,     0.88418,     0.88192,     0.87898,     0.89825,      0.9019,     0.90047,     0.89907,     0.89769,     0.89649,     0.89613,     0.89577,     0.89541,     0.89505,      0.8947,     0.89434,     0.89398,     0.89362,\n",
            "            0.89326,     0.89291,     0.92524,     0.92362,      0.9217,     0.91876,     0.91248,     0.91168,     0.91087,     0.91006,     0.90926,     0.90276,     0.90016,     0.92448,     0.94729,     0.94598,     0.94467,     0.94016,     0.93893,      0.9377,     0.93054,     0.92439,     0.88783,\n",
            "            0.88435,     0.88087,     0.87738,     0.85488,      0.8477,     0.84052,     0.83334,           1,           1,           1,           1,           1,           1,           1,           1,           1,           1,           1,           1,           1,           1,           1,           1,\n",
            "                  1,           1,           1,           1,           1,           1,           1,           1,           1,           1,           1,           1,           1,           1,           1,           1,           1,           1,           1,           1,           1,           1,           1,\n",
            "                  1,           1,           1,           1,           1,           1,           1,           1,           1,           1,           1]]), 'Confidence', 'Precision'], [array([          0,    0.001001,    0.002002,    0.003003,    0.004004,    0.005005,    0.006006,    0.007007,    0.008008,    0.009009,     0.01001,    0.011011,    0.012012,    0.013013,    0.014014,    0.015015,    0.016016,    0.017017,    0.018018,    0.019019,     0.02002,    0.021021,    0.022022,    0.023023,\n",
            "          0.024024,    0.025025,    0.026026,    0.027027,    0.028028,    0.029029,     0.03003,    0.031031,    0.032032,    0.033033,    0.034034,    0.035035,    0.036036,    0.037037,    0.038038,    0.039039,     0.04004,    0.041041,    0.042042,    0.043043,    0.044044,    0.045045,    0.046046,    0.047047,\n",
            "          0.048048,    0.049049,     0.05005,    0.051051,    0.052052,    0.053053,    0.054054,    0.055055,    0.056056,    0.057057,    0.058058,    0.059059,     0.06006,    0.061061,    0.062062,    0.063063,    0.064064,    0.065065,    0.066066,    0.067067,    0.068068,    0.069069,     0.07007,    0.071071,\n",
            "          0.072072,    0.073073,    0.074074,    0.075075,    0.076076,    0.077077,    0.078078,    0.079079,     0.08008,    0.081081,    0.082082,    0.083083,    0.084084,    0.085085,    0.086086,    0.087087,    0.088088,    0.089089,     0.09009,    0.091091,    0.092092,    0.093093,    0.094094,    0.095095,\n",
            "          0.096096,    0.097097,    0.098098,    0.099099,      0.1001,      0.1011,      0.1021,      0.1031,      0.1041,     0.10511,     0.10611,     0.10711,     0.10811,     0.10911,     0.11011,     0.11111,     0.11211,     0.11311,     0.11411,     0.11512,     0.11612,     0.11712,     0.11812,     0.11912,\n",
            "           0.12012,     0.12112,     0.12212,     0.12312,     0.12412,     0.12513,     0.12613,     0.12713,     0.12813,     0.12913,     0.13013,     0.13113,     0.13213,     0.13313,     0.13413,     0.13514,     0.13614,     0.13714,     0.13814,     0.13914,     0.14014,     0.14114,     0.14214,     0.14314,\n",
            "           0.14414,     0.14515,     0.14615,     0.14715,     0.14815,     0.14915,     0.15015,     0.15115,     0.15215,     0.15315,     0.15415,     0.15516,     0.15616,     0.15716,     0.15816,     0.15916,     0.16016,     0.16116,     0.16216,     0.16316,     0.16416,     0.16517,     0.16617,     0.16717,\n",
            "           0.16817,     0.16917,     0.17017,     0.17117,     0.17217,     0.17317,     0.17417,     0.17518,     0.17618,     0.17718,     0.17818,     0.17918,     0.18018,     0.18118,     0.18218,     0.18318,     0.18418,     0.18519,     0.18619,     0.18719,     0.18819,     0.18919,     0.19019,     0.19119,\n",
            "           0.19219,     0.19319,     0.19419,      0.1952,      0.1962,      0.1972,      0.1982,      0.1992,      0.2002,      0.2012,      0.2022,      0.2032,      0.2042,     0.20521,     0.20621,     0.20721,     0.20821,     0.20921,     0.21021,     0.21121,     0.21221,     0.21321,     0.21421,     0.21522,\n",
            "           0.21622,     0.21722,     0.21822,     0.21922,     0.22022,     0.22122,     0.22222,     0.22322,     0.22422,     0.22523,     0.22623,     0.22723,     0.22823,     0.22923,     0.23023,     0.23123,     0.23223,     0.23323,     0.23423,     0.23524,     0.23624,     0.23724,     0.23824,     0.23924,\n",
            "           0.24024,     0.24124,     0.24224,     0.24324,     0.24424,     0.24525,     0.24625,     0.24725,     0.24825,     0.24925,     0.25025,     0.25125,     0.25225,     0.25325,     0.25425,     0.25526,     0.25626,     0.25726,     0.25826,     0.25926,     0.26026,     0.26126,     0.26226,     0.26326,\n",
            "           0.26426,     0.26527,     0.26627,     0.26727,     0.26827,     0.26927,     0.27027,     0.27127,     0.27227,     0.27327,     0.27427,     0.27528,     0.27628,     0.27728,     0.27828,     0.27928,     0.28028,     0.28128,     0.28228,     0.28328,     0.28428,     0.28529,     0.28629,     0.28729,\n",
            "           0.28829,     0.28929,     0.29029,     0.29129,     0.29229,     0.29329,     0.29429,      0.2953,      0.2963,      0.2973,      0.2983,      0.2993,      0.3003,      0.3013,      0.3023,      0.3033,      0.3043,     0.30531,     0.30631,     0.30731,     0.30831,     0.30931,     0.31031,     0.31131,\n",
            "           0.31231,     0.31331,     0.31431,     0.31532,     0.31632,     0.31732,     0.31832,     0.31932,     0.32032,     0.32132,     0.32232,     0.32332,     0.32432,     0.32533,     0.32633,     0.32733,     0.32833,     0.32933,     0.33033,     0.33133,     0.33233,     0.33333,     0.33433,     0.33534,\n",
            "           0.33634,     0.33734,     0.33834,     0.33934,     0.34034,     0.34134,     0.34234,     0.34334,     0.34434,     0.34535,     0.34635,     0.34735,     0.34835,     0.34935,     0.35035,     0.35135,     0.35235,     0.35335,     0.35435,     0.35536,     0.35636,     0.35736,     0.35836,     0.35936,\n",
            "           0.36036,     0.36136,     0.36236,     0.36336,     0.36436,     0.36537,     0.36637,     0.36737,     0.36837,     0.36937,     0.37037,     0.37137,     0.37237,     0.37337,     0.37437,     0.37538,     0.37638,     0.37738,     0.37838,     0.37938,     0.38038,     0.38138,     0.38238,     0.38338,\n",
            "           0.38438,     0.38539,     0.38639,     0.38739,     0.38839,     0.38939,     0.39039,     0.39139,     0.39239,     0.39339,     0.39439,      0.3954,      0.3964,      0.3974,      0.3984,      0.3994,      0.4004,      0.4014,      0.4024,      0.4034,      0.4044,     0.40541,     0.40641,     0.40741,\n",
            "           0.40841,     0.40941,     0.41041,     0.41141,     0.41241,     0.41341,     0.41441,     0.41542,     0.41642,     0.41742,     0.41842,     0.41942,     0.42042,     0.42142,     0.42242,     0.42342,     0.42442,     0.42543,     0.42643,     0.42743,     0.42843,     0.42943,     0.43043,     0.43143,\n",
            "           0.43243,     0.43343,     0.43443,     0.43544,     0.43644,     0.43744,     0.43844,     0.43944,     0.44044,     0.44144,     0.44244,     0.44344,     0.44444,     0.44545,     0.44645,     0.44745,     0.44845,     0.44945,     0.45045,     0.45145,     0.45245,     0.45345,     0.45445,     0.45546,\n",
            "           0.45646,     0.45746,     0.45846,     0.45946,     0.46046,     0.46146,     0.46246,     0.46346,     0.46446,     0.46547,     0.46647,     0.46747,     0.46847,     0.46947,     0.47047,     0.47147,     0.47247,     0.47347,     0.47447,     0.47548,     0.47648,     0.47748,     0.47848,     0.47948,\n",
            "           0.48048,     0.48148,     0.48248,     0.48348,     0.48448,     0.48549,     0.48649,     0.48749,     0.48849,     0.48949,     0.49049,     0.49149,     0.49249,     0.49349,     0.49449,      0.4955,      0.4965,      0.4975,      0.4985,      0.4995,      0.5005,      0.5015,      0.5025,      0.5035,\n",
            "            0.5045,     0.50551,     0.50651,     0.50751,     0.50851,     0.50951,     0.51051,     0.51151,     0.51251,     0.51351,     0.51451,     0.51552,     0.51652,     0.51752,     0.51852,     0.51952,     0.52052,     0.52152,     0.52252,     0.52352,     0.52452,     0.52553,     0.52653,     0.52753,\n",
            "           0.52853,     0.52953,     0.53053,     0.53153,     0.53253,     0.53353,     0.53453,     0.53554,     0.53654,     0.53754,     0.53854,     0.53954,     0.54054,     0.54154,     0.54254,     0.54354,     0.54454,     0.54555,     0.54655,     0.54755,     0.54855,     0.54955,     0.55055,     0.55155,\n",
            "           0.55255,     0.55355,     0.55455,     0.55556,     0.55656,     0.55756,     0.55856,     0.55956,     0.56056,     0.56156,     0.56256,     0.56356,     0.56456,     0.56557,     0.56657,     0.56757,     0.56857,     0.56957,     0.57057,     0.57157,     0.57257,     0.57357,     0.57457,     0.57558,\n",
            "           0.57658,     0.57758,     0.57858,     0.57958,     0.58058,     0.58158,     0.58258,     0.58358,     0.58458,     0.58559,     0.58659,     0.58759,     0.58859,     0.58959,     0.59059,     0.59159,     0.59259,     0.59359,     0.59459,      0.5956,      0.5966,      0.5976,      0.5986,      0.5996,\n",
            "            0.6006,      0.6016,      0.6026,      0.6036,      0.6046,     0.60561,     0.60661,     0.60761,     0.60861,     0.60961,     0.61061,     0.61161,     0.61261,     0.61361,     0.61461,     0.61562,     0.61662,     0.61762,     0.61862,     0.61962,     0.62062,     0.62162,     0.62262,     0.62362,\n",
            "           0.62462,     0.62563,     0.62663,     0.62763,     0.62863,     0.62963,     0.63063,     0.63163,     0.63263,     0.63363,     0.63463,     0.63564,     0.63664,     0.63764,     0.63864,     0.63964,     0.64064,     0.64164,     0.64264,     0.64364,     0.64464,     0.64565,     0.64665,     0.64765,\n",
            "           0.64865,     0.64965,     0.65065,     0.65165,     0.65265,     0.65365,     0.65465,     0.65566,     0.65666,     0.65766,     0.65866,     0.65966,     0.66066,     0.66166,     0.66266,     0.66366,     0.66466,     0.66567,     0.66667,     0.66767,     0.66867,     0.66967,     0.67067,     0.67167,\n",
            "           0.67267,     0.67367,     0.67467,     0.67568,     0.67668,     0.67768,     0.67868,     0.67968,     0.68068,     0.68168,     0.68268,     0.68368,     0.68468,     0.68569,     0.68669,     0.68769,     0.68869,     0.68969,     0.69069,     0.69169,     0.69269,     0.69369,     0.69469,      0.6957,\n",
            "            0.6967,      0.6977,      0.6987,      0.6997,      0.7007,      0.7017,      0.7027,      0.7037,      0.7047,     0.70571,     0.70671,     0.70771,     0.70871,     0.70971,     0.71071,     0.71171,     0.71271,     0.71371,     0.71471,     0.71572,     0.71672,     0.71772,     0.71872,     0.71972,\n",
            "           0.72072,     0.72172,     0.72272,     0.72372,     0.72472,     0.72573,     0.72673,     0.72773,     0.72873,     0.72973,     0.73073,     0.73173,     0.73273,     0.73373,     0.73473,     0.73574,     0.73674,     0.73774,     0.73874,     0.73974,     0.74074,     0.74174,     0.74274,     0.74374,\n",
            "           0.74474,     0.74575,     0.74675,     0.74775,     0.74875,     0.74975,     0.75075,     0.75175,     0.75275,     0.75375,     0.75475,     0.75576,     0.75676,     0.75776,     0.75876,     0.75976,     0.76076,     0.76176,     0.76276,     0.76376,     0.76476,     0.76577,     0.76677,     0.76777,\n",
            "           0.76877,     0.76977,     0.77077,     0.77177,     0.77277,     0.77377,     0.77477,     0.77578,     0.77678,     0.77778,     0.77878,     0.77978,     0.78078,     0.78178,     0.78278,     0.78378,     0.78478,     0.78579,     0.78679,     0.78779,     0.78879,     0.78979,     0.79079,     0.79179,\n",
            "           0.79279,     0.79379,     0.79479,      0.7958,      0.7968,      0.7978,      0.7988,      0.7998,      0.8008,      0.8018,      0.8028,      0.8038,      0.8048,     0.80581,     0.80681,     0.80781,     0.80881,     0.80981,     0.81081,     0.81181,     0.81281,     0.81381,     0.81481,     0.81582,\n",
            "           0.81682,     0.81782,     0.81882,     0.81982,     0.82082,     0.82182,     0.82282,     0.82382,     0.82482,     0.82583,     0.82683,     0.82783,     0.82883,     0.82983,     0.83083,     0.83183,     0.83283,     0.83383,     0.83483,     0.83584,     0.83684,     0.83784,     0.83884,     0.83984,\n",
            "           0.84084,     0.84184,     0.84284,     0.84384,     0.84484,     0.84585,     0.84685,     0.84785,     0.84885,     0.84985,     0.85085,     0.85185,     0.85285,     0.85385,     0.85485,     0.85586,     0.85686,     0.85786,     0.85886,     0.85986,     0.86086,     0.86186,     0.86286,     0.86386,\n",
            "           0.86486,     0.86587,     0.86687,     0.86787,     0.86887,     0.86987,     0.87087,     0.87187,     0.87287,     0.87387,     0.87487,     0.87588,     0.87688,     0.87788,     0.87888,     0.87988,     0.88088,     0.88188,     0.88288,     0.88388,     0.88488,     0.88589,     0.88689,     0.88789,\n",
            "           0.88889,     0.88989,     0.89089,     0.89189,     0.89289,     0.89389,     0.89489,      0.8959,      0.8969,      0.8979,      0.8989,      0.8999,      0.9009,      0.9019,      0.9029,      0.9039,      0.9049,     0.90591,     0.90691,     0.90791,     0.90891,     0.90991,     0.91091,     0.91191,\n",
            "           0.91291,     0.91391,     0.91491,     0.91592,     0.91692,     0.91792,     0.91892,     0.91992,     0.92092,     0.92192,     0.92292,     0.92392,     0.92492,     0.92593,     0.92693,     0.92793,     0.92893,     0.92993,     0.93093,     0.93193,     0.93293,     0.93393,     0.93493,     0.93594,\n",
            "           0.93694,     0.93794,     0.93894,     0.93994,     0.94094,     0.94194,     0.94294,     0.94394,     0.94494,     0.94595,     0.94695,     0.94795,     0.94895,     0.94995,     0.95095,     0.95195,     0.95295,     0.95395,     0.95495,     0.95596,     0.95696,     0.95796,     0.95896,     0.95996,\n",
            "           0.96096,     0.96196,     0.96296,     0.96396,     0.96496,     0.96597,     0.96697,     0.96797,     0.96897,     0.96997,     0.97097,     0.97197,     0.97297,     0.97397,     0.97497,     0.97598,     0.97698,     0.97798,     0.97898,     0.97998,     0.98098,     0.98198,     0.98298,     0.98398,\n",
            "           0.98498,     0.98599,     0.98699,     0.98799,     0.98899,     0.98999,     0.99099,     0.99199,     0.99299,     0.99399,     0.99499,       0.996,       0.997,       0.998,       0.999,           1]), array([[    0.97076,     0.97076,     0.96491,     0.94737,     0.94737,     0.94152,     0.94152,     0.94152,     0.94152,     0.94152,     0.94152,     0.94152,     0.94152,     0.94152,     0.94152,     0.94152,     0.94152,     0.94152,     0.94152,     0.94152,     0.94152,     0.94152,     0.94152,\n",
            "            0.94152,     0.94152,     0.93567,     0.93567,     0.93567,     0.93567,     0.93567,     0.93567,     0.93567,     0.93567,     0.93567,     0.93567,     0.93567,     0.93567,     0.92982,     0.92982,     0.92982,     0.92756,     0.92494,     0.91813,     0.91228,     0.90058,     0.90058,\n",
            "            0.90058,     0.90058,     0.90058,     0.90058,     0.90058,     0.90058,     0.90058,     0.90058,     0.90058,     0.90058,     0.90058,     0.90058,     0.90058,     0.90058,     0.90058,     0.90058,     0.89474,     0.89474,     0.89474,     0.89474,     0.89474,     0.89474,     0.89474,\n",
            "            0.89474,     0.89474,     0.89408,     0.89328,     0.89248,     0.89168,     0.89088,     0.89009,     0.88929,     0.88889,     0.88889,     0.88889,     0.88889,      0.8887,     0.88754,     0.88637,     0.88521,     0.88405,     0.88304,     0.88304,     0.88304,     0.88304,     0.88304,\n",
            "            0.88304,     0.88304,     0.88304,     0.88304,     0.88304,     0.88304,     0.88282,     0.88208,     0.88135,     0.88061,     0.87987,     0.87913,     0.87839,     0.87765,     0.87719,     0.87719,     0.87719,     0.87719,     0.87719,     0.87719,     0.87063,     0.86948,     0.86832,\n",
            "            0.86716,       0.866,      0.8655,      0.8655,      0.8655,      0.8655,      0.8655,      0.8655,      0.8655,      0.8655,      0.8655,      0.8655,      0.8655,      0.8655,      0.8655,      0.8655,      0.8655,      0.8655,      0.8655,      0.8655,      0.8655,      0.8655,      0.8655,\n",
            "             0.8655,      0.8655,      0.8655,      0.8655,      0.8655,      0.8655,      0.8655,      0.8595,     0.85927,     0.85904,     0.85881,     0.85857,     0.85834,     0.85811,     0.85788,     0.85765,     0.85741,     0.85718,     0.85695,     0.85672,     0.85649,     0.85625,     0.85602,\n",
            "            0.85579,     0.85556,     0.85533,      0.8551,     0.85486,     0.85463,      0.8544,     0.85417,     0.85394,      0.8538,      0.8538,      0.8538,      0.8538,      0.8538,      0.8538,      0.8538,      0.8538,      0.8538,      0.8538,      0.8538,      0.8538,      0.8538,      0.8538,\n",
            "             0.8538,      0.8538,      0.8538,      0.8538,      0.8538,      0.8538,      0.8538,      0.8538,      0.8538,      0.8538,      0.8538,      0.8538,      0.8538,      0.8538,      0.8538,      0.8538,     0.85369,     0.85339,      0.8531,      0.8528,      0.8525,      0.8522,     0.85191,\n",
            "            0.85161,     0.85131,     0.85101,     0.85072,     0.85042,     0.85012,     0.84982,     0.84953,     0.84923,     0.84893,     0.84863,     0.84834,     0.84804,     0.84795,     0.84795,     0.84795,     0.84795,     0.84795,     0.84795,     0.84795,     0.84795,     0.84795,     0.84795,\n",
            "            0.84795,     0.84795,     0.84795,     0.84795,     0.84795,     0.84795,     0.84795,     0.84795,     0.84795,     0.84795,     0.84795,     0.84795,     0.84795,     0.84795,     0.84795,     0.84795,     0.84795,     0.84795,     0.84795,     0.84795,     0.84795,     0.84795,     0.84795,\n",
            "            0.84795,     0.84795,     0.84795,     0.84795,     0.84795,     0.84795,     0.84795,     0.84795,     0.84795,     0.84795,     0.84795,     0.84795,     0.84795,     0.84795,     0.84795,     0.84795,     0.84795,     0.84795,     0.84795,     0.84795,     0.84789,     0.84767,     0.84745,\n",
            "            0.84723,     0.84701,     0.84679,     0.84657,     0.84635,     0.84613,     0.84591,     0.84569,     0.84547,     0.84525,     0.84503,     0.84481,     0.84459,     0.84437,     0.84415,     0.84393,     0.84371,     0.84349,     0.84327,     0.84305,     0.84283,     0.84261,     0.84239,\n",
            "            0.84217,     0.83626,     0.83626,     0.83626,     0.83626,     0.83626,     0.83626,     0.83626,     0.83626,     0.83626,     0.83626,     0.83626,     0.83626,     0.83626,     0.83626,     0.83626,     0.83626,     0.83626,     0.83626,     0.83626,     0.83626,     0.83626,     0.83626,\n",
            "            0.83626,     0.83626,     0.83626,     0.83626,     0.83626,     0.83626,     0.83626,     0.83626,     0.83626,     0.83626,     0.83626,     0.83626,     0.83626,     0.83626,     0.83626,     0.83626,     0.83626,     0.83626,     0.83626,     0.83626,     0.83626,     0.83626,     0.83626,\n",
            "            0.83626,     0.83626,     0.83626,     0.83626,     0.83626,     0.83626,     0.83626,     0.83626,     0.83626,     0.83626,     0.83626,     0.83626,     0.83626,     0.83626,     0.83626,     0.83626,     0.83626,     0.83626,     0.83626,     0.83626,     0.83626,     0.83626,     0.83626,\n",
            "            0.83626,     0.83626,     0.83626,     0.83626,     0.83626,     0.83626,     0.83626,     0.83626,     0.83626,     0.83626,     0.83626,     0.83626,     0.83626,     0.83626,     0.83626,     0.83626,     0.83626,     0.83626,     0.83626,     0.83626,     0.83626,     0.83626,     0.83626,\n",
            "            0.83626,     0.82923,     0.82778,     0.82633,     0.82487,      0.8185,     0.81822,     0.81795,     0.81767,      0.8174,     0.81713,     0.81685,     0.81658,      0.8163,     0.81603,     0.81575,     0.81548,     0.81521,     0.81493,     0.81466,     0.81438,     0.81411,     0.81383,\n",
            "            0.81356,     0.81328,     0.81301,     0.81287,     0.81287,     0.81287,     0.81287,     0.81287,     0.81287,     0.81287,     0.81287,     0.81287,     0.81287,     0.81287,     0.81287,     0.81287,     0.81287,     0.81287,     0.81287,     0.81287,     0.81287,     0.81287,     0.81287,\n",
            "            0.81287,      0.8127,     0.81248,     0.81226,     0.81204,     0.81183,     0.81161,     0.81139,     0.81117,     0.81096,     0.81074,     0.81052,     0.81031,     0.81009,     0.80987,     0.80965,     0.80944,     0.80922,       0.809,     0.80879,     0.80857,     0.80835,     0.80813,\n",
            "            0.80792,      0.8077,     0.80748,     0.80726,     0.80705,     0.80677,     0.80649,      0.8062,     0.80592,     0.80564,     0.80535,     0.80507,     0.80478,      0.8045,     0.80422,     0.80393,     0.80365,     0.80336,     0.80308,      0.8028,     0.80251,     0.80223,     0.80194,\n",
            "            0.80166,     0.80138,     0.80109,     0.80079,     0.80049,     0.80019,     0.79989,     0.79959,     0.79929,     0.79899,      0.7987,      0.7984,      0.7981,      0.7978,      0.7975,      0.7972,      0.7969,      0.7966,      0.7963,       0.796,     0.79571,     0.79541,     0.79508,\n",
            "            0.79475,     0.79442,     0.79409,     0.79376,     0.79343,      0.7931,     0.79277,     0.79244,     0.79211,     0.79178,     0.79145,     0.79112,     0.79079,     0.79046,     0.79013,      0.7898,     0.78943,     0.78721,     0.78499,     0.78363,     0.78363,     0.78363,     0.78363,\n",
            "            0.78363,     0.78363,     0.78363,     0.78363,     0.78363,     0.78363,     0.78363,      0.7831,       0.782,     0.78089,     0.77979,     0.77868,     0.77764,     0.77691,     0.77617,     0.77543,      0.7747,     0.77396,     0.77322,     0.77249,     0.77179,     0.77123,     0.77066,\n",
            "             0.7701,     0.76953,     0.76896,      0.7684,     0.76783,     0.76727,      0.7667,     0.76614,       0.765,      0.7638,     0.76261,     0.76141,     0.76023,     0.76005,     0.75986,     0.75968,     0.75949,     0.75931,     0.75912,     0.75894,     0.75876,     0.75857,     0.75839,\n",
            "             0.7582,     0.75802,     0.75783,     0.75765,     0.75746,     0.75728,      0.7571,     0.75691,     0.75673,     0.75654,     0.75636,     0.75617,     0.75599,      0.7558,     0.75562,     0.75544,     0.75525,     0.75507,     0.75488,      0.7547,     0.75451,     0.75393,     0.75245,\n",
            "            0.75096,     0.74948,     0.74832,     0.74772,     0.74712,     0.74651,     0.74591,     0.74531,     0.74471,     0.74411,      0.7435,      0.7429,     0.74269,     0.74269,     0.74269,     0.74269,     0.74269,     0.74269,     0.74269,     0.74269,     0.74269,     0.74269,     0.74269,\n",
            "            0.74269,     0.74269,     0.74269,     0.74269,     0.74269,     0.74269,     0.74269,     0.74269,     0.74269,     0.74269,     0.74269,     0.74269,     0.74269,     0.74269,     0.74269,     0.74269,     0.74269,     0.74269,     0.74269,     0.74269,     0.74151,     0.74006,     0.73861,\n",
            "            0.73716,     0.73037,     0.72958,     0.72878,     0.72799,     0.72719,      0.7264,      0.7256,     0.72515,     0.72515,     0.72515,     0.72515,     0.72515,     0.72515,     0.72515,     0.72406,     0.72248,      0.7209,     0.71933,      0.7193,      0.7193,      0.7193,      0.7193,\n",
            "             0.7193,      0.7193,      0.7193,      0.7193,      0.7193,      0.7193,      0.7193,      0.7193,      0.7193,      0.7193,      0.7193,      0.7193,      0.7193,      0.7193,      0.7193,      0.7193,      0.7193,     0.71726,     0.71459,      0.7094,     0.70696,      0.7061,     0.70524,\n",
            "            0.70438,     0.70352,     0.70266,      0.7018,     0.69905,     0.69621,     0.68857,     0.68692,     0.68526,     0.68308,     0.67863,     0.67836,     0.67836,     0.67836,     0.67836,     0.67836,     0.67819,     0.67665,     0.67511,     0.67357,     0.67215,     0.67097,      0.6698,\n",
            "            0.66863,     0.66745,     0.66667,     0.66592,     0.66513,     0.66433,     0.66354,     0.66275,     0.66196,     0.66116,     0.66034,      0.6595,     0.65865,      0.6578,     0.65696,     0.65611,     0.65527,     0.65398,     0.65246,     0.65093,     0.64941,     0.64912,     0.64912,\n",
            "            0.64912,     0.64912,     0.64912,     0.64912,     0.64912,     0.64912,     0.64912,     0.64912,     0.64912,     0.64912,     0.64912,     0.64912,     0.64859,     0.64767,     0.64675,     0.64583,     0.64491,     0.64399,      0.6431,     0.64234,     0.64158,     0.64082,     0.64006,\n",
            "             0.6393,     0.63853,     0.63777,     0.63716,     0.63666,     0.63617,     0.63567,     0.63518,     0.63469,     0.63419,      0.6337,      0.6332,     0.63271,     0.63221,     0.63172,     0.63097,     0.63011,     0.62926,      0.6284,     0.62755,      0.6267,     0.62584,     0.62573,\n",
            "            0.62573,     0.62573,     0.61983,     0.61811,     0.61639,     0.61466,     0.61343,     0.61247,     0.61151,     0.61055,     0.60959,     0.60863,     0.60214,      0.6012,     0.60025,     0.59931,     0.59837,     0.59743,     0.59647,     0.59359,     0.59071,     0.57895,     0.57895,\n",
            "            0.57895,     0.57895,     0.57682,     0.56703,     0.56401,     0.56107,     0.55865,     0.55623,     0.55489,     0.55397,     0.55304,     0.55212,      0.5512,     0.55027,     0.54301,     0.52519,      0.5149,     0.51246,     0.51023,     0.50589,     0.50131,     0.49877,     0.49578,\n",
            "            0.49183,     0.47273,      0.4711,     0.46948,     0.46785,     0.45497,     0.44435,     0.44175,     0.43915,     0.43742,     0.43593,     0.43443,     0.43294,     0.40904,     0.40786,     0.40667,     0.40549,      0.4043,      0.3995,     0.39048,     0.38891,     0.38734,     0.38534,\n",
            "            0.38011,     0.37766,      0.3752,     0.37427,     0.37427,     0.37427,     0.37427,      0.3738,     0.37298,     0.37215,     0.37133,     0.37051,     0.36969,     0.36886,     0.36315,      0.3552,      0.3536,       0.352,     0.34431,     0.34195,     0.33958,     0.33834,     0.33732,\n",
            "            0.33631,      0.3353,     0.33428,     0.33333,     0.33333,     0.32065,     0.31687,     0.31245,     0.30579,       0.302,     0.29943,     0.29077,      0.2871,     0.26901,      0.2511,     0.25046,     0.24982,     0.24918,     0.24854,     0.24789,     0.24725,     0.24661,     0.24597,\n",
            "            0.23582,     0.22725,     0.22242,     0.20946,     0.18959,     0.18265,     0.17862,     0.17472,     0.16991,     0.16374,     0.16134,     0.15874,     0.15632,     0.15397,     0.15195,     0.15138,     0.15081,     0.15024,     0.14968,     0.14911,     0.14854,     0.14798,     0.14741,\n",
            "            0.14684,     0.14628,     0.14479,     0.14147,     0.13773,     0.13233,     0.12198,     0.12078,     0.11959,      0.1184,      0.1172,     0.10865,     0.10526,     0.10526,     0.10511,     0.10248,     0.09986,    0.091945,    0.089992,    0.088039,    0.078436,    0.071575,    0.046338,\n",
            "           0.044871,    0.043405,    0.041939,    0.034531,    0.032768,    0.031005,    0.029242,    0.026868,    0.024095,    0.016518,    0.015143,    0.013768,    0.012393,    0.011388,    0.010763,    0.010139,   0.0095142,   0.0088896,   0.0082651,   0.0076406,    0.007016,   0.0063915,           0,\n",
            "                  0,           0,           0,           0,           0,           0,           0,           0,           0,           0,           0,           0,           0,           0,           0,           0,           0,           0,           0,           0,           0,           0,           0,\n",
            "                  0,           0,           0,           0,           0,           0,           0,           0,           0,           0,           0]]), 'Confidence', 'Recall']]\n",
            "fitness: 0.7387655808584209\n",
            "keys: ['metrics/precision(B)', 'metrics/recall(B)', 'metrics/mAP50(B)', 'metrics/mAP50-95(B)']\n",
            "maps: array([    0.72555,     0.72555])\n",
            "names: {0: 'tumor', 1: 'no_tumor'}\n",
            "plot: True\n",
            "results_dict: {'metrics/precision(B)': 0.8355586591844996, 'metrics/recall(B)': 0.847953216374269, 'metrics/mAP50(B)': 0.8577097618768551, 'metrics/mAP50-95(B)': 0.7255495607452616, 'fitness': 0.7387655808584209}\n",
            "save_dir: PosixPath('runs/detect/brain_tumor_nano4')\n",
            "speed: {'preprocess': 1.163026721207137, 'inference': 5.553000981045752, 'loss': 0.0033722710363643686, 'postprocess': 5.658909217598512}\n",
            "task: 'detect'\n"
          ]
        }
      ]
    },
    {
      "cell_type": "code",
      "source": [
        "# Results dictionary for YOLOv8 Nano (based on your given data)\n",
        "results_dict = {\n",
        "    'metrics/precision(B)': 0.8355586591844996,\n",
        "    'metrics/recall(B)': 0.847953216374269,\n",
        "    'metrics/mAP50(B)': 0.8577097618768551,\n",
        "    'metrics/mAP50-95(B)': 0.7255495607452616,\n",
        "    'fitness': 0.7387655808584209\n",
        "}\n",
        "\n",
        "# Extract precision and recall from the dictionary\n",
        "precision = results_dict['metrics/precision(B)']\n",
        "recall = results_dict['metrics/recall(B)']\n",
        "\n",
        "# Calculate accuracy\n",
        "accuracy = (precision + recall) / 2\n",
        "\n",
        "# Print the accuracy\n",
        "print(f\"YOLOv8 Nano Accuracy: {accuracy:.4f}\")\n"
      ],
      "metadata": {
        "colab": {
          "base_uri": "https://localhost:8080/"
        },
        "id": "fRBdIK2RhbfJ",
        "outputId": "4cebbde1-4765-4853-98dc-783f3e889400"
      },
      "execution_count": null,
      "outputs": [
        {
          "output_type": "stream",
          "name": "stdout",
          "text": [
            "YOLOv8 Nano Accuracy: 0.8418\n"
          ]
        }
      ]
    },
    {
      "cell_type": "code",
      "source": [],
      "metadata": {
        "id": "Wkmtbey-D4Sc"
      },
      "execution_count": null,
      "outputs": []
    }
  ]
}